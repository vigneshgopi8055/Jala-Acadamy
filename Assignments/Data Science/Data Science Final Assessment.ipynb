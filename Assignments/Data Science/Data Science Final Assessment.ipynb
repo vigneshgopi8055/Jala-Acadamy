{
 "cells": [
  {
   "cell_type": "markdown",
   "id": "30ce870e-8a37-4179-ac4c-4fa654666ace",
   "metadata": {},
   "source": [
    "# Basic Array Operations"
   ]
  },
  {
   "cell_type": "markdown",
   "id": "592b259e-3362-48de-86bd-31f44d6b5edc",
   "metadata": {},
   "source": [
    "### 1. Create a 3x3 array filled with random integers between 0 and 10. Calculate the sum, mean, and standard deviation of the array."
   ]
  },
  {
   "cell_type": "code",
   "execution_count": 11,
   "id": "3bd336de-2b07-4a23-922a-210bde57a350",
   "metadata": {},
   "outputs": [
    {
     "name": "stdout",
     "output_type": "stream",
     "text": [
      "Array:\n",
      " [[ 6  6  7]\n",
      " [ 2  9 10]\n",
      " [ 7  4  3]]\n",
      "Sum: 54\n",
      "Mean: 6.0\n",
      "Standard Deviation: 2.494438257849294\n"
     ]
    }
   ],
   "source": [
    "import numpy as np\n",
    "array = np.random.randint(0, 11, size=(3, 3))\n",
    "\n",
    "total_sum = np.sum(array)\n",
    "mean_value = np.mean(array)\n",
    "std_deviation = np.std(array)\n",
    "\n",
    "print(\"Array:\\n\", array)\n",
    "print(\"Sum:\", total_sum)\n",
    "print(\"Mean:\", mean_value)\n",
    "print(\"Standard Deviation:\", std_deviation)\n"
   ]
  },
  {
   "cell_type": "markdown",
   "id": "e4b57f08-6853-4a6d-9c39-6e96158c1a79",
   "metadata": {},
   "source": [
    "### 2. Create a 1D array of 10 elements and compute the cumulative sum of the elements"
   ]
  },
  {
   "cell_type": "code",
   "execution_count": 17,
   "id": "f6ff636d-cec0-4397-9f48-06ba74365262",
   "metadata": {},
   "outputs": [
    {
     "name": "stdout",
     "output_type": "stream",
     "text": [
      "Array: [2 7 4 7 3 5 8 5 6 9]\n",
      "Cumulative Sum: [ 2  9 13 20 23 28 36 41 47 56]\n"
     ]
    }
   ],
   "source": [
    "import numpy as np\n",
    "array = np.random.randint(0, 11, size=10)\n",
    "cumulative_sum = np.cumsum(array)\n",
    "print(\"Array:\", array)\n",
    "print(\"Cumulative Sum:\", cumulative_sum)"
   ]
  },
  {
   "cell_type": "markdown",
   "id": "2e84d2f1-cfb3-4ec7-bb79-2851a96b988c",
   "metadata": {},
   "source": [
    "### 3. Generate two 2x3 arrays with random integers and perform element-wise addition, subtraction, multiplication, and division."
   ]
  },
  {
   "cell_type": "code",
   "execution_count": 20,
   "id": "ac1d7d02-3a0e-405a-8d5b-00a4305cbbe3",
   "metadata": {},
   "outputs": [
    {
     "name": "stdout",
     "output_type": "stream",
     "text": [
      "Array 1:\n",
      " [[ 2 10  1]\n",
      " [ 5 10  2]]\n",
      "Array 2:\n",
      " [[2 8 5]\n",
      " [1 6 1]]\n",
      "Addition:\n",
      " [[ 4 18  6]\n",
      " [ 6 16  3]]\n",
      "Subtraction:\n",
      " [[ 0  2 -4]\n",
      " [ 4  4  1]]\n",
      "Multiplication:\n",
      " [[ 4 80  5]\n",
      " [ 5 60  2]]\n",
      "Division:\n",
      " [[1.         1.25       0.2       ]\n",
      " [5.         1.66666667 2.        ]]\n"
     ]
    }
   ],
   "source": [
    "import numpy as np\n",
    "array1 = np.random.randint(1, 11, size=(2, 3))\n",
    "array2 = np.random.randint(1, 11, size=(2, 3))\n",
    "addition = array1 + array2\n",
    "subtraction = array1 - array2\n",
    "multiplication = array1 * array2\n",
    "division = array1 / array2 \n",
    "print(\"Array 1:\\n\", array1)\n",
    "print(\"Array 2:\\n\", array2)\n",
    "print(\"Addition:\\n\", addition)\n",
    "print(\"Subtraction:\\n\", subtraction)\n",
    "print(\"Multiplication:\\n\", multiplication)\n",
    "print(\"Division:\\n\", division)\n"
   ]
  },
  {
   "cell_type": "markdown",
   "id": "7c79f36f-9b4a-4520-b895-7ed2a1b345e6",
   "metadata": {},
   "source": [
    "### 4. Create a 4x4 identity matrix."
   ]
  },
  {
   "cell_type": "code",
   "execution_count": 23,
   "id": "b21026b4-2666-40b7-b357-0093028aa571",
   "metadata": {},
   "outputs": [
    {
     "name": "stdout",
     "output_type": "stream",
     "text": [
      "4x4 Identity Matrix:\n",
      " [[1. 0. 0. 0.]\n",
      " [0. 1. 0. 0.]\n",
      " [0. 0. 1. 0.]\n",
      " [0. 0. 0. 1.]]\n"
     ]
    }
   ],
   "source": [
    "import numpy as np\n",
    "identity_matrix = np.identity(4)\n",
    "print(\"4x4 Identity Matrix:\\n\", identity_matrix)"
   ]
  },
  {
   "cell_type": "markdown",
   "id": "fd4a3746-2d29-44ac-80c0-260fea42a24d",
   "metadata": {},
   "source": [
    "### 5. Given an array a = np.array([5, 10, 15, 20, 25]), divide each element by 5 using broadcasting"
   ]
  },
  {
   "cell_type": "code",
   "execution_count": 30,
   "id": "8c1547e4-fca1-4706-a11e-6c0ff818ddbd",
   "metadata": {},
   "outputs": [
    {
     "name": "stdout",
     "output_type": "stream",
     "text": [
      "Original array: [ 5 10 15 20 25]\n",
      "Divided by 5: [1. 2. 3. 4. 5.]\n"
     ]
    }
   ],
   "source": [
    "import numpy as np\n",
    "a = np.array([5, 10, 15, 20, 25])\n",
    "result = a / 5\n",
    "print(\"Original array:\", a)\n",
    "print(\"Divided by 5:\", result)\n"
   ]
  },
  {
   "cell_type": "markdown",
   "id": "1e59175f-1c31-43d4-82c4-3f6ae93733e8",
   "metadata": {},
   "source": [
    "# Array Manipulation"
   ]
  },
  {
   "cell_type": "markdown",
   "id": "804d6e29-2044-428e-beba-7e9331334ee1",
   "metadata": {},
   "source": [
    "### 6. Reshape a 1D array of 12 elements into a 3x4 matrix"
   ]
  },
  {
   "cell_type": "code",
   "execution_count": 40,
   "id": "609d8b2a-45be-43a9-984d-72bfc8bd45b4",
   "metadata": {},
   "outputs": [
    {
     "name": "stdout",
     "output_type": "stream",
     "text": [
      "1D Array: [ 0  1  2  3  4  5  6  7  8  9 10 11]\n",
      "Reshaped 3x4 Matrix:\n",
      " [[ 0  1  2  3]\n",
      " [ 4  5  6  7]\n",
      " [ 8  9 10 11]]\n"
     ]
    }
   ],
   "source": [
    "import numpy as np\n",
    "array_1d = np.arange(12)\n",
    "matrix_3x4 = array_1d.reshape(3, 4)\n",
    "print(\"1D Array:\", array_1d)\n",
    "print(\"Reshaped 3x4 Matrix:\\n\", matrix_3x4)\n"
   ]
  },
  {
   "cell_type": "markdown",
   "id": "cc9c683a-bfd3-4215-875b-46b377ffe570",
   "metadata": {},
   "source": [
    "### 7. Flatten a 3x3 matrix into a 1D array"
   ]
  },
  {
   "cell_type": "code",
   "execution_count": 43,
   "id": "46a22008-1dc6-48db-8a46-50e4ba6c6cf2",
   "metadata": {},
   "outputs": [
    {
     "name": "stdout",
     "output_type": "stream",
     "text": [
      "3x3 Matrix:\n",
      " [[1 2 3]\n",
      " [4 5 6]\n",
      " [7 8 9]]\n",
      "Flattened 1D Array: [1 2 3 4 5 6 7 8 9]\n"
     ]
    }
   ],
   "source": [
    "import numpy as np\n",
    "matrix_3x3 = np.array([[1, 2, 3],\n",
    "                       [4, 5, 6],\n",
    "                       [7, 8, 9]])\n",
    "\n",
    "flattened_array = matrix_3x3.flatten()\n",
    "\n",
    "print(\"3x3 Matrix:\\n\", matrix_3x3)\n",
    "print(\"Flattened 1D Array:\", flattened_array)\n"
   ]
  },
  {
   "cell_type": "markdown",
   "id": "af38a246-b83b-4ed3-a54c-866e697c0549",
   "metadata": {},
   "source": [
    "### 8. Stack two 3x3 matrices horizontally and vertically"
   ]
  },
  {
   "cell_type": "code",
   "execution_count": 46,
   "id": "117353e9-28c0-4bf6-bcfc-7e80bbccf59e",
   "metadata": {},
   "outputs": [
    {
     "name": "stdout",
     "output_type": "stream",
     "text": [
      "Matrix 1:\n",
      " [[1 2 3]\n",
      " [4 5 6]\n",
      " [7 8 9]]\n",
      "Matrix 2:\n",
      " [[9 8 7]\n",
      " [6 5 4]\n",
      " [3 2 1]]\n",
      "\n",
      "Horizontally Stacked:\n",
      " [[1 2 3 9 8 7]\n",
      " [4 5 6 6 5 4]\n",
      " [7 8 9 3 2 1]]\n",
      "\n",
      "Vertically Stacked:\n",
      " [[1 2 3]\n",
      " [4 5 6]\n",
      " [7 8 9]\n",
      " [9 8 7]\n",
      " [6 5 4]\n",
      " [3 2 1]]\n"
     ]
    }
   ],
   "source": [
    "import numpy as np\n",
    "matrix1 = np.array([[1, 2, 3],\n",
    "                    [4, 5, 6],\n",
    "                    [7, 8, 9]])\n",
    "\n",
    "matrix2 = np.array([[9, 8, 7],\n",
    "                    [6, 5, 4],\n",
    "                    [3, 2, 1]])\n",
    "\n",
    "h_stack = np.hstack((matrix1, matrix2))\n",
    "\n",
    "v_stack = np.vstack((matrix1, matrix2))\n",
    "\n",
    "print(\"Matrix 1:\\n\", matrix1)\n",
    "print(\"Matrix 2:\\n\", matrix2)\n",
    "print(\"\\nHorizontally Stacked:\\n\", h_stack)\n",
    "print(\"\\nVertically Stacked:\\n\", v_stack)\n"
   ]
  },
  {
   "cell_type": "markdown",
   "id": "82392374-ad98-4e05-9a34-6f08930e52b0",
   "metadata": {},
   "source": [
    "### 9.Concatenate two arrays of different sizes along a new axis"
   ]
  },
  {
   "cell_type": "code",
   "execution_count": 51,
   "id": "d5cc5afc-d4c3-4b35-9c22-5554ba25c951",
   "metadata": {},
   "outputs": [
    {
     "name": "stdout",
     "output_type": "stream",
     "text": [
      "[array([1, 2, 3]) array([4, 5])]\n"
     ]
    }
   ],
   "source": [
    "import numpy as np\n",
    "a = np.array([1, 2, 3])\n",
    "b = np.array([4, 5])\n",
    "combined = np.array([a, b], dtype=object)\n",
    "print(combined)\n"
   ]
  },
  {
   "cell_type": "markdown",
   "id": "bd4b80c1-52fe-4e63-86b9-c2ed17452692",
   "metadata": {},
   "source": [
    "### 10. Transpose a 3x2 matrix and then reshape it to have 3 rows and 2 columns"
   ]
  },
  {
   "cell_type": "code",
   "execution_count": 54,
   "id": "62118219-86eb-4621-b31f-d8f68524db48",
   "metadata": {},
   "outputs": [
    {
     "name": "stdout",
     "output_type": "stream",
     "text": [
      "Original 3x2 Matrix:\n",
      " [[1 2]\n",
      " [3 4]\n",
      " [5 6]]\n",
      "Transposed (2x3):\n",
      " [[1 3 5]\n",
      " [2 4 6]]\n",
      "Reshaped to 3x2:\n",
      " [[1 3]\n",
      " [5 2]\n",
      " [4 6]]\n"
     ]
    }
   ],
   "source": [
    "import numpy as np\n",
    "\n",
    "matrix = np.array([[1, 2],\n",
    "                   [3, 4],\n",
    "                   [5, 6]])\n",
    "\n",
    "transposed = matrix.T\n",
    "\n",
    "reshaped = transposed.reshape(3, 2)\n",
    "\n",
    "print(\"Original 3x2 Matrix:\\n\", matrix)\n",
    "print(\"Transposed (2x3):\\n\", transposed)\n",
    "print(\"Reshaped to 3x2:\\n\", reshaped)\n"
   ]
  },
  {
   "cell_type": "markdown",
   "id": "ae68eea5-5bc3-461b-ab53-d18a1d6ed464",
   "metadata": {},
   "source": [
    "# Indexing and Slicing"
   ]
  },
  {
   "cell_type": "markdown",
   "id": "622c8a3c-3ec8-4a2a-be20-0e35a2fcde72",
   "metadata": {},
   "source": [
    "### 11. Given a 1D array of 15 elements, extract elements at positions 2 to 10 with a step of 2"
   ]
  },
  {
   "cell_type": "code",
   "execution_count": 60,
   "id": "80ed4036-cdd2-4a5a-a64f-9f31d9d125df",
   "metadata": {},
   "outputs": [
    {
     "name": "stdout",
     "output_type": "stream",
     "text": [
      "Original array: [ 0  1  2  3  4  5  6  7  8  9 10 11 12 13 14]\n",
      "Extracted elements: [ 2  4  6  8 10]\n"
     ]
    }
   ],
   "source": [
    "import numpy as np\n",
    "\n",
    "arr = np.arange(15)\n",
    "\n",
    "extracted = arr[2:11:2]  # stop index is 11 to include element at position 10\n",
    "\n",
    "print(\"Original array:\", arr)\n",
    "print(\"Extracted elements:\", extracted)\n"
   ]
  },
  {
   "cell_type": "markdown",
   "id": "85894ab5-2257-406f-b776-1bc66b18e8c2",
   "metadata": {},
   "source": [
    "### 12. Create a 5x5 matrix and extract the sub-matrix containing elements from rows 1 to 3 and columns 2 to 4."
   ]
  },
  {
   "cell_type": "code",
   "execution_count": 63,
   "id": "8ebbdc88-e377-4daa-aa54-aa347d0ca738",
   "metadata": {},
   "outputs": [
    {
     "name": "stdout",
     "output_type": "stream",
     "text": [
      "Original 5x5 matrix:\n",
      " [[ 0  1  2  3  4]\n",
      " [ 5  6  7  8  9]\n",
      " [10 11 12 13 14]\n",
      " [15 16 17 18 19]\n",
      " [20 21 22 23 24]]\n",
      "\n",
      "Sub-matrix (rows 1-3, cols 2-4):\n",
      " [[ 7  8  9]\n",
      " [12 13 14]\n",
      " [17 18 19]]\n"
     ]
    }
   ],
   "source": [
    "import numpy as np\n",
    "\n",
    "matrix = np.arange(25).reshape(5, 5)\n",
    "sub_matrix = matrix[1:4, 2:5]\n",
    "\n",
    "print(\"Original 5x5 matrix:\\n\", matrix)\n",
    "print(\"\\nSub-matrix (rows 1-3, cols 2-4):\\n\", sub_matrix)\n"
   ]
  },
  {
   "cell_type": "markdown",
   "id": "4f0ffc0e-308a-4c30-91c3-c82f26aa8764",
   "metadata": {},
   "source": [
    "### 13. Replace all elements in a 1D array greater than 10 with the value 10"
   ]
  },
  {
   "cell_type": "code",
   "execution_count": 66,
   "id": "891c47ce-b6cd-4bf1-b193-9b8a79a5050e",
   "metadata": {},
   "outputs": [
    {
     "name": "stdout",
     "output_type": "stream",
     "text": [
      "Modified array: [ 5 10  7 10  9 10  3]\n"
     ]
    }
   ],
   "source": [
    "import numpy as np\n",
    "arr = np.array([5, 12, 7, 15, 9, 20, 3])\n",
    "arr[arr > 10] = 10\n",
    "print(\"Modified array:\", arr)\n"
   ]
  },
  {
   "cell_type": "markdown",
   "id": "6a8c56b4-31e9-4933-a4eb-c4637f203464",
   "metadata": {},
   "source": [
    "### 14. Use fancy indexing to select elements from a 1D array at positions [0, 2, 4, 6]"
   ]
  },
  {
   "cell_type": "code",
   "execution_count": 69,
   "id": "cb87f82a-3cdf-46c3-8faf-828216cb1d81",
   "metadata": {},
   "outputs": [
    {
     "name": "stdout",
     "output_type": "stream",
     "text": [
      "Original array: [10 20 30 40 50 60 70 80]\n",
      "Selected elements at positions [0, 2, 4, 6]: [10 30 50 70]\n"
     ]
    }
   ],
   "source": [
    "import numpy as np\n",
    "\n",
    "arr = np.array([10, 20, 30, 40, 50, 60, 70, 80])\n",
    "\n",
    "indices = [0, 2, 4, 6]\n",
    "\n",
    "selected_elements = arr[indices]\n",
    "\n",
    "print(\"Original array:\", arr)\n",
    "print(\"Selected elements at positions [0, 2, 4, 6]:\", selected_elements)\n"
   ]
  },
  {
   "cell_type": "markdown",
   "id": "20d0c034-18b0-4874-a5a2-c2dca942d0ea",
   "metadata": {},
   "source": [
    "### 15. Create a 1D array of 10 elements and reverse it using slicing"
   ]
  },
  {
   "cell_type": "code",
   "execution_count": 72,
   "id": "a9617054-04ee-4f11-9255-4e5d2c1cf7b3",
   "metadata": {},
   "outputs": [
    {
     "name": "stdout",
     "output_type": "stream",
     "text": [
      "Original array: [0 1 2 3 4 5 6 7 8 9]\n",
      "Reversed array: [9 8 7 6 5 4 3 2 1 0]\n"
     ]
    }
   ],
   "source": [
    "import numpy as np\n",
    "arr = np.arange(10)\n",
    "reversed_arr = arr[::-1]\n",
    "print(\"Original array:\", arr)\n",
    "print(\"Reversed array:\", reversed_arr)\n"
   ]
  },
  {
   "cell_type": "markdown",
   "id": "1b74f01c-ccad-478b-ab84-29f402a8a703",
   "metadata": {},
   "source": [
    "# Broadcasting"
   ]
  },
  {
   "cell_type": "markdown",
   "id": "eae7d910-2c1a-4b73-9ee2-6ba95af304aa",
   "metadata": {},
   "source": [
    "### 16. Create a 3x3 matrix and add a 1x3 array to each row using broadcasting"
   ]
  },
  {
   "cell_type": "code",
   "execution_count": 76,
   "id": "1b21a702-ba2b-49e8-8d47-8f5134f2e8d0",
   "metadata": {},
   "outputs": [
    {
     "name": "stdout",
     "output_type": "stream",
     "text": [
      "Original matrix:\n",
      " [[1 2 3]\n",
      " [4 5 6]\n",
      " [7 8 9]]\n",
      "1x3 array:\n",
      " [10 20 30]\n",
      "Result after addition:\n",
      " [[11 22 33]\n",
      " [14 25 36]\n",
      " [17 28 39]]\n"
     ]
    }
   ],
   "source": [
    "import numpy as np\n",
    "matrix = np.array([[1, 2, 3],\n",
    "                   [4, 5, 6],\n",
    "                   [7, 8, 9]])\n",
    "\n",
    "array_1x3 = np.array([10, 20, 30])\n",
    "\n",
    "result = matrix + array_1x3\n",
    "\n",
    "print(\"Original matrix:\\n\", matrix)\n",
    "print(\"1x3 array:\\n\", array_1x3)\n",
    "print(\"Result after addition:\\n\", result)\n"
   ]
  },
  {
   "cell_type": "markdown",
   "id": "9042bce2-454b-4b5e-8f39-d4e4e49b1633",
   "metadata": {},
   "source": [
    "### 17. Multiply a 1D array of 5 elements by a scalar value using broadcasting"
   ]
  },
  {
   "cell_type": "code",
   "execution_count": 79,
   "id": "e5ae8ac6-f086-4a63-b2c9-58bab0771948",
   "metadata": {},
   "outputs": [
    {
     "name": "stdout",
     "output_type": "stream",
     "text": [
      "Original array: [1 2 3 4 5]\n",
      "After multiplication by scalar: [ 3  6  9 12 15]\n"
     ]
    }
   ],
   "source": [
    "import numpy as np\n",
    "arr = np.array([1, 2, 3, 4, 5])\n",
    "scalar = 3\n",
    "result = arr * scalar\n",
    "print(\"Original array:\", arr)\n",
    "print(\"After multiplication by scalar:\", result)\n"
   ]
  },
  {
   "cell_type": "markdown",
   "id": "fcc00182-cbb1-4fcc-a3b1-022021827feb",
   "metadata": {},
   "source": [
    "### 18. Subtract a 3x1 column vector from a 3x3 matrix using broadcasting"
   ]
  },
  {
   "cell_type": "code",
   "execution_count": 82,
   "id": "128117e9-9f3f-4227-bdeb-adcb6fd8e9f9",
   "metadata": {},
   "outputs": [
    {
     "name": "stdout",
     "output_type": "stream",
     "text": [
      "Matrix:\n",
      " [[10 20 30]\n",
      " [40 50 60]\n",
      " [70 80 90]]\n",
      "Column vector:\n",
      " [[1]\n",
      " [2]\n",
      " [3]]\n",
      "Result after subtraction:\n",
      " [[ 9 19 29]\n",
      " [38 48 58]\n",
      " [67 77 87]]\n"
     ]
    }
   ],
   "source": [
    "import numpy as np\n",
    "matrix = np.array([[10, 20, 30],\n",
    "                   [40, 50, 60],\n",
    "                   [70, 80, 90]])\n",
    "col_vector = np.array([[1],\n",
    "                       [2],\n",
    "                       [3]])\n",
    "result = matrix - col_vector\n",
    "\n",
    "print(\"Matrix:\\n\", matrix)\n",
    "print(\"Column vector:\\n\", col_vector)\n",
    "print(\"Result after subtraction:\\n\", result)\n"
   ]
  },
  {
   "cell_type": "markdown",
   "id": "df26b34e-0a72-4c53-a9c9-429fead7b0d2",
   "metadata": {},
   "source": [
    "### 19. Add a scalar to a 3D array and demonstrate how broadcasting works across all dimensions"
   ]
  },
  {
   "cell_type": "code",
   "execution_count": 85,
   "id": "ac905f5d-ee7d-4119-bcf4-5531f4da946a",
   "metadata": {},
   "outputs": [
    {
     "name": "stdout",
     "output_type": "stream",
     "text": [
      "Original 3D array:\n",
      " [[[ 0  1  2  3]\n",
      "  [ 4  5  6  7]\n",
      "  [ 8  9 10 11]]\n",
      "\n",
      " [[12 13 14 15]\n",
      "  [16 17 18 19]\n",
      "  [20 21 22 23]]]\n",
      "\n",
      "Scalar to add: 10\n",
      "\n",
      "Result after adding scalar (broadcasted):\n",
      " [[[10 11 12 13]\n",
      "  [14 15 16 17]\n",
      "  [18 19 20 21]]\n",
      "\n",
      " [[22 23 24 25]\n",
      "  [26 27 28 29]\n",
      "  [30 31 32 33]]]\n"
     ]
    }
   ],
   "source": [
    "import numpy as np\n",
    "array_3d = np.arange(24).reshape(2, 3, 4)\n",
    "scalar = 10\n",
    "result = array_3d + scalar\n",
    "\n",
    "print(\"Original 3D array:\\n\", array_3d)\n",
    "print(\"\\nScalar to add:\", scalar)\n",
    "print(\"\\nResult after adding scalar (broadcasted):\\n\", result)\n"
   ]
  },
  {
   "cell_type": "markdown",
   "id": "4e8a3206-1ec0-4684-bbf2-e185da45da81",
   "metadata": {},
   "source": [
    "### 20. Create two arrays of shapes (4, 1) and (1, 5) and add them using broadcasting"
   ]
  },
  {
   "cell_type": "code",
   "execution_count": 88,
   "id": "414f564a-f45c-4bb6-9e06-7aac749fe975",
   "metadata": {},
   "outputs": [
    {
     "name": "stdout",
     "output_type": "stream",
     "text": [
      "Array 1 (4x1):\n",
      " [[1]\n",
      " [2]\n",
      " [3]\n",
      " [4]]\n",
      "\n",
      "Array 2 (1x5):\n",
      " [[10 20 30 40 50]]\n",
      "\n",
      "Result of addition (4x5):\n",
      " [[11 21 31 41 51]\n",
      " [12 22 32 42 52]\n",
      " [13 23 33 43 53]\n",
      " [14 24 34 44 54]]\n"
     ]
    }
   ],
   "source": [
    "import numpy as np\n",
    "\n",
    "arr1 = np.array([[1],\n",
    "                 [2],\n",
    "                 [3],\n",
    "                 [4]])\n",
    "\n",
    "arr2 = np.array([[10, 20, 30, 40, 50]])\n",
    "\n",
    "result = arr1 + arr2\n",
    "\n",
    "# Print arrays and result\n",
    "print(\"Array 1 (4x1):\\n\", arr1)\n",
    "print(\"\\nArray 2 (1x5):\\n\", arr2)\n",
    "print(\"\\nResult of addition (4x5):\\n\", result)\n"
   ]
  },
  {
   "cell_type": "markdown",
   "id": "35dfd9c0-ec93-4fe1-b0cc-5490597ce2e8",
   "metadata": {},
   "source": [
    "# Vectorized Operations"
   ]
  },
  {
   "cell_type": "markdown",
   "id": "fb5bc3be-c022-4993-bea7-de3e80e116b0",
   "metadata": {},
   "source": [
    "### 21. Compute the square root of each element in a 2D array using vectorized operations"
   ]
  },
  {
   "cell_type": "code",
   "execution_count": 94,
   "id": "8a3791c9-d2b0-43ca-a501-2a711710e2e0",
   "metadata": {},
   "outputs": [
    {
     "name": "stdout",
     "output_type": "stream",
     "text": [
      "Original 2D array:\n",
      " [[ 1  4  9]\n",
      " [16 25 36]]\n",
      "\n",
      "Square root of each element:\n",
      " [[1. 2. 3.]\n",
      " [4. 5. 6.]]\n"
     ]
    }
   ],
   "source": [
    "import numpy as np\n",
    "arr_2d = np.array([[1, 4, 9],\n",
    "                   [16, 25, 36]])\n",
    "sqrt_arr = np.sqrt(arr_2d)\n",
    "print(\"Original 2D array:\\n\", arr_2d)\n",
    "print(\"\\nSquare root of each element:\\n\", sqrt_arr)\n"
   ]
  },
  {
   "cell_type": "markdown",
   "id": "cc7a0cc5-9c6f-4869-8442-77bc590e8d61",
   "metadata": {},
   "source": [
    "### 22. Calculate the dot product of two 1D arrays of size 5"
   ]
  },
  {
   "cell_type": "code",
   "execution_count": 97,
   "id": "2f438769-127e-41f9-9481-d7b44b7e1be4",
   "metadata": {},
   "outputs": [
    {
     "name": "stdout",
     "output_type": "stream",
     "text": [
      "Array a: [1 2 3 4 5]\n",
      "Array b: [ 6  7  8  9 10]\n",
      "Dot product: 130\n"
     ]
    }
   ],
   "source": [
    "import numpy as np\n",
    "a = np.array([1, 2, 3, 4, 5])\n",
    "b = np.array([6, 7, 8, 9, 10])\n",
    "\n",
    "dot_product = np.dot(a, b)\n",
    "print(\"Array a:\", a)\n",
    "print(\"Array b:\", b)\n",
    "print(\"Dot product:\", dot_product)\n"
   ]
  },
  {
   "cell_type": "markdown",
   "id": "2dfb6654-c242-4267-96e5-bfc204111025",
   "metadata": {},
   "source": [
    "### 23. Perform element-wise comparison of two 1D arrays and return an array of boolean values indicating where the first array has larger elements"
   ]
  },
  {
   "cell_type": "code",
   "execution_count": 100,
   "id": "069829c4-a1ff-4988-b50f-a9f116ecacf8",
   "metadata": {},
   "outputs": [
    {
     "name": "stdout",
     "output_type": "stream",
     "text": [
      "Array a: [ 5 10 15 20 25]\n",
      "Array b: [ 3 12 14 22 20]\n",
      "a > b: [ True False  True False  True]\n"
     ]
    }
   ],
   "source": [
    "import numpy as np\n",
    "\n",
    "a = np.array([5, 10, 15, 20, 25])\n",
    "b = np.array([3, 12, 14, 22, 20])\n",
    "\n",
    "comparison = a > b\n",
    "\n",
    "print(\"Array a:\", a)\n",
    "print(\"Array b:\", b)\n",
    "print(\"a > b:\", comparison)\n"
   ]
  },
  {
   "cell_type": "markdown",
   "id": "187f6540-9243-47fd-a87c-2f49a6b23f7d",
   "metadata": {},
   "source": [
    "### 24. Create a 2D array and apply a vectorized operation to double the value of each element"
   ]
  },
  {
   "cell_type": "code",
   "execution_count": 103,
   "id": "838e8971-6faa-43e2-8448-21d7121e2273",
   "metadata": {},
   "outputs": [
    {
     "name": "stdout",
     "output_type": "stream",
     "text": [
      "Original 2D array:\n",
      " [[1 2 3]\n",
      " [4 5 6]]\n",
      "\n",
      "Doubled array:\n",
      " [[ 2  4  6]\n",
      " [ 8 10 12]]\n"
     ]
    }
   ],
   "source": [
    "import numpy as np\n",
    "arr_2d = np.array([[1, 2, 3],\n",
    "                   [4, 5, 6]])\n",
    "doubled_arr = arr_2d * 2\n",
    "print(\"Original 2D array:\\n\", arr_2d)\n",
    "print(\"\\nDoubled array:\\n\", doubled_arr)\n"
   ]
  },
  {
   "cell_type": "markdown",
   "id": "42a94166-e17e-4899-8265-a43c642170b1",
   "metadata": {},
   "source": [
    "### 25. Create a 1D array of 100 random integers and compute the sum of all even numbers using vectorized operations"
   ]
  },
  {
   "cell_type": "code",
   "execution_count": 106,
   "id": "0e711364-ad05-4a9f-993a-bb2e28e49937",
   "metadata": {},
   "outputs": [
    {
     "name": "stdout",
     "output_type": "stream",
     "text": [
      "Random array:\n",
      " [82 44 37 26 32 56  2 65 98 83 86 33 27 48 64 97 69 21 25 35 24 70 83 26\n",
      " 82 48 51 87 99 73 85  8 85 33 39 16 56 84 57 57 29 70 13 86 42 68 18 39\n",
      " 85 27 20 54 38 19  6 81 74 78 57 67 78 16 91 30 15 26 74  4 63  9 91 69\n",
      " 65 91 12  4  5 17 12 35 64 99 71 31 10 33 45 16 21 75 30 43 70 36 73  3\n",
      " 62 45 39 33]\n",
      "\n",
      "Sum of even numbers: 2050\n"
     ]
    }
   ],
   "source": [
    "import numpy as np\n",
    "arr = np.random.randint(0, 100, size=100)\n",
    "sum_even = arr[arr % 2 == 0].sum()\n",
    "print(\"Random array:\\n\", arr)\n",
    "print(\"\\nSum of even numbers:\", sum_even)\n"
   ]
  },
  {
   "cell_type": "markdown",
   "id": "22582d49-9ad9-4d52-9752-0ac5939dc375",
   "metadata": {},
   "source": [
    "# Linear Algebra"
   ]
  },
  {
   "cell_type": "markdown",
   "id": "1d24fee6-ee3a-47db-b5f6-058eca2ebe4c",
   "metadata": {},
   "source": [
    "### 26. Create a 3x3 matrix and find its determinant"
   ]
  },
  {
   "cell_type": "code",
   "execution_count": 110,
   "id": "227125ea-3afa-4ff7-b555-15b24e1d685b",
   "metadata": {},
   "outputs": [
    {
     "name": "stdout",
     "output_type": "stream",
     "text": [
      "Matrix:\n",
      " [[1 2 3]\n",
      " [0 4 5]\n",
      " [1 0 6]]\n",
      "\n",
      "Determinant: 22.000000000000004\n"
     ]
    }
   ],
   "source": [
    "import numpy as np\n",
    "\n",
    "matrix = np.array([[1, 2, 3],\n",
    "                   [0, 4, 5],\n",
    "                   [1, 0, 6]])\n",
    "\n",
    "det = np.linalg.det(matrix)\n",
    "\n",
    "print(\"Matrix:\\n\", matrix)\n",
    "print(\"\\nDeterminant:\", det)\n"
   ]
  },
  {
   "cell_type": "markdown",
   "id": "c15640df-afea-47db-92ca-f370865a2772",
   "metadata": {},
   "source": [
    "### 27. Given a 2x2 matrix, compute its inverse and verify by multiplying with the original matrix to obtain the identity matrix"
   ]
  },
  {
   "cell_type": "code",
   "execution_count": 113,
   "id": "a6f42cdb-b0a4-4609-a71c-2710ce8faece",
   "metadata": {},
   "outputs": [
    {
     "name": "stdout",
     "output_type": "stream",
     "text": [
      "Original matrix:\n",
      " [[4 7]\n",
      " [2 6]]\n",
      "\n",
      "Inverse matrix:\n",
      " [[ 0.6 -0.7]\n",
      " [-0.2  0.4]]\n",
      "\n",
      "Product (should be identity matrix):\n",
      " [[ 1.00000000e+00  0.00000000e+00]\n",
      " [-2.22044605e-16  1.00000000e+00]]\n"
     ]
    }
   ],
   "source": [
    "import numpy as np\n",
    "matrix = np.array([[4, 7],\n",
    "                   [2, 6]])\n",
    "inv_matrix = np.linalg.inv(matrix)\n",
    "\n",
    "identity_approx = np.dot(matrix, inv_matrix)\n",
    "\n",
    "print(\"Original matrix:\\n\", matrix)\n",
    "print(\"\\nInverse matrix:\\n\", inv_matrix)\n",
    "print(\"\\nProduct (should be identity matrix):\\n\", identity_approx)\n"
   ]
  },
  {
   "cell_type": "markdown",
   "id": "4a79b707-bfb2-4393-b76c-9ca25dd0a725",
   "metadata": {},
   "source": [
    "### 28. Calculate the eigenvalues and eigenvectors of a 2x2 matrix"
   ]
  },
  {
   "cell_type": "code",
   "execution_count": 116,
   "id": "fdd82697-ca96-4856-bd4c-4dca291c6a64",
   "metadata": {},
   "outputs": [
    {
     "name": "stdout",
     "output_type": "stream",
     "text": [
      "Matrix:\n",
      " [[4 2]\n",
      " [1 3]]\n",
      "\n",
      "Eigenvalues:\n",
      " [5. 2.]\n",
      "\n",
      "Eigenvectors (columns):\n",
      " [[ 0.89442719 -0.70710678]\n",
      " [ 0.4472136   0.70710678]]\n"
     ]
    }
   ],
   "source": [
    "import numpy as np\n",
    "\n",
    "matrix = np.array([[4, 2],\n",
    "                   [1, 3]])\n",
    "\n",
    "eigenvalues, eigenvectors = np.linalg.eig(matrix)\n",
    "\n",
    "print(\"Matrix:\\n\", matrix)\n",
    "print(\"\\nEigenvalues:\\n\", eigenvalues)\n",
    "print(\"\\nEigenvectors (columns):\\n\", eigenvectors)\n"
   ]
  },
  {
   "cell_type": "markdown",
   "id": "aaf09ae6-3416-4fcd-ad8f-aae7854f73ff",
   "metadata": {},
   "source": [
    "### 29. Solve the system of linear equations 2x + 3y = 5 and 4x + 6y = 10 using NumPy"
   ]
  },
  {
   "cell_type": "code",
   "execution_count": 119,
   "id": "294ea902-518c-47d6-91a4-ee8b312ecc28",
   "metadata": {},
   "outputs": [
    {
     "name": "stdout",
     "output_type": "stream",
     "text": [
      "Error: Singular matrix\n"
     ]
    }
   ],
   "source": [
    "import numpy as np\n",
    "\n",
    "A = np.array([[2, 3],\n",
    "              [4, 6]])\n",
    "\n",
    "b = np.array([5, 10])\n",
    "\n",
    "try:\n",
    "    # Attempt to solve the system\n",
    "    solution = np.linalg.solve(A, b)\n",
    "    print(\"Solution:\", solution)\n",
    "except np.linalg.LinAlgError as e:\n",
    "    print(\"Error:\", e)\n"
   ]
  },
  {
   "cell_type": "markdown",
   "id": "1ac99881-7d54-49ce-903d-324d6f8a9e08",
   "metadata": {},
   "source": [
    "### 30. Perform Singular Value Decomposition (SVD) on a 3x3 matrix and reconstruct the original matrix using the SVD components."
   ]
  },
  {
   "cell_type": "code",
   "execution_count": 124,
   "id": "fc66a6f7-5d1a-4fb2-8340-501b82634da3",
   "metadata": {},
   "outputs": [
    {
     "name": "stdout",
     "output_type": "stream",
     "text": [
      "Original matrix:\n",
      " [[1 2 3]\n",
      " [4 5 6]\n",
      " [7 8 9]]\n",
      "\n",
      "U matrix:\n",
      " [[-0.21483724  0.88723069  0.40824829]\n",
      " [-0.52058739  0.24964395 -0.81649658]\n",
      " [-0.82633754 -0.38794278  0.40824829]]\n",
      "\n",
      "Singular values:\n",
      " [[1.68481034e+01 0.00000000e+00 0.00000000e+00]\n",
      " [0.00000000e+00 1.06836951e+00 0.00000000e+00]\n",
      " [0.00000000e+00 0.00000000e+00 3.33475287e-16]]\n",
      "\n",
      "V^T matrix:\n",
      " [[-0.47967118 -0.57236779 -0.66506441]\n",
      " [-0.77669099 -0.07568647  0.62531805]\n",
      " [-0.40824829  0.81649658 -0.40824829]]\n",
      "\n",
      "Reconstructed matrix:\n",
      " [[1. 2. 3.]\n",
      " [4. 5. 6.]\n",
      " [7. 8. 9.]]\n"
     ]
    }
   ],
   "source": [
    "import numpy as np\n",
    "\n",
    "A = np.array([[1, 2, 3],\n",
    "              [4, 5, 6],\n",
    "              [7, 8, 9]])\n",
    "\n",
    "U, S, VT = np.linalg.svd(A)\n",
    "\n",
    "S_matrix = np.diag(S)\n",
    "\n",
    "A_reconstructed = np.dot(U, np.dot(S_matrix, VT))\n",
    "\n",
    "# Print the results\n",
    "print(\"Original matrix:\\n\", A)\n",
    "print(\"\\nU matrix:\\n\", U)\n",
    "print(\"\\nSingular values:\\n\", S_matrix)\n",
    "print(\"\\nV^T matrix:\\n\", VT)\n",
    "print(\"\\nReconstructed matrix:\\n\", A_reconstructed)\n"
   ]
  },
  {
   "cell_type": "markdown",
   "id": "b548a136-1dcc-44f9-9135-7d4714f9b178",
   "metadata": {},
   "source": [
    "# Python For Data Science"
   ]
  },
  {
   "cell_type": "markdown",
   "id": "bfcf2ff7-f4be-41fd-ab65-084b53a68c50",
   "metadata": {},
   "source": [
    "### 1. Data Import and Cleaning\n",
    "### - Import a CSV file into a Pandas DataFrame. Identify and drop rows with missing values.\n",
    "### - Load a dataset and replace missing numerical values with the mean of the column.\n",
    "### - Replace missing categorical values with the mode of the column in a DataFrame."
   ]
  },
  {
   "cell_type": "code",
   "execution_count": 128,
   "id": "d78f6cd5-f875-4c9b-aa41-7c441d8d8aba",
   "metadata": {},
   "outputs": [
    {
     "name": "stdout",
     "output_type": "stream",
     "text": [
      "<class 'pandas.core.frame.DataFrame'>\n",
      "RangeIndex: 891 entries, 0 to 890\n",
      "Data columns (total 15 columns):\n",
      " #   Column       Non-Null Count  Dtype   \n",
      "---  ------       --------------  -----   \n",
      " 0   survived     891 non-null    int64   \n",
      " 1   pclass       891 non-null    int64   \n",
      " 2   sex          891 non-null    object  \n",
      " 3   age          714 non-null    float64 \n",
      " 4   sibsp        891 non-null    int64   \n",
      " 5   parch        891 non-null    int64   \n",
      " 6   fare         891 non-null    float64 \n",
      " 7   embarked     889 non-null    object  \n",
      " 8   class        891 non-null    category\n",
      " 9   who          891 non-null    object  \n",
      " 10  adult_male   891 non-null    bool    \n",
      " 11  deck         203 non-null    category\n",
      " 12  embark_town  889 non-null    object  \n",
      " 13  alive        891 non-null    object  \n",
      " 14  alone        891 non-null    bool    \n",
      "dtypes: bool(2), category(2), float64(2), int64(4), object(5)\n",
      "memory usage: 80.7+ KB\n",
      "None\n"
     ]
    }
   ],
   "source": [
    "import pandas as pd\n",
    "import seaborn as sns\n",
    "\n",
    "df = sns.load_dataset('titanic')\n",
    "\n",
    "print(df.info())\n"
   ]
  },
  {
   "cell_type": "code",
   "execution_count": 130,
   "id": "3ae02686-7422-463c-8493-3431d9263884",
   "metadata": {},
   "outputs": [
    {
     "name": "stdout",
     "output_type": "stream",
     "text": [
      "Original shape: (891, 15)\n",
      "Shape after dropping missing values: (182, 15)\n"
     ]
    }
   ],
   "source": [
    "# Drop rows where any value is missing\n",
    "df_dropped = df.dropna()\n",
    "\n",
    "print(f\"Original shape: {df.shape}\")\n",
    "print(f\"Shape after dropping missing values: {df_dropped.shape}\")\n"
   ]
  },
  {
   "cell_type": "code",
   "execution_count": 132,
   "id": "e5759562-bb33-498d-817c-dda9d951c108",
   "metadata": {},
   "outputs": [
    {
     "name": "stdout",
     "output_type": "stream",
     "text": [
      "survived    0\n",
      "pclass      0\n",
      "age         0\n",
      "sibsp       0\n",
      "parch       0\n",
      "fare        0\n",
      "dtype: int64\n"
     ]
    },
    {
     "name": "stderr",
     "output_type": "stream",
     "text": [
      "C:\\Users\\Vignesh\\AppData\\Local\\Temp\\ipykernel_10600\\989866648.py:10: FutureWarning: A value is trying to be set on a copy of a DataFrame or Series through chained assignment using an inplace method.\n",
      "The behavior will change in pandas 3.0. This inplace method will never work because the intermediate object on which we are setting values always behaves as a copy.\n",
      "\n",
      "For example, when doing 'df[col].method(value, inplace=True)', try using 'df.method({col: value}, inplace=True)' or df[col] = df[col].method(value) instead, to perform the operation inplace on the original object.\n",
      "\n",
      "\n",
      "  df_num_imputed[col].fillna(mean_value, inplace=True)\n"
     ]
    }
   ],
   "source": [
    "# Copy dataset for imputation\n",
    "df_num_imputed = df.copy()\n",
    "\n",
    "# Select numerical columns\n",
    "num_cols = df_num_imputed.select_dtypes(include=['float64', 'int64']).columns\n",
    "\n",
    "# Replace missing numerical values with mean of the column\n",
    "for col in num_cols:\n",
    "    mean_value = df_num_imputed[col].mean()\n",
    "    df_num_imputed[col].fillna(mean_value, inplace=True)\n",
    "\n",
    "print(df_num_imputed[num_cols].isnull().sum())  # Check missing after imputation\n"
   ]
  },
  {
   "cell_type": "code",
   "execution_count": 134,
   "id": "fec9f277-1eac-4319-9fec-5e895f4f43be",
   "metadata": {},
   "outputs": [
    {
     "name": "stdout",
     "output_type": "stream",
     "text": [
      "sex            0\n",
      "embarked       0\n",
      "class          0\n",
      "who            0\n",
      "deck           0\n",
      "embark_town    0\n",
      "alive          0\n",
      "dtype: int64\n"
     ]
    },
    {
     "name": "stderr",
     "output_type": "stream",
     "text": [
      "C:\\Users\\Vignesh\\AppData\\Local\\Temp\\ipykernel_10600\\4052465886.py:10: FutureWarning: A value is trying to be set on a copy of a DataFrame or Series through chained assignment using an inplace method.\n",
      "The behavior will change in pandas 3.0. This inplace method will never work because the intermediate object on which we are setting values always behaves as a copy.\n",
      "\n",
      "For example, when doing 'df[col].method(value, inplace=True)', try using 'df.method({col: value}, inplace=True)' or df[col] = df[col].method(value) instead, to perform the operation inplace on the original object.\n",
      "\n",
      "\n",
      "  df_cat_imputed[col].fillna(mode_value, inplace=True)\n"
     ]
    }
   ],
   "source": [
    "# Copy dataset for categorical imputation\n",
    "df_cat_imputed = df_num_imputed.copy()\n",
    "\n",
    "# Select categorical columns\n",
    "cat_cols = df_cat_imputed.select_dtypes(include=['object', 'category']).columns\n",
    "\n",
    "# Replace missing categorical values with the mode of each column\n",
    "for col in cat_cols:\n",
    "    mode_value = df_cat_imputed[col].mode()[0]\n",
    "    df_cat_imputed[col].fillna(mode_value, inplace=True)\n",
    "\n",
    "print(df_cat_imputed[cat_cols].isnull().sum())  # Check missing after imputation\n"
   ]
  },
  {
   "cell_type": "markdown",
   "id": "66676860-350c-4095-8f7c-98619d7af546",
   "metadata": {},
   "source": [
    "### 2. Data Transformation\n",
    "### - Create a new column in a DataFrame that is the sum of two existing columns using NumPy vectorized operations.\n",
    "### - Apply a mathematical function (e.g., square root) to all elements of a numerical column using NumPy.\n",
    "### - Normalize a numerical column in a DataFrame using MinMaxScaler from sklearn.preprocessing and explain the transformation process."
   ]
  },
  {
   "cell_type": "code",
   "execution_count": 137,
   "id": "7eb90fe2-6711-439f-bc5a-c01393d59bcd",
   "metadata": {},
   "outputs": [],
   "source": [
    "import pandas as pd\n",
    "import numpy as np\n",
    "import seaborn as sns\n",
    "from sklearn.preprocessing import MinMaxScaler\n",
    "\n",
    "# Load Titanic dataset\n",
    "df = sns.load_dataset('titanic')\n"
   ]
  },
  {
   "cell_type": "code",
   "execution_count": 139,
   "id": "256af517-80ff-4d4b-9f6b-7d29e05f0f32",
   "metadata": {},
   "outputs": [
    {
     "name": "stdout",
     "output_type": "stream",
     "text": [
      "   sibsp  parch  family_size\n",
      "0      1      0            1\n",
      "1      1      0            1\n",
      "2      0      0            0\n",
      "3      1      0            1\n",
      "4      0      0            0\n"
     ]
    }
   ],
   "source": [
    "# Create new column 'family_size' as sum of 'sibsp' and 'parch'\n",
    "df['family_size'] = np.add(df['sibsp'], df['parch'])\n",
    "\n",
    "print(df[['sibsp', 'parch', 'family_size']].head())\n"
   ]
  },
  {
   "cell_type": "code",
   "execution_count": 141,
   "id": "de984a88-f1c5-4d5f-9234-7c97912fa777",
   "metadata": {},
   "outputs": [
    {
     "name": "stdout",
     "output_type": "stream",
     "text": [
      "      fare  fare_sqrt\n",
      "0   7.2500   2.692582\n",
      "1  71.2833   8.442944\n",
      "2   7.9250   2.815138\n",
      "3  53.1000   7.286975\n",
      "4   8.0500   2.837252\n"
     ]
    }
   ],
   "source": [
    "# Make sure 'fare' has no missing values before applying sqrt\n",
    "df['fare'] = df['fare'].fillna(0)\n",
    "\n",
    "# Apply square root to 'fare' column\n",
    "df['fare_sqrt'] = np.sqrt(df['fare'])\n",
    "\n",
    "print(df[['fare', 'fare_sqrt']].head())\n"
   ]
  },
  {
   "cell_type": "code",
   "execution_count": 143,
   "id": "98a78598-3230-4959-9076-a1da54ff12ca",
   "metadata": {},
   "outputs": [
    {
     "name": "stdout",
     "output_type": "stream",
     "text": [
      "    age  age_normalized\n",
      "0  22.0        0.271174\n",
      "1  38.0        0.472229\n",
      "2  26.0        0.321438\n",
      "3  35.0        0.434531\n",
      "4  35.0        0.434531\n"
     ]
    }
   ],
   "source": [
    "# Fill missing 'age' values with mean for scaling\n",
    "df['age'] = df['age'].fillna(df['age'].mean())\n",
    "\n",
    "# Initialize MinMaxScaler\n",
    "scaler = MinMaxScaler()\n",
    "\n",
    "# Reshape 'age' to 2D array for scaler and fit_transform\n",
    "df['age_normalized'] = scaler.fit_transform(df[['age']])\n",
    "\n",
    "print(df[['age', 'age_normalized']].head())\n"
   ]
  },
  {
   "cell_type": "markdown",
   "id": "d119d366-9ba6-46a5-86b9-7fa6092f0e72",
   "metadata": {},
   "source": [
    "##### Explanation of MinMaxScaler transformation:\n",
    "##### It scales features to a fixed range, usually [0, 1].\n",
    "\n",
    "##### Formula: X(scaled) = (X - Xmin) / (Xmax - Xmin)"
   ]
  },
  {
   "cell_type": "markdown",
   "id": "12beb5bd-f181-4d31-ad23-fb6c5e5323bf",
   "metadata": {},
   "source": [
    "### 3. Merging and Joining Datasets\n",
    "### - Merge two DataFrames based on a common key and fill any missing values in the resulting DataFrame.\n",
    "### - Perform a left join on two DataFrames with different keys and handle missing data in the result.\n",
    "### - Concatenate two DataFrames along the columns and handle any duplicate column names."
   ]
  },
  {
   "cell_type": "code",
   "execution_count": 147,
   "id": "115a4523-967a-4f0b-8232-b8728ed619c4",
   "metadata": {},
   "outputs": [],
   "source": [
    "import pandas as pd\n",
    "import numpy as np\n",
    "\n",
    "# DataFrame 1\n",
    "df1 = pd.DataFrame({\n",
    "    'id': [1, 2, 3, 4],\n",
    "    'name': ['Alice', 'Bob', 'Charlie', 'David'],\n",
    "    'age': [25, 30, 35, 40]\n",
    "})\n",
    "\n",
    "# DataFrame 2\n",
    "df2 = pd.DataFrame({\n",
    "    'id': [3, 4, 5, 6],\n",
    "    'score': [88, 92, 95, 85],\n",
    "    'city': ['NY', 'LA', 'Chicago', 'Houston']\n",
    "})\n"
   ]
  },
  {
   "cell_type": "code",
   "execution_count": 149,
   "id": "5f696d71-553e-48ca-adf7-879243bbf5b2",
   "metadata": {},
   "outputs": [
    {
     "name": "stdout",
     "output_type": "stream",
     "text": [
      "   id     name   age  score     city\n",
      "0   1    Alice  25.0    0.0  Unknown\n",
      "1   2      Bob  30.0    0.0  Unknown\n",
      "2   3  Charlie  35.0   88.0       NY\n",
      "3   4    David  40.0   92.0       LA\n",
      "4   5  Unknown  32.5   95.0  Chicago\n",
      "5   6  Unknown  32.5   85.0  Houston\n"
     ]
    }
   ],
   "source": [
    "# Outer merge on 'id' to keep all records\n",
    "merged_df = pd.merge(df1, df2, on='id', how='outer')\n",
    "\n",
    "# Fill missing values\n",
    "merged_df_filled = merged_df.fillna({\n",
    "    'name': 'Unknown',\n",
    "    'age': merged_df['age'].mean(),  # fill with mean age\n",
    "    'score': 0,\n",
    "    'city': 'Unknown'\n",
    "})\n",
    "\n",
    "print(merged_df_filled)\n"
   ]
  },
  {
   "cell_type": "code",
   "execution_count": 151,
   "id": "ae0fa193-2feb-493c-b2c2-ce2449dc990e",
   "metadata": {},
   "outputs": [
    {
     "name": "stdout",
     "output_type": "stream",
     "text": [
      "   id     name  age  user_id  score     city\n",
      "0   1    Alice   25      NaN   90.0  No City\n",
      "1   2      Bob   30      NaN   90.0  No City\n",
      "2   3  Charlie   35      3.0   88.0       NY\n",
      "3   4    David   40      4.0   92.0       LA\n"
     ]
    },
    {
     "name": "stderr",
     "output_type": "stream",
     "text": [
      "C:\\Users\\Vignesh\\AppData\\Local\\Temp\\ipykernel_10600\\4218738510.py:8: FutureWarning: A value is trying to be set on a copy of a DataFrame or Series through chained assignment using an inplace method.\n",
      "The behavior will change in pandas 3.0. This inplace method will never work because the intermediate object on which we are setting values always behaves as a copy.\n",
      "\n",
      "For example, when doing 'df[col].method(value, inplace=True)', try using 'df.method({col: value}, inplace=True)' or df[col] = df[col].method(value) instead, to perform the operation inplace on the original object.\n",
      "\n",
      "\n",
      "  left_joined['score'].fillna(left_joined['score'].mean(), inplace=True)\n",
      "C:\\Users\\Vignesh\\AppData\\Local\\Temp\\ipykernel_10600\\4218738510.py:9: FutureWarning: A value is trying to be set on a copy of a DataFrame or Series through chained assignment using an inplace method.\n",
      "The behavior will change in pandas 3.0. This inplace method will never work because the intermediate object on which we are setting values always behaves as a copy.\n",
      "\n",
      "For example, when doing 'df[col].method(value, inplace=True)', try using 'df.method({col: value}, inplace=True)' or df[col] = df[col].method(value) instead, to perform the operation inplace on the original object.\n",
      "\n",
      "\n",
      "  left_joined['city'].fillna('No City', inplace=True)\n"
     ]
    }
   ],
   "source": [
    "# Change column name in df2 for demonstration\n",
    "df2_renamed = df2.rename(columns={'id': 'user_id'})\n",
    "\n",
    "# Perform left join: df1 left, df2 right on different keys\n",
    "left_joined = pd.merge(df1, df2_renamed, left_on='id', right_on='user_id', how='left')\n",
    "\n",
    "# Handle missing data in 'score' and 'city'\n",
    "left_joined['score'].fillna(left_joined['score'].mean(), inplace=True)\n",
    "left_joined['city'].fillna('No City', inplace=True)\n",
    "\n",
    "print(left_joined)\n"
   ]
  },
  {
   "cell_type": "code",
   "execution_count": 153,
   "id": "1c8e121d-fcb6-4c1b-b4f9-1cad91b90e19",
   "metadata": {},
   "outputs": [
    {
     "name": "stdout",
     "output_type": "stream",
     "text": [
      "   id_A  value_A  id_B  value_B\n",
      "0     1       10     4       40\n",
      "1     2       20     5       50\n",
      "2     3       30     6       60\n"
     ]
    }
   ],
   "source": [
    "# Create two DataFrames with overlapping column names\n",
    "dfA = pd.DataFrame({\n",
    "    'id': [1, 2, 3],\n",
    "    'value': [10, 20, 30]\n",
    "})\n",
    "\n",
    "dfB = pd.DataFrame({\n",
    "    'id': [4, 5, 6],\n",
    "    'value': [40, 50, 60]\n",
    "})\n",
    "\n",
    "# Concatenate along columns axis=1\n",
    "concatenated = pd.concat([dfA, dfB], axis=1)\n",
    "\n",
    "# Handle duplicate columns by renaming after concatenation\n",
    "concatenated.columns = ['id_A', 'value_A', 'id_B', 'value_B']\n",
    "\n",
    "print(concatenated)\n"
   ]
  },
  {
   "cell_type": "markdown",
   "id": "9f4292cb-c7ee-4171-ae1e-9446b633ea56",
   "metadata": {},
   "source": [
    "### 4. Grouping and Aggregation\n",
    "### - Group a DataFrame by a categorical column and calculate the mean and standard deviation of a numerical column for each group\n",
    "### - Use groupby() to calculate the sum of a column for each group, then apply a NumPy function to the grouped results.\n",
    "### - Create a pivot table from a DataFrame that groups data by two categorical columns and summarizes a numerical column using NumPy operations."
   ]
  },
  {
   "cell_type": "code",
   "execution_count": 156,
   "id": "cb5081e9-71ae-4ecf-b0b0-68f1d695dc9d",
   "metadata": {},
   "outputs": [],
   "source": [
    "import pandas as pd\n",
    "import numpy as np\n",
    "import seaborn as sns\n",
    "\n",
    "# Load Titanic dataset\n",
    "df = sns.load_dataset('titanic')\n"
   ]
  },
  {
   "cell_type": "code",
   "execution_count": 158,
   "id": "0976cc7c-e2c1-4906-ba06-2a06c54c3488",
   "metadata": {},
   "outputs": [
    {
     "name": "stdout",
     "output_type": "stream",
     "text": [
      "             mean        std\n",
      "class                       \n",
      "First   38.233441  14.802856\n",
      "Second  29.877630  14.001077\n",
      "Third   25.140620  12.495398\n"
     ]
    },
    {
     "name": "stderr",
     "output_type": "stream",
     "text": [
      "C:\\Users\\Vignesh\\AppData\\Local\\Temp\\ipykernel_10600\\4252526622.py:1: FutureWarning: The default of observed=False is deprecated and will be changed to True in a future version of pandas. Pass observed=False to retain current behavior or observed=True to adopt the future default and silence this warning.\n",
      "  grouped_stats = df.groupby('class')['age'].agg(['mean', 'std'])\n"
     ]
    }
   ],
   "source": [
    "grouped_stats = df.groupby('class')['age'].agg(['mean', 'std'])\n",
    "\n",
    "print(grouped_stats)\n"
   ]
  },
  {
   "cell_type": "code",
   "execution_count": 160,
   "id": "6148df5b-44d9-4f03-8c1d-9d3ae4a441bb",
   "metadata": {},
   "outputs": [
    {
     "name": "stdout",
     "output_type": "stream",
     "text": [
      "who\n",
      "child     52.165324\n",
      "man      115.551138\n",
      "woman    112.341723\n",
      "Name: fare, dtype: float64\n"
     ]
    }
   ],
   "source": [
    "# Sum 'fare' for each 'who' group\n",
    "fare_sum = df.groupby('who')['fare'].sum()\n",
    "\n",
    "# Apply square root to the sums\n",
    "fare_sqrt = np.sqrt(fare_sum)\n",
    "\n",
    "print(fare_sqrt)\n"
   ]
  },
  {
   "cell_type": "code",
   "execution_count": 162,
   "id": "5e9769ac-803b-4a70-a649-c96583a956e7",
   "metadata": {},
   "outputs": [
    {
     "name": "stdout",
     "output_type": "stream",
     "text": [
      "              mean                   std           \n",
      "sex         female       male     female       male\n",
      "class                                              \n",
      "First   106.125798  67.226127  74.259988  77.548021\n",
      "Second   21.970121  19.741782  10.891796  14.922235\n",
      "Third    16.118810  12.661633  11.690314  11.681696\n"
     ]
    },
    {
     "name": "stderr",
     "output_type": "stream",
     "text": [
      "C:\\Users\\Vignesh\\AppData\\Local\\Temp\\ipykernel_10600\\3104182532.py:1: FutureWarning: The default value of observed=False is deprecated and will change to observed=True in a future version of pandas. Specify observed=False to silence this warning and retain the current behavior\n",
      "  pivot_table = pd.pivot_table(\n",
      "C:\\Users\\Vignesh\\AppData\\Local\\Temp\\ipykernel_10600\\3104182532.py:1: FutureWarning: The provided callable <function mean at 0x00000205432C5940> is currently using DataFrameGroupBy.mean. In a future version of pandas, the provided callable will be used directly. To keep current behavior pass the string \"mean\" instead.\n",
      "  pivot_table = pd.pivot_table(\n",
      "C:\\Users\\Vignesh\\AppData\\Local\\Temp\\ipykernel_10600\\3104182532.py:1: FutureWarning: The default value of observed=False is deprecated and will change to observed=True in a future version of pandas. Specify observed=False to silence this warning and retain the current behavior\n",
      "  pivot_table = pd.pivot_table(\n",
      "C:\\Users\\Vignesh\\AppData\\Local\\Temp\\ipykernel_10600\\3104182532.py:1: FutureWarning: The provided callable <function std at 0x00000205432C5A80> is currently using DataFrameGroupBy.std. In a future version of pandas, the provided callable will be used directly. To keep current behavior pass the string \"std\" instead.\n",
      "  pivot_table = pd.pivot_table(\n"
     ]
    }
   ],
   "source": [
    "pivot_table = pd.pivot_table(\n",
    "    df,\n",
    "    values='fare',\n",
    "    index='class',\n",
    "    columns='sex',\n",
    "    aggfunc=[np.mean, np.std]\n",
    ")\n",
    "\n",
    "print(pivot_table)\n"
   ]
  },
  {
   "cell_type": "markdown",
   "id": "63ff8762-57e5-4e88-9040-4eaee752ac6a",
   "metadata": {},
   "source": [
    "##### Explanation:\n",
    "##### groupby() groups the data based on categorical variables.\n",
    "##### .agg() can compute multiple summary statistics (mean, std, sum, etc.) simultaneously.\n",
    "##### You can apply NumPy functions like np.sqrt directly on grouped results.\n",
    "##### pd.pivot_table() summarizes data with multiple grouping keys and aggregation functions."
   ]
  },
  {
   "cell_type": "markdown",
   "id": "94ce0e67-123f-4b4f-9af5-006b31f99674",
   "metadata": {},
   "source": [
    "### 5. Array Operations and Manipulation\n",
    "### - Create a NumPy array from a DataFrame column and perform element-wise operations on the array.\n",
    "### - Reshape a NumPy array and assign it back to a new DataFrame column.\n",
    "### - Use NumPy to filter a DataFrame for rows where a numerical column's values are above a certain threshold."
   ]
  },
  {
   "cell_type": "code",
   "execution_count": 177,
   "id": "4a1643ad-8479-4a8c-9a0f-353d3e9299a7",
   "metadata": {},
   "outputs": [],
   "source": [
    "import pandas as pd\n",
    "import numpy as np\n",
    "import seaborn as sns\n",
    "\n",
    "# Load Titanic dataset\n",
    "df = sns.load_dataset('titanic')\n",
    "\n",
    "# Fill missing 'age' for safe operations\n",
    "df['age'] = df['age'].fillna(df['age'].mean())\n"
   ]
  },
  {
   "cell_type": "code",
   "execution_count": 179,
   "id": "d383ccbe-fc70-4d6a-abe4-8c352b0f1d9d",
   "metadata": {},
   "outputs": [
    {
     "name": "stdout",
     "output_type": "stream",
     "text": [
      "[27.         43.         31.         40.         40.         34.69911765\n",
      " 59.          7.         32.         19.        ]\n"
     ]
    }
   ],
   "source": [
    "age_array = df['age'].to_numpy()\n",
    "age_plus_5 = age_array + 5\n",
    "\n",
    "print(age_plus_5[:10])  # print first 10 elements\n"
   ]
  },
  {
   "cell_type": "code",
   "execution_count": 181,
   "id": "2ff37c21-6a47-4510-ae70-f5a227dd3c58",
   "metadata": {},
   "outputs": [
    {
     "name": "stdout",
     "output_type": "stream",
     "text": [
      "Reshaped array (4x5):\n",
      " [[ 7.25   71.2833  7.925  53.1     8.05  ]\n",
      " [ 8.4583 51.8625 21.075  11.1333 30.0708]\n",
      " [16.7    26.55    8.05   31.275   7.8542]\n",
      " [16.     29.125  13.     18.      7.225 ]]\n",
      "      fare  fare_reshaped\n",
      "0   7.2500         7.2500\n",
      "1  71.2833        71.2833\n",
      "2   7.9250         7.9250\n",
      "3  53.1000        53.1000\n",
      "4   8.0500         8.0500\n",
      "5   8.4583         8.4583\n",
      "6  51.8625        51.8625\n",
      "7  21.0750        21.0750\n",
      "8  11.1333        11.1333\n",
      "9  30.0708        30.0708\n"
     ]
    }
   ],
   "source": [
    "fare_array = df['fare'].fillna(0).to_numpy()[:20]\n",
    "\n",
    "# Reshape into 4 rows, 5 columns\n",
    "fare_reshaped = fare_array.reshape(4, 5)\n",
    "\n",
    "print(\"Reshaped array (4x5):\\n\", fare_reshaped)\n",
    "\n",
    "# Flatten back and assign to new column for first 20 rows\n",
    "df.loc[:19, 'fare_reshaped'] = fare_reshaped.flatten()\n",
    "\n",
    "print(df[['fare', 'fare_reshaped']].head(10))\n"
   ]
  },
  {
   "cell_type": "code",
   "execution_count": 183,
   "id": "63399965-2152-45af-bfb0-d883181c3868",
   "metadata": {},
   "outputs": [
    {
     "name": "stdout",
     "output_type": "stream",
     "text": [
      "     age     sex\n",
      "6   54.0    male\n",
      "11  58.0  female\n",
      "15  55.0  female\n",
      "33  66.0    male\n",
      "54  65.0    male\n"
     ]
    }
   ],
   "source": [
    "age_array = df['age'].to_numpy()\n",
    "\n",
    "# Boolean mask where age > 50\n",
    "mask = age_array > 50\n",
    "\n",
    "filtered_df = df[df['age'] > 50]\n",
    "\n",
    "print(filtered_df[['age', 'sex']].head())\n",
    "\n"
   ]
  },
  {
   "cell_type": "markdown",
   "id": "c3d88c91-47e8-4765-afee-ff2108494a56",
   "metadata": {},
   "source": [
    "### 6. Broadcasting and Vectorized Operations\n",
    "### - Broadcast a NumPy array across a DataFrame column to perform a vectorized operation.\n",
    "### - Create a new column in a DataFrame that results from a vectorized operation on multiple columns using NumPy.\n",
    "### - Demonstrate broadcasting by subtracting the mean of each row from the row's elements in a DataFrame."
   ]
  },
  {
   "cell_type": "code",
   "execution_count": 186,
   "id": "d3108a37-44b6-4580-aebf-962cd6b0f187",
   "metadata": {},
   "outputs": [],
   "source": [
    "import pandas as pd\n",
    "import numpy as np\n",
    "import seaborn as sns\n",
    "\n",
    "df = sns.load_dataset('titanic')\n",
    "\n",
    "# Fill missing numerical values for safe vectorized ops\n",
    "df['age'] = df['age'].fillna(df['age'].mean())\n",
    "df['fare'] = df['fare'].fillna(df['fare'].mean())\n",
    "df['sibsp'] = df['sibsp'].fillna(0)\n",
    "df['parch'] = df['parch'].fillna(0)\n"
   ]
  },
  {
   "cell_type": "code",
   "execution_count": 188,
   "id": "8491031f-8b10-46c9-8b08-363e7968174c",
   "metadata": {},
   "outputs": [
    {
     "name": "stdout",
     "output_type": "stream",
     "text": [
      "   sibsp\n",
      "0      2\n",
      "1      3\n",
      "2      3\n",
      "3      1\n",
      "4      0\n"
     ]
    }
   ],
   "source": [
    "arr = np.array([1, 2, 3])\n",
    "\n",
    "# Add arr to first 3 rows of 'sibsp'\n",
    "df.loc[:2, 'sibsp'] = df.loc[:2, 'sibsp'] + arr\n",
    "\n",
    "print(df.loc[:4, ['sibsp']])\n"
   ]
  },
  {
   "cell_type": "code",
   "execution_count": 190,
   "id": "3d8ae2fc-b502-46f6-9047-1bdf35882f97",
   "metadata": {},
   "outputs": [
    {
     "name": "stdout",
     "output_type": "stream",
     "text": [
      "   sibsp  parch  family_total\n",
      "0      2      0             2\n",
      "1      3      0             3\n",
      "2      3      0             3\n",
      "3      1      0             1\n",
      "4      0      0             0\n"
     ]
    }
   ],
   "source": [
    "df['family_total'] = np.add(df['sibsp'], df['parch'])\n",
    "\n",
    "print(df[['sibsp', 'parch', 'family_total']].head())\n"
   ]
  },
  {
   "cell_type": "code",
   "execution_count": 192,
   "id": "db3a06dc-8ac8-4eeb-a614-dd00cf9eb3be",
   "metadata": {},
   "outputs": [
    {
     "name": "stdout",
     "output_type": "stream",
     "text": [
      "         age       fare      sibsp      parch\n",
      "0  14.187500  -0.562500  -5.812500  -7.812500\n",
      "1   9.929175  43.212475 -25.070825 -28.070825\n",
      "2  16.768750  -1.306250  -6.231250  -9.231250\n",
      "3  12.725000  30.825000 -21.275000 -22.275000\n",
      "4  24.237500  -2.712500 -10.762500 -10.762500\n"
     ]
    }
   ],
   "source": [
    "# Select numerical columns for operation\n",
    "num_cols = ['age', 'fare', 'sibsp', 'parch']\n",
    "\n",
    "# Extract subset DataFrame\n",
    "num_data = df[num_cols]\n",
    "\n",
    "# Calculate mean across columns (axis=1), keep dims for broadcasting\n",
    "row_means = num_data.mean(axis=1).values.reshape(-1, 1)\n",
    "\n",
    "# Subtract row means from each row using broadcasting\n",
    "centered_data = num_data - row_means\n",
    "\n",
    "print(centered_data.head())\n"
   ]
  },
  {
   "cell_type": "markdown",
   "id": "720bb4e6-644c-4fa7-b0c9-1945bbe325e9",
   "metadata": {},
   "source": [
    "### 7. Linear Algebra with NumPy\n",
    "### - Solve a system of linear equations using NumPy, and store the solution in a DataFrame.\n",
    "### - Compute the dot product of two columns from a DataFrame using NumPy.\n",
    "### - Perform matrix multiplication on two DataFrames treated as matrices and store the result in a new DataFrame."
   ]
  },
  {
   "cell_type": "code",
   "execution_count": 195,
   "id": "7d905c0c-f396-40f7-9f56-e1f5c329bb9e",
   "metadata": {},
   "outputs": [
    {
     "name": "stdout",
     "output_type": "stream",
     "text": [
      "          x         y\n",
      "0  0.769231  1.153846\n"
     ]
    }
   ],
   "source": [
    "import numpy as np\n",
    "import pandas as pd\n",
    "\n",
    "# Coefficient matrix A\n",
    "A = np.array([[2, 3],\n",
    "              [4, 6]])\n",
    "\n",
    "# Right-hand side vector b\n",
    "b = np.array([5, 10])\n",
    "\n",
    "# Use np.linalg.lstsq for solution (since second equation is dependent)\n",
    "solution, residuals, rank, s = np.linalg.lstsq(A, b, rcond=None)\n",
    "\n",
    "# Store solution in DataFrame\n",
    "df_solution = pd.DataFrame(solution.reshape(1, -1), columns=['x', 'y'])\n",
    "\n",
    "print(df_solution)\n"
   ]
  },
  {
   "cell_type": "code",
   "execution_count": 197,
   "id": "916ada09-3876-46a1-af5e-b613595b7997",
   "metadata": {},
   "outputs": [
    {
     "name": "stdout",
     "output_type": "stream",
     "text": [
      "Dot product of columns A and B: 32\n"
     ]
    }
   ],
   "source": [
    "df = pd.DataFrame({\n",
    "    'A': [1, 2, 3],\n",
    "    'B': [4, 5, 6]\n",
    "})\n",
    "\n",
    "dot_product = np.dot(df['A'], df['B'])\n",
    "print(f\"Dot product of columns A and B: {dot_product}\")\n"
   ]
  },
  {
   "cell_type": "code",
   "execution_count": 199,
   "id": "ccd9e731-2326-45dd-a1b6-7edfe7617ab6",
   "metadata": {},
   "outputs": [
    {
     "name": "stdout",
     "output_type": "stream",
     "text": [
      "   C1  C2\n",
      "0  19  22\n",
      "1  43  50\n"
     ]
    }
   ],
   "source": [
    "df1 = pd.DataFrame([[1, 2],\n",
    "                    [3, 4]])\n",
    "\n",
    "df2 = pd.DataFrame([[5, 6],\n",
    "                    [7, 8]])\n",
    "\n",
    "# Matrix multiplication using @ or np.dot\n",
    "result = df1.values @ df2.values  # or np.dot(df1.values, df2.values)\n",
    "\n",
    "# Store result in DataFrame\n",
    "df_result = pd.DataFrame(result, columns=['C1', 'C2'])\n",
    "\n",
    "print(df_result)\n"
   ]
  },
  {
   "cell_type": "markdown",
   "id": "5711a95c-2032-4f5e-8062-374400a9b833",
   "metadata": {},
   "source": [
    "### 8. Handling Missing Data\n",
    "### - Interpolate missing values in a DataFrame using a linear method with NumPy and Pandas.\n",
    "### - Use a mask created with NumPy to fill missing values in a DataFrame with a specific value.\n",
    "### - Identify and replace outliers in a DataFrame column with the median value using a NumPy mask"
   ]
  },
  {
   "cell_type": "code",
   "execution_count": 202,
   "id": "a777b5d0-5cba-405f-a182-30bca4e07cb7",
   "metadata": {},
   "outputs": [],
   "source": [
    "import pandas as pd\n",
    "import numpy as np\n",
    "import seaborn as sns\n",
    "\n",
    "df = sns.load_dataset('titanic')\n",
    "\n",
    "# Introduce missing values artificially in 'age' for demonstration\n",
    "df.loc[5:10, 'age'] = np.nan\n"
   ]
  },
  {
   "cell_type": "code",
   "execution_count": 204,
   "id": "41c8f7b4-fdc9-4d63-9afb-6076ee46b61c",
   "metadata": {},
   "outputs": [
    {
     "name": "stdout",
     "output_type": "stream",
     "text": [
      "     age  age_interpolated\n",
      "4   35.0         35.000000\n",
      "5    NaN         38.285714\n",
      "6    NaN         41.571429\n",
      "7    NaN         44.857143\n",
      "8    NaN         48.142857\n",
      "9    NaN         51.428571\n",
      "10   NaN         54.714286\n",
      "11  58.0         58.000000\n",
      "12  20.0         20.000000\n"
     ]
    }
   ],
   "source": [
    "# Interpolate 'age' missing values linearly\n",
    "df['age_interpolated'] = df['age'].interpolate(method='linear')\n",
    "\n",
    "print(df[['age', 'age_interpolated']].loc[4:12])\n"
   ]
  },
  {
   "cell_type": "code",
   "execution_count": 206,
   "id": "2a50a683-d2e6-4460-a633-d8f43a1c51e3",
   "metadata": {},
   "outputs": [
    {
     "name": "stdout",
     "output_type": "stream",
     "text": [
      "       fare  fare_filled\n",
      "14   7.8542       7.8542\n",
      "15      NaN      20.0000\n",
      "16      NaN      20.0000\n",
      "17      NaN      20.0000\n",
      "18      NaN      20.0000\n",
      "19      NaN      20.0000\n",
      "20      NaN      20.0000\n",
      "21  13.0000      13.0000\n",
      "22   8.0292       8.0292\n"
     ]
    }
   ],
   "source": [
    "# Introduce some missing values in 'fare'\n",
    "df.loc[15:20, 'fare'] = np.nan\n",
    "\n",
    "# Create mask of missing 'fare'\n",
    "mask = np.isnan(df['fare'])\n",
    "\n",
    "# Fill missing 'fare' with 20 using mask\n",
    "df.loc[mask, 'fare_filled'] = 20\n",
    "df.loc[~mask, 'fare_filled'] = df.loc[~mask, 'fare']\n",
    "\n",
    "print(df[['fare', 'fare_filled']].loc[14:22])\n"
   ]
  },
  {
   "cell_type": "code",
   "execution_count": 208,
   "id": "9cb9f2ab-d403-4006-8053-ba9944299662",
   "metadata": {},
   "outputs": [
    {
     "name": "stdout",
     "output_type": "stream",
     "text": [
      "        fare  fare_no_outliers\n",
      "1    71.2833           14.4542\n",
      "27  263.0000           14.4542\n",
      "31  146.5208           14.4542\n",
      "34   82.1708           14.4542\n",
      "52   76.7292           14.4542\n"
     ]
    }
   ],
   "source": [
    "fare = df['fare'].fillna(df['fare'].median())  # fill missing to avoid issues\n",
    "\n",
    "Q1 = np.percentile(fare, 25)\n",
    "Q3 = np.percentile(fare, 75)\n",
    "IQR = Q3 - Q1\n",
    "\n",
    "# Outlier condition\n",
    "outliers_mask = fare > (Q3 + 1.5 * IQR)\n",
    "\n",
    "# Calculate median fare\n",
    "median_fare = np.median(fare)\n",
    "\n",
    "# Replace outliers with median fare\n",
    "fare_corrected = fare.copy()\n",
    "fare_corrected[outliers_mask] = median_fare\n",
    "\n",
    "# Assign back to DataFrame\n",
    "df['fare_no_outliers'] = fare_corrected\n",
    "\n",
    "print(df[['fare', 'fare_no_outliers']].loc[outliers_mask].head())\n"
   ]
  },
  {
   "cell_type": "markdown",
   "id": "3d16bab5-f708-47fb-8f49-8671dcbdc535",
   "metadata": {},
   "source": [
    "### 9. Advanced Data Analysis\n",
    "### - Use a combination of groupby() and NumPy operations to analyze trends in a multi-level categorical dataset.\n",
    "### - Create a summary DataFrame that includes the correlation matrix of numerical columns using both Pandas and NumPy.\n",
    "### - Perform a rolling mean calculation on a time series dataset and visualize the result using Matplotlib."
   ]
  },
  {
   "cell_type": "code",
   "execution_count": 223,
   "id": "4ab5aaa5-8421-4d5f-97e6-f4996228245b",
   "metadata": {},
   "outputs": [
    {
     "name": "stdout",
     "output_type": "stream",
     "text": [
      "Correlation matrix using Pandas:\n",
      "          survived    pclass       age     sibsp     parch      fare\n",
      "survived  1.000000 -0.338481 -0.069809 -0.035322  0.081629  0.257307\n",
      "pclass   -0.338481  1.000000 -0.331339  0.083081  0.018443 -0.549500\n",
      "age      -0.069809 -0.331339  1.000000 -0.232625 -0.179191  0.091566\n",
      "sibsp    -0.035322  0.083081 -0.232625  1.000000  0.414838  0.159651\n",
      "parch     0.081629  0.018443 -0.179191  0.414838  1.000000  0.216225\n",
      "fare      0.257307 -0.549500  0.091566  0.159651  0.216225  1.000000\n",
      "\n",
      "Correlation matrix using NumPy:\n",
      "          survived    pclass       age     sibsp     parch      fare\n",
      "survived  1.000000 -0.338481 -0.069809 -0.035322  0.081629  0.257307\n",
      "pclass   -0.338481  1.000000 -0.331339  0.083081  0.018443 -0.549500\n",
      "age      -0.069809 -0.331339  1.000000 -0.232625 -0.179191  0.091566\n",
      "sibsp    -0.035322  0.083081 -0.232625  1.000000  0.414838  0.159651\n",
      "parch     0.081629  0.018443 -0.179191  0.414838  1.000000  0.216225\n",
      "fare      0.257307 -0.549500  0.091566  0.159651  0.216225  1.000000\n"
     ]
    }
   ],
   "source": [
    "import pandas as pd\n",
    "import numpy as np\n",
    "import seaborn as sns\n",
    "\n",
    "# Load Titanic dataset\n",
    "df = sns.load_dataset('titanic')\n",
    "\n",
    "# Select numeric columns only for correlation\n",
    "numeric_df = df.select_dtypes(include=[np.number])\n",
    "\n",
    "# Fill missing values in numeric columns with column mean (to avoid NaNs)\n",
    "numeric_df_filled = numeric_df.fillna(numeric_df.mean())\n",
    "\n",
    "# --- Using Pandas ---\n",
    "corr_pandas = numeric_df_filled.corr()\n",
    "print(\"Correlation matrix using Pandas:\")\n",
    "print(corr_pandas)\n",
    "\n",
    "# --- Using NumPy ---\n",
    "# Center data by subtracting mean of each column\n",
    "centered = numeric_df_filled - numeric_df_filled.mean()\n",
    "\n",
    "# Compute correlation matrix\n",
    "corr_numpy = np.corrcoef(centered.values.T)\n",
    "\n",
    "# Convert back to DataFrame with proper row/col labels\n",
    "corr_numpy_df = pd.DataFrame(corr_numpy, index=numeric_df_filled.columns, columns=numeric_df_filled.columns)\n",
    "print(\"\\nCorrelation matrix using NumPy:\")\n",
    "print(corr_numpy_df)\n"
   ]
  },
  {
   "cell_type": "code",
   "execution_count": 225,
   "id": "65a05e4a-58a7-462a-8489-f49ffb20e265",
   "metadata": {},
   "outputs": [
    {
     "data": {
      "image/png": "[encoded data removed]",
      "text/plain": [
       "<Figure size 800x600 with 2 Axes>"
      ]
     },
     "metadata": {},
     "output_type": "display_data"
    },
    {
     "data": {
      "image/png": "[encoded data removed]",
      "text/plain": [
       "<Figure size 800x600 with 2 Axes>"
      ]
     },
     "metadata": {},
     "output_type": "display_data"
    }
   ],
   "source": [
    "import matplotlib.pyplot as plt\n",
    "import seaborn as sns\n",
    "\n",
    "# Assume corr_pandas from earlier (Pandas correlation matrix)\n",
    "plt.figure(figsize=(8, 6))\n",
    "sns.heatmap(corr_pandas, annot=True, fmt=\".2f\", cmap=\"coolwarm\", square=True)\n",
    "plt.title(\"Correlation Matrix (Pandas)\")\n",
    "plt.show()\n",
    "\n",
    "# Similarly, for the NumPy correlation matrix DataFrame corr_numpy_df:\n",
    "plt.figure(figsize=(8, 6))\n",
    "sns.heatmap(corr_numpy_df, annot=True, fmt=\".2f\", cmap=\"coolwarm\", square=True)\n",
    "plt.title(\"Correlation Matrix (NumPy)\")\n",
    "plt.show()\n",
    "\n"
   ]
  },
  {
   "cell_type": "markdown",
   "id": "02f6a89f-2a1f-4994-a622-a5088eeaca0c",
   "metadata": {},
   "source": [
    "### 10. DataFrame and Array Manipulation\n",
    "### - Convert a DataFrame into a NumPy array, perform an operation, and convert it back to a DataFrame.\n",
    "### - Use NumPy to generate a DataFrame with random values, then apply a condition to filter rows based on multiple criteria.\n",
    "### - Create a DataFrame where each element is the result of applying a custom NumPy function to corresponding elements in two NumPy arrays."
   ]
  },
  {
   "cell_type": "code",
   "execution_count": 229,
   "id": "832a0757-f8f2-428e-9d9f-afd40b48cfd8",
   "metadata": {},
   "outputs": [
    {
     "name": "stdout",
     "output_type": "stream",
     "text": [
      "    A   B   C\n",
      "0  10  20  30\n",
      "1  40  50  60\n",
      "2  70  80  90\n"
     ]
    }
   ],
   "source": [
    "import pandas as pd\n",
    "import numpy as np\n",
    "\n",
    "# Sample DataFrame\n",
    "df = pd.DataFrame({\n",
    "    'A': [1, 4, 7],\n",
    "    'B': [2, 5, 8],\n",
    "    'C': [3, 6, 9]\n",
    "})\n",
    "\n",
    "# Convert to NumPy array\n",
    "arr = df.values\n",
    "\n",
    "# Perform operation: multiply all elements by 10\n",
    "arr_modified = arr * 10\n",
    "\n",
    "# Convert back to DataFrame (keep original columns and index)\n",
    "df_modified = pd.DataFrame(arr_modified, columns=df.columns, index=df.index)\n",
    "\n",
    "print(df_modified)\n"
   ]
  },
  {
   "cell_type": "code",
   "execution_count": 231,
   "id": "cb5af8d4-3a07-4e9d-9b2c-b7b82d3aa630",
   "metadata": {},
   "outputs": [
    {
     "name": "stdout",
     "output_type": "stream",
     "text": [
      "Original DataFrame:\n",
      "     X   Y   Z\n",
      "0  44  47  64\n",
      "1  67  67   9\n",
      "2  83  21  36\n",
      "3  87  70  88\n",
      "4  88  12  58\n",
      "\n",
      "Filtered DataFrame:\n",
      "     X   Y   Z\n",
      "1  67  67   9\n",
      "2  83  21  36\n"
     ]
    }
   ],
   "source": [
    "# Generate random DataFrame of size 5x3\n",
    "np.random.seed(0)\n",
    "random_arr = np.random.randint(0, 100, size=(5, 3))\n",
    "df_random = pd.DataFrame(random_arr, columns=['X', 'Y', 'Z'])\n",
    "\n",
    "# Filter rows where 'X' > 50 AND 'Z' < 50\n",
    "filtered_df = df_random[(df_random['X'] > 50) & (df_random['Z'] < 50)]\n",
    "\n",
    "print(\"Original DataFrame:\\n\", df_random)\n",
    "print(\"\\nFiltered DataFrame:\\n\", filtered_df)\n"
   ]
  },
  {
   "cell_type": "code",
   "execution_count": 233,
   "id": "5d570022-30fc-4605-bce9-c3a4218ba939",
   "metadata": {},
   "outputs": [
    {
     "name": "stdout",
     "output_type": "stream",
     "text": [
      "   Col1  Col2\n",
      "0    26    40\n",
      "1    58    80\n"
     ]
    }
   ],
   "source": [
    "# Define custom function, e.g., f(a, b) = a^2 + b^2\n",
    "def custom_func(a, b):\n",
    "    return a**2 + b**2\n",
    "\n",
    "# Create two NumPy arrays\n",
    "arr1 = np.array([[1, 2], [3, 4]])\n",
    "arr2 = np.array([[5, 6], [7, 8]])\n",
    "\n",
    "# Apply function element-wise with np.vectorize\n",
    "vec_func = np.vectorize(custom_func)\n",
    "result_arr = vec_func(arr1, arr2)\n",
    "\n",
    "# Convert result to DataFrame\n",
    "df_result = pd.DataFrame(result_arr, columns=['Col1', 'Col2'])\n",
    "\n",
    "print(df_result)\n"
   ]
  },
  {
   "cell_type": "markdown",
   "id": "01d0bfe6-6d80-4422-80c4-65aaccea1196",
   "metadata": {},
   "source": [
    "### 11. Data Reshaping and Analysis\n",
    "### - Use NumPy's reshape to change the shape of an array extracted from a DataFrame and analyze the reshaped data.\n",
    "### - Stack two DataFrames vertically and use NumPy to analyze the combined dataset.\n",
    "### - Create a 3D array using NumPy and convert it into a MultiIndex DataFrame, then perform a group operation."
   ]
  },
  {
   "cell_type": "code",
   "execution_count": 236,
   "id": "6a8d2e07-6741-4ce3-a78d-c93cbe66ab21",
   "metadata": {},
   "outputs": [
    {
     "name": "stdout",
     "output_type": "stream",
     "text": [
      "Reshaped array:\n",
      " [[ 0  1  2  3]\n",
      " [ 4  5  6  7]\n",
      " [ 8  9 10 11]]\n",
      "Mean of each row: [1.5 5.5 9.5]\n"
     ]
    }
   ],
   "source": [
    "import pandas as pd\n",
    "import numpy as np\n",
    "\n",
    "# Sample DataFrame with 12 elements\n",
    "df = pd.DataFrame({'values': np.arange(12)})\n",
    "\n",
    "# Extract array\n",
    "arr = df['values'].values\n",
    "\n",
    "# Reshape into 3 rows, 4 columns\n",
    "reshaped_arr = arr.reshape(3, 4)\n",
    "\n",
    "print(\"Reshaped array:\\n\", reshaped_arr)\n",
    "\n",
    "# Analyze reshaped data — for example, compute mean of each row\n",
    "row_means = reshaped_arr.mean(axis=1)\n",
    "print(\"Mean of each row:\", row_means)\n"
   ]
  },
  {
   "cell_type": "code",
   "execution_count": 238,
   "id": "0d12f32d-b327-455e-a190-27dc5acef300",
   "metadata": {},
   "outputs": [
    {
     "name": "stdout",
     "output_type": "stream",
     "text": [
      "Combined DataFrame:\n",
      "    A  B\n",
      "0  1  3\n",
      "1  2  4\n",
      "2  5  7\n",
      "3  6  8\n",
      "Overall Mean: 4.5, Overall Std Dev: 2.29128784747792\n"
     ]
    }
   ],
   "source": [
    "# Create two small DataFrames with same columns\n",
    "df1 = pd.DataFrame({'A': [1, 2], 'B': [3, 4]})\n",
    "df2 = pd.DataFrame({'A': [5, 6], 'B': [7, 8]})\n",
    "\n",
    "# Stack vertically with pd.concat\n",
    "df_combined = pd.concat([df1, df2], axis=0).reset_index(drop=True)\n",
    "\n",
    "print(\"Combined DataFrame:\\n\", df_combined)\n",
    "\n",
    "# Convert to NumPy array and compute overall mean and std\n",
    "arr_combined = df_combined.values\n",
    "mean_all = np.mean(arr_combined)\n",
    "std_all = np.std(arr_combined)\n",
    "\n",
    "print(f\"Overall Mean: {mean_all}, Overall Std Dev: {std_all}\")\n"
   ]
  },
  {
   "cell_type": "code",
   "execution_count": 240,
   "id": "ddea9e43-7556-400e-baf1-4397ab67996c",
   "metadata": {},
   "outputs": [
    {
     "name": "stdout",
     "output_type": "stream",
     "text": [
      "MultiIndex DataFrame:\n",
      "                  Val1  Val2  Val3  Val4\n",
      "Group  Subgroup                        \n",
      "Group1 A            0     1     2     3\n",
      "       B            4     5     6     7\n",
      "       C            8     9    10    11\n",
      "Group2 A           12    13    14    15\n",
      "       B           16    17    18    19\n",
      "       C           20    21    22    23\n",
      "\n",
      "Group sum:\n",
      "         Val1  Val2  Val3  Val4\n",
      "Group                         \n",
      "Group1    12    15    18    21\n",
      "Group2    48    51    54    57\n"
     ]
    }
   ],
   "source": [
    "# Create a 3D array (e.g., shape: 2 x 3 x 4)\n",
    "arr_3d = np.arange(24).reshape(2, 3, 4)\n",
    "\n",
    "# Create MultiIndex for DataFrame\n",
    "index = pd.MultiIndex.from_product(\n",
    "    [['Group1', 'Group2'], ['A', 'B', 'C']], \n",
    "    names=['Group', 'Subgroup']\n",
    ")\n",
    "\n",
    "# Convert 3D array to 2D by flattening last axis (columns=4)\n",
    "df_3d = pd.DataFrame(arr_3d.reshape(6, 4), index=index, columns=[f'Val{i}' for i in range(1, 5)])\n",
    "\n",
    "print(\"MultiIndex DataFrame:\\n\", df_3d)\n",
    "\n",
    "# Group by 'Group' and compute sum of all value columns\n",
    "group_sum = df_3d.groupby('Group').sum()\n",
    "print(\"\\nGroup sum:\\n\", group_sum)\n"
   ]
  },
  {
   "cell_type": "markdown",
   "id": "239b82ad-dfa7-4bd0-b62a-ec9ec706cc38",
   "metadata": {},
   "source": [
    "### 12. Time Series Analysis\n",
    "### - Convert a column in a DataFrame to a time series using Pandas and perform a NumPy-based operation on the time series data.\n",
    "### - Calculate the moving average of a time series in a DataFrame using a combination of Pandas and NumPy functions.\n",
    "### - Use pd.to_datetime to convert a string column to datetime format and use NumPy to compute the time difference between rows."
   ]
  },
  {
   "cell_type": "code",
   "execution_count": 243,
   "id": "d347c3a0-56cb-46a8-bde8-2ad1db4ddd5d",
   "metadata": {},
   "outputs": [
    {
     "name": "stdout",
     "output_type": "stream",
     "text": [
      "Original time series:\n",
      "date\n",
      "2023-01-01    66\n",
      "2023-01-02    40\n",
      "2023-01-03    88\n",
      "2023-01-04    47\n",
      "2023-01-05    89\n",
      "2023-01-06    82\n",
      "2023-01-07    38\n",
      "2023-01-08    26\n",
      "2023-01-09    78\n",
      "2023-01-10    73\n",
      "Name: value, dtype: int32\n",
      "\n",
      "Percent change between consecutive days (NumPy):\n",
      "[-39.39393939 120.         -46.59090909  89.36170213  -7.86516854\n",
      " -53.65853659 -31.57894737 200.          -6.41025641]\n"
     ]
    }
   ],
   "source": [
    "import pandas as pd\n",
    "import numpy as np\n",
    "\n",
    "# Create sample DataFrame with a date column and values\n",
    "df = pd.DataFrame({\n",
    "    'date': pd.date_range(start='2023-01-01', periods=10, freq='D'),\n",
    "    'value': np.random.randint(1, 100, 10)\n",
    "})\n",
    "\n",
    "# Convert 'date' column to datetime (if not already)\n",
    "df['date'] = pd.to_datetime(df['date'])\n",
    "\n",
    "# Set 'date' as index to create a time series\n",
    "ts = df.set_index('date')['value']\n",
    "\n",
    "print(\"Original time series:\")\n",
    "print(ts)\n",
    "\n",
    "# Perform a NumPy operation: calculate percent change between consecutive days\n",
    "values = ts.values\n",
    "pct_change = np.diff(values) / values[:-1] * 100  # percent change array\n",
    "\n",
    "print(\"\\nPercent change between consecutive days (NumPy):\")\n",
    "print(pct_change)\n"
   ]
  },
  {
   "cell_type": "code",
   "execution_count": 245,
   "id": "9801e49a-1840-4b92-aac9-314391260e23",
   "metadata": {},
   "outputs": [
    {
     "name": "stdout",
     "output_type": "stream",
     "text": [
      "\n",
      "3-day moving average:\n",
      "date\n",
      "2023-01-01          NaN\n",
      "2023-01-02          NaN\n",
      "2023-01-03    64.666667\n",
      "2023-01-04    58.333333\n",
      "2023-01-05    74.666667\n",
      "2023-01-06    72.666667\n",
      "2023-01-07    69.666667\n",
      "2023-01-08    48.666667\n",
      "2023-01-09    47.333333\n",
      "2023-01-10    59.000000\n",
      "Name: value, dtype: float64\n"
     ]
    }
   ],
   "source": [
    "# Moving average window size\n",
    "window_size = 3\n",
    "\n",
    "# Use Pandas rolling + NumPy mean inside apply (demonstration purpose)\n",
    "moving_avg = ts.rolling(window=window_size).apply(np.mean)\n",
    "\n",
    "print(f\"\\n{window_size}-day moving average:\")\n",
    "print(moving_avg)\n"
   ]
  },
  {
   "cell_type": "code",
   "execution_count": 247,
   "id": "faf36d3c-afac-4ea9-85fe-595d27e11cda",
   "metadata": {},
   "outputs": [
    {
     "name": "stdout",
     "output_type": "stream",
     "text": [
      "\n",
      "Time differences (days) between consecutive dates:\n",
      "[4 5 5]\n"
     ]
    }
   ],
   "source": [
    "# Sample DataFrame with string dates\n",
    "df_str = pd.DataFrame({\n",
    "    'date_str': ['2023-01-01', '2023-01-05', '2023-01-10', '2023-01-15']\n",
    "})\n",
    "\n",
    "# Convert string column to datetime\n",
    "df_str['date_dt'] = pd.to_datetime(df_str['date_str'])\n",
    "\n",
    "# Compute time differences between consecutive rows (in days) using NumPy\n",
    "dates = df_str['date_dt'].values.astype('datetime64[D]')\n",
    "time_diff = np.diff(dates).astype('timedelta64[D]').astype(int)\n",
    "\n",
    "print(\"\\nTime differences (days) between consecutive dates:\")\n",
    "print(time_diff)\n"
   ]
  },
  {
   "cell_type": "markdown",
   "id": "3fa5c40f-f409-4dd5-90ed-4b74c1e958e2",
   "metadata": {},
   "source": [
    "# NumPy"
   ]
  },
  {
   "cell_type": "markdown",
   "id": "96d862a2-4031-4c78-b900-a270e5b886d8",
   "metadata": {},
   "source": [
    "### 1. Create a NumPy array of random numbers and normalize the data using min-max scaling"
   ]
  },
  {
   "cell_type": "code",
   "execution_count": 253,
   "id": "3796ee2c-423b-46bf-b38a-97183bde1bd8",
   "metadata": {},
   "outputs": [
    {
     "name": "stdout",
     "output_type": "stream",
     "text": [
      "Original array:\n",
      "[54.88135039 71.51893664 60.27633761 54.4883183  42.36547993 64.58941131\n",
      " 43.75872113 89.17730008 96.36627605 38.34415188]\n",
      "\n",
      "Normalized array:\n",
      "[0.28501539 0.57176095 0.37799695 0.27824156 0.06930681 0.45233193\n",
      " 0.09331905 0.8760994  1.         0.        ]\n"
     ]
    }
   ],
   "source": [
    "import numpy as np\n",
    "np.random.seed(0)  \n",
    "arr = np.random.rand(10) * 100  \n",
    "\n",
    "print(\"Original array:\")\n",
    "print(arr)\n",
    "def min_max_scale(x):\n",
    "    return (x - x.min()) / (x.max() - x.min())\n",
    "\n",
    "arr_normalized = min_max_scale(arr)\n",
    "\n",
    "print(\"\\nNormalized array:\")\n",
    "print(arr_normalized)\n"
   ]
  },
  {
   "cell_type": "markdown",
   "id": "b8edfabc-bb7f-4c79-b6e2-4f070b9f1762",
   "metadata": {},
   "source": [
    "### 2. Generate a 5x5 matrix with random integers and replace all occurrences of a specific value with another."
   ]
  },
  {
   "cell_type": "code",
   "execution_count": 256,
   "id": "6c042a1f-a967-4bda-aa48-154b30f51578",
   "metadata": {},
   "outputs": [
    {
     "name": "stdout",
     "output_type": "stream",
     "text": [
      "Original matrix:\n",
      " [[6 3 7 4 6]\n",
      " [9 2 6 7 4]\n",
      " [3 7 7 2 5]\n",
      " [4 1 7 5 1]\n",
      " [4 0 9 5 8]]\n",
      "\n",
      "Matrix after replacing 3 with 99:\n",
      " [[ 6 99  7  4  6]\n",
      " [ 9  2  6  7  4]\n",
      " [99  7  7  2  5]\n",
      " [ 4  1  7  5  1]\n",
      " [ 4  0  9  5  8]]\n"
     ]
    }
   ],
   "source": [
    "import numpy as np\n",
    "\n",
    "np.random.seed(42) \n",
    "matrix = np.random.randint(0, 10, size=(5, 5))\n",
    "print(\"Original matrix:\\n\", matrix)\n",
    "value_to_replace = 3\n",
    "new_value = 99\n",
    "\n",
    "matrix[matrix == value_to_replace] = new_value\n",
    "\n",
    "print(f\"\\nMatrix after replacing {value_to_replace} with {new_value}:\\n\", matrix)\n"
   ]
  },
  {
   "cell_type": "markdown",
   "id": "af89a1de-c5df-420b-8b5b-30a0c0ec0be2",
   "metadata": {},
   "source": [
    "### 3. Create two NumPy arrays and perform element-wise addition, subtraction, multiplication, and division."
   ]
  },
  {
   "cell_type": "code",
   "execution_count": 259,
   "id": "4bc0df91-9f5c-4fd2-bbea-7bd7f5f1cdeb",
   "metadata": {},
   "outputs": [
    {
     "name": "stdout",
     "output_type": "stream",
     "text": [
      "Addition: [5 7 9]\n",
      "Subtraction: [-3 -3 -3]\n",
      "Multiplication: [ 4 10 18]\n",
      "Division: [0.25 0.4  0.5 ]\n"
     ]
    }
   ],
   "source": [
    "import numpy as np\n",
    "\n",
    "a = np.array([1, 2, 3])\n",
    "b = np.array([4, 5, 6])\n",
    "\n",
    "addition = a + b\n",
    "subtraction = a - b\n",
    "multiplication = a * b\n",
    "division = a / b\n",
    "\n",
    "print(\"Addition:\", addition)\n",
    "print(\"Subtraction:\", subtraction)\n",
    "print(\"Multiplication:\", multiplication)\n",
    "print(\"Division:\", division)\n"
   ]
  },
  {
   "cell_type": "markdown",
   "id": "d5cd08bd-da04-4b01-b795-11644876e656",
   "metadata": {},
   "source": [
    "### 4. Solve the system of linear equations: \\(3x + 4y = 7\\) and \\(5x + 2y = 8\\) using NumPy"
   ]
  },
  {
   "cell_type": "code",
   "execution_count": 262,
   "id": "f251930a-35fb-4f07-b229-31df7d31cfee",
   "metadata": {},
   "outputs": [
    {
     "name": "stdout",
     "output_type": "stream",
     "text": [
      "Solution (x, y): [1.28571429 0.78571429]\n"
     ]
    }
   ],
   "source": [
    "import numpy as np\n",
    "\n",
    "A = np.array([[3, 4],\n",
    "              [5, 2]])\n",
    "b = np.array([7, 8])\n",
    "\n",
    "solution = np.linalg.solve(A, b)\n",
    "print(\"Solution (x, y):\", solution)\n"
   ]
  },
  {
   "cell_type": "markdown",
   "id": "f84fad3a-7d25-4c52-bee6-6fb08dca6550",
   "metadata": {},
   "source": [
    "### 5. Implement broadcasting to perform an operation between a 3x3 matrix and a 1D array"
   ]
  },
  {
   "cell_type": "code",
   "execution_count": 265,
   "id": "68a8e93d-8a4d-4040-9109-3509a78121c6",
   "metadata": {},
   "outputs": [
    {
     "name": "stdout",
     "output_type": "stream",
     "text": [
      "[[11 22 33]\n",
      " [14 25 36]\n",
      " [17 28 39]]\n"
     ]
    }
   ],
   "source": [
    "import numpy as np\n",
    "\n",
    "matrix = np.array([[1, 2, 3],\n",
    "                   [4, 5, 6],\n",
    "                   [7, 8, 9]])\n",
    "\n",
    "array_1d = np.array([10, 20, 30])\n",
    "\n",
    "result = matrix + array_1d\n",
    "print(result)\n"
   ]
  },
  {
   "cell_type": "markdown",
   "id": "70f1c10c-0023-441a-bfb1-91e13e7074f8",
   "metadata": {},
   "source": [
    "### 6. Create a 3x3 identity matrix using NumPy"
   ]
  },
  {
   "cell_type": "code",
   "execution_count": 270,
   "id": "65e9df06-ab78-47d6-a68b-a5b10e096d18",
   "metadata": {},
   "outputs": [
    {
     "name": "stdout",
     "output_type": "stream",
     "text": [
      "[[1. 0. 0.]\n",
      " [0. 1. 0.]\n",
      " [0. 0. 1.]]\n"
     ]
    }
   ],
   "source": [
    "import numpy as np\n",
    "array = np.eye(3,3)\n",
    "print(array)"
   ]
  },
  {
   "cell_type": "markdown",
   "id": "a226733a-8f33-4090-9dd3-9a24904eebfd",
   "metadata": {},
   "source": [
    "### 7. Perform matrix multiplication between two 2D arrays"
   ]
  },
  {
   "cell_type": "code",
   "execution_count": 273,
   "id": "be515b74-d75a-4aca-991e-2e7be593491e",
   "metadata": {},
   "outputs": [
    {
     "name": "stdout",
     "output_type": "stream",
     "text": [
      "[[19 22]\n",
      " [43 50]]\n"
     ]
    }
   ],
   "source": [
    "import numpy as np\n",
    "\n",
    "A = np.array([[1, 2],\n",
    "              [3, 4]])\n",
    "B = np.array([[5, 6],\n",
    "              [7, 8]])\n",
    "\n",
    "result = np.dot(A, B)\n",
    "print(result)\n"
   ]
  },
  {
   "cell_type": "markdown",
   "id": "5ced2b96-4449-4421-95bf-e00696c59aeb",
   "metadata": {},
   "source": [
    "### 8. Calculate the dot product and cross product of two vectors using NumPy"
   ]
  },
  {
   "cell_type": "code",
   "execution_count": 276,
   "id": "973f374f-ad75-4927-b92e-79c2e6ae80f6",
   "metadata": {},
   "outputs": [
    {
     "name": "stdout",
     "output_type": "stream",
     "text": [
      "Dot product: 32\n",
      "Cross product: [-3  6 -3]\n"
     ]
    }
   ],
   "source": [
    "import numpy as np\n",
    "\n",
    "v1 = np.array([1, 2, 3])\n",
    "v2 = np.array([4, 5, 6])\n",
    "\n",
    "dot_product = np.dot(v1, v2)\n",
    "cross_product = np.cross(v1, v2)\n",
    "\n",
    "print(\"Dot product:\", dot_product)\n",
    "print(\"Cross product:\", cross_product)\n"
   ]
  },
  {
   "cell_type": "markdown",
   "id": "b062730c-56bd-47ea-9555-c9484217f9d4",
   "metadata": {},
   "source": [
    "### 9. Generate a NumPy array of 20 random integers and find the unique elements in the array"
   ]
  },
  {
   "cell_type": "code",
   "execution_count": 279,
   "id": "64ff078e-88e1-4b89-a666-821e81efd6d3",
   "metadata": {},
   "outputs": [
    {
     "name": "stdout",
     "output_type": "stream",
     "text": [
      "Array: [48 90 58 41 91 59 79 14 61 61 46 61 50 54 63  2 50  6 20 72]\n",
      "Unique elements: [ 2  6 14 20 41 46 48 50 54 58 59 61 63 72 79 90 91]\n"
     ]
    }
   ],
   "source": [
    "import numpy as np\n",
    "\n",
    "arr = np.random.randint(0, 100, size=20)\n",
    "unique_elements = np.unique(arr)\n",
    "\n",
    "print(\"Array:\", arr)\n",
    "print(\"Unique elements:\", unique_elements)\n"
   ]
  },
  {
   "cell_type": "markdown",
   "id": "8be70524-fc96-436a-b5e2-7ddc522d0bb7",
   "metadata": {},
   "source": [
    "### 10. Implement a function using NumPy that returns the inverse of a given matrix"
   ]
  },
  {
   "cell_type": "code",
   "execution_count": 282,
   "id": "07baecfe-4b58-4b0c-83ea-4534ea63525a",
   "metadata": {},
   "outputs": [
    {
     "name": "stdout",
     "output_type": "stream",
     "text": [
      "[[-2.   1. ]\n",
      " [ 1.5 -0.5]]\n"
     ]
    }
   ],
   "source": [
    "import numpy as np\n",
    "\n",
    "def invert_matrix(matrix):\n",
    "    return np.linalg.inv(matrix)\n",
    "\n",
    "# Example usage\n",
    "mat = np.array([[1, 2], [3, 4]])\n",
    "inv_mat = invert_matrix(mat)\n",
    "print(inv_mat)\n"
   ]
  },
  {
   "cell_type": "markdown",
   "id": "a356ab76-e171-4203-807b-7a2aa9609963",
   "metadata": {},
   "source": [
    "# Pandas"
   ]
  },
  {
   "cell_type": "markdown",
   "id": "49745a7e-9537-4c70-8692-dd2ee85dcacd",
   "metadata": {},
   "source": [
    "### 11. Load a CSV file into a Pandas DataFrame and display the first 10 rows"
   ]
  },
  {
   "cell_type": "code",
   "execution_count": 286,
   "id": "59df0ad8-c743-46ca-8d9f-d9ab1b234a4d",
   "metadata": {},
   "outputs": [
    {
     "name": "stdout",
     "output_type": "stream",
     "text": [
      "   total_bill   tip     sex smoker  day    time  size\n",
      "0       16.99  1.01  Female     No  Sun  Dinner     2\n",
      "1       10.34  1.66    Male     No  Sun  Dinner     3\n",
      "2       21.01  3.50    Male     No  Sun  Dinner     3\n",
      "3       23.68  3.31    Male     No  Sun  Dinner     2\n",
      "4       24.59  3.61  Female     No  Sun  Dinner     4\n",
      "5       25.29  4.71    Male     No  Sun  Dinner     4\n",
      "6        8.77  2.00    Male     No  Sun  Dinner     2\n",
      "7       26.88  3.12    Male     No  Sun  Dinner     4\n",
      "8       15.04  1.96    Male     No  Sun  Dinner     2\n",
      "9       14.78  3.23    Male     No  Sun  Dinner     2\n"
     ]
    }
   ],
   "source": [
    "import seaborn as sns\n",
    "\n",
    "df = sns.load_dataset('tips')  # load 'tips' dataset as default\n",
    "print(df.head(10))\n"
   ]
  },
  {
   "cell_type": "markdown",
   "id": "23b9c50e-b618-4059-bd13-6fcb3645b0b3",
   "metadata": {},
   "source": [
    "### 12. Perform groupby operations on a dataset to find the mean and sum of numerical columns based on a categorical column"
   ]
  },
  {
   "cell_type": "code",
   "execution_count": 289,
   "id": "c9f8b9cb-a908-43d3-b919-8b4c7965b08c",
   "metadata": {},
   "outputs": [
    {
     "name": "stdout",
     "output_type": "stream",
     "text": [
      "     total_bill                tip        \n",
      "           mean      sum      mean     sum\n",
      "day                                       \n",
      "Thur  17.682742  1096.33  2.771452  171.83\n",
      "Fri   17.151579   325.88  2.734737   51.96\n",
      "Sat   20.441379  1778.40  2.993103  260.40\n",
      "Sun   21.410000  1627.16  3.255132  247.39\n"
     ]
    },
    {
     "name": "stderr",
     "output_type": "stream",
     "text": [
      "C:\\Users\\Vignesh\\AppData\\Local\\Temp\\ipykernel_10600\\2020745494.py:5: FutureWarning: The default of observed=False is deprecated and will be changed to True in a future version of pandas. Pass observed=False to retain current behavior or observed=True to adopt the future default and silence this warning.\n",
      "  grouped = df.groupby('day').agg({'total_bill': ['mean', 'sum'], 'tip': ['mean', 'sum']})\n"
     ]
    }
   ],
   "source": [
    "import seaborn as sns\n",
    "\n",
    "df = sns.load_dataset('tips')\n",
    "\n",
    "grouped = df.groupby('day').agg({'total_bill': ['mean', 'sum'], 'tip': ['mean', 'sum']})\n",
    "print(grouped)\n"
   ]
  },
  {
   "cell_type": "markdown",
   "id": "06b6c08a-a55e-49bf-aa9e-a35acd633fd5",
   "metadata": {},
   "source": [
    "### 13. Handle missing data in a DataFrame by replacing NaN values with the column mean"
   ]
  },
  {
   "cell_type": "code",
   "execution_count": 292,
   "id": "355c2ff7-e39c-452c-9cfb-00cc62e98946",
   "metadata": {},
   "outputs": [
    {
     "name": "stdout",
     "output_type": "stream",
     "text": [
      "0    29.688533\n",
      "1    29.688533\n",
      "2    29.688533\n",
      "3    29.688533\n",
      "4    29.688533\n",
      "5    29.688533\n",
      "6    54.000000\n",
      "7     2.000000\n",
      "8    27.000000\n",
      "9    14.000000\n",
      "Name: age, dtype: float64\n"
     ]
    },
    {
     "name": "stderr",
     "output_type": "stream",
     "text": [
      "C:\\Users\\Vignesh\\AppData\\Local\\Temp\\ipykernel_10600\\1980715430.py:10: FutureWarning: A value is trying to be set on a copy of a DataFrame or Series through chained assignment using an inplace method.\n",
      "The behavior will change in pandas 3.0. This inplace method will never work because the intermediate object on which we are setting values always behaves as a copy.\n",
      "\n",
      "For example, when doing 'df[col].method(value, inplace=True)', try using 'df.method({col: value}, inplace=True)' or df[col] = df[col].method(value) instead, to perform the operation inplace on the original object.\n",
      "\n",
      "\n",
      "  df['age'].fillna(df['age'].mean(), inplace=True)\n"
     ]
    }
   ],
   "source": [
    "import seaborn as sns\n",
    "import pandas as pd\n",
    "import numpy as np\n",
    "\n",
    "df = sns.load_dataset('titanic')\n",
    "\n",
    "# Introduce NaNs for demonstration\n",
    "df.loc[0:5, 'age'] = np.nan\n",
    "\n",
    "df['age'].fillna(df['age'].mean(), inplace=True)\n",
    "\n",
    "print(df['age'].head(10))\n"
   ]
  },
  {
   "cell_type": "markdown",
   "id": "1e91fbbd-db4a-4bc9-ac4e-a58c6ac5aee0",
   "metadata": {},
   "source": [
    "### 14. Merge two DataFrames on a common key and perform an inner, outer, left, and right join"
   ]
  },
  {
   "cell_type": "code",
   "execution_count": 295,
   "id": "b96d7257-0a9c-4171-8de4-c7ad67c910c0",
   "metadata": {},
   "outputs": [
    {
     "name": "stdout",
     "output_type": "stream",
     "text": [
      "Inner Join:\n",
      "   key  value1  value2\n",
      "0   B       2       5\n",
      "1   C       3       6\n",
      "2   D       4       7\n",
      "\n",
      "Outer Join:\n",
      "   key  value1  value2\n",
      "0   A     1.0     NaN\n",
      "1   B     2.0     5.0\n",
      "2   C     3.0     6.0\n",
      "3   D     4.0     7.0\n",
      "4   E     NaN     8.0\n",
      "\n",
      "Left Join:\n",
      "   key  value1  value2\n",
      "0   A       1     NaN\n",
      "1   B       2     5.0\n",
      "2   C       3     6.0\n",
      "3   D       4     7.0\n",
      "\n",
      "Right Join:\n",
      "   key  value1  value2\n",
      "0   B     2.0       5\n",
      "1   C     3.0       6\n",
      "2   D     4.0       7\n",
      "3   E     NaN       8\n"
     ]
    }
   ],
   "source": [
    "import pandas as pd\n",
    "\n",
    "# Sample DataFrames\n",
    "df1 = pd.DataFrame({\n",
    "    'key': ['A', 'B', 'C', 'D'],\n",
    "    'value1': [1, 2, 3, 4]\n",
    "})\n",
    "\n",
    "df2 = pd.DataFrame({\n",
    "    'key': ['B', 'C', 'D', 'E'],\n",
    "    'value2': [5, 6, 7, 8]\n",
    "})\n",
    "\n",
    "# Inner join\n",
    "inner_join = pd.merge(df1, df2, on='key', how='inner')\n",
    "\n",
    "# Outer join\n",
    "outer_join = pd.merge(df1, df2, on='key', how='outer')\n",
    "\n",
    "# Left join\n",
    "left_join = pd.merge(df1, df2, on='key', how='left')\n",
    "\n",
    "# Right join\n",
    "right_join = pd.merge(df1, df2, on='key', how='right')\n",
    "\n",
    "print(\"Inner Join:\\n\", inner_join)\n",
    "print(\"\\nOuter Join:\\n\", outer_join)\n",
    "print(\"\\nLeft Join:\\n\", left_join)\n",
    "print(\"\\nRight Join:\\n\", right_join)\n"
   ]
  },
  {
   "cell_type": "markdown",
   "id": "7e1b4306-c1a6-490a-8971-b4ac0c25f43f",
   "metadata": {},
   "source": [
    "### 15. Convert a column of object type into a float type and handle any errors that occur during conversion"
   ]
  },
  {
   "cell_type": "code",
   "execution_count": 298,
   "id": "8d2cf313-db56-4523-aec9-6649f2b84fc6",
   "metadata": {},
   "outputs": [
    {
     "name": "stdout",
     "output_type": "stream",
     "text": [
      "       col  col_float\n",
      "0      1.5        1.5\n",
      "1      2.7        2.7\n",
      "2  invalid        NaN\n",
      "3      4.1        4.1\n",
      "4      5.6        5.6\n"
     ]
    }
   ],
   "source": [
    "import pandas as pd\n",
    "\n",
    "df = pd.DataFrame({\n",
    "    'col': ['1.5', '2.7', 'invalid', '4.1', '5.6']\n",
    "})\n",
    "\n",
    "df['col_float'] = pd.to_numeric(df['col'], errors='coerce')  # invalid strings become NaN\n",
    "\n",
    "print(df)\n"
   ]
  },
  {
   "cell_type": "markdown",
   "id": "3d926e02-249e-46ea-a55d-c9f674bcd5b1",
   "metadata": {},
   "source": [
    "### 16. Filter a DataFrame to select rows where a specific column's values fall within a given range"
   ]
  },
  {
   "cell_type": "code",
   "execution_count": 301,
   "id": "9954d840-0be3-4ded-afe1-644d18d6663a",
   "metadata": {},
   "outputs": [
    {
     "name": "stdout",
     "output_type": "stream",
     "text": [
      "     total_bill   tip     sex smoker   day    time  size\n",
      "0         16.99  1.01  Female     No   Sun  Dinner     2\n",
      "1         10.34  1.66    Male     No   Sun  Dinner     3\n",
      "8         15.04  1.96    Male     No   Sun  Dinner     2\n",
      "9         14.78  3.23    Male     No   Sun  Dinner     2\n",
      "10        10.27  1.71    Male     No   Sun  Dinner     2\n",
      "..          ...   ...     ...    ...   ...     ...   ...\n",
      "234       15.53  3.00    Male    Yes   Sat  Dinner     2\n",
      "235       10.07  1.25    Male     No   Sat  Dinner     2\n",
      "236       12.60  1.00    Male    Yes   Sat  Dinner     2\n",
      "242       17.82  1.75    Male     No   Sat  Dinner     2\n",
      "243       18.78  3.00  Female     No  Thur  Dinner     2\n",
      "\n",
      "[130 rows x 7 columns]\n"
     ]
    }
   ],
   "source": [
    "import seaborn as sns\n",
    "\n",
    "df = sns.load_dataset('tips')\n",
    "\n",
    "filtered_df = df[(df['total_bill'] >= 10) & (df['total_bill'] <= 20)]\n",
    "\n",
    "print(filtered_df)\n"
   ]
  },
  {
   "cell_type": "markdown",
   "id": "eb7cc969-bebb-4dfa-90c3-b6b187499fe2",
   "metadata": {},
   "source": [
    "### 17. Create a pivot table from a DataFrame and analyze the data based on multiple aggregations"
   ]
  },
  {
   "cell_type": "code",
   "execution_count": 306,
   "id": "12e8ac90-cb67-4cd6-b555-0c9e61cf3724",
   "metadata": {},
   "outputs": [
    {
     "name": "stdout",
     "output_type": "stream",
     "text": [
      "           tip                          total_bill                            \n",
      "          mean               sum              mean                 sum        \n",
      "sex       Male    Female    Male Female       Male     Female     Male  Female\n",
      "day                                                                           \n",
      "Thur  2.980333  2.575625   89.41  82.42  18.714667  16.715312   561.44  534.89\n",
      "Fri   2.693000  2.781111   26.93  25.03  19.857000  14.145556   198.57  127.31\n",
      "Sat   3.083898  2.801786  181.95  78.45  20.802542  19.680357  1227.35  551.05\n",
      "Sun   3.220345  3.367222  186.78  60.61  21.887241  19.872222  1269.46  357.70\n"
     ]
    },
    {
     "name": "stderr",
     "output_type": "stream",
     "text": [
      "C:\\Users\\Vignesh\\AppData\\Local\\Temp\\ipykernel_10600\\2122645718.py:7: FutureWarning: The default value of observed=False is deprecated and will change to observed=True in a future version of pandas. Specify observed=False to silence this warning and retain the current behavior\n",
      "  pivot = pd.pivot_table(df,\n",
      "C:\\Users\\Vignesh\\AppData\\Local\\Temp\\ipykernel_10600\\2122645718.py:7: FutureWarning: The provided callable <function mean at 0x00000205432C5940> is currently using SeriesGroupBy.mean. In a future version of pandas, the provided callable will be used directly. To keep current behavior pass the string \"mean\" instead.\n",
      "  pivot = pd.pivot_table(df,\n",
      "C:\\Users\\Vignesh\\AppData\\Local\\Temp\\ipykernel_10600\\2122645718.py:7: FutureWarning: The provided callable <function sum at 0x00000205432C4860> is currently using SeriesGroupBy.sum. In a future version of pandas, the provided callable will be used directly. To keep current behavior pass the string \"sum\" instead.\n",
      "  pivot = pd.pivot_table(df,\n"
     ]
    }
   ],
   "source": [
    "import seaborn as sns\n",
    "import pandas as pd\n",
    "import numpy as np\n",
    "\n",
    "df = sns.load_dataset('tips')\n",
    "\n",
    "pivot = pd.pivot_table(df, \n",
    "                       values=['total_bill', 'tip'], \n",
    "                       index='day', \n",
    "                       columns='sex', \n",
    "                       aggfunc={'total_bill': [np.mean, np.sum], 'tip': [np.mean, np.sum]})\n",
    "\n",
    "print(pivot)\n"
   ]
  },
  {
   "cell_type": "markdown",
   "id": "770fa7bb-271c-40ef-8d88-5278fb8db462",
   "metadata": {},
   "source": [
    "### 18. Use the apply() function to apply a custom function to each element in a Pandas Series"
   ]
  },
  {
   "cell_type": "code",
   "execution_count": 309,
   "id": "042c9a36-187d-4639-bac5-0ca4fbb25bd6",
   "metadata": {},
   "outputs": [
    {
     "name": "stdout",
     "output_type": "stream",
     "text": [
      "0     1\n",
      "1     4\n",
      "2     9\n",
      "3    16\n",
      "4    25\n",
      "dtype: int64\n"
     ]
    }
   ],
   "source": [
    "import pandas as pd\n",
    "\n",
    "def square(x):\n",
    "    return x ** 2\n",
    "\n",
    "s = pd.Series([1, 2, 3, 4, 5])\n",
    "result = s.apply(square)\n",
    "\n",
    "print(result)\n"
   ]
  },
  {
   "cell_type": "markdown",
   "id": "1792797b-d903-4ecd-b39e-75798d4e0cd7",
   "metadata": {},
   "source": [
    "### 19. Create a new column in a DataFrame that categorizes a numerical column into bins"
   ]
  },
  {
   "cell_type": "code",
   "execution_count": 312,
   "id": "4a1bfa1d-a41c-4a3a-a1f0-abca7306654e",
   "metadata": {},
   "outputs": [
    {
     "name": "stdout",
     "output_type": "stream",
     "text": [
      "   age    age_group\n",
      "0   15         Teen\n",
      "1   22  Young Adult\n",
      "2   37        Adult\n",
      "3   45        Adult\n",
      "4   52       Senior\n",
      "5   61       Senior\n",
      "6   73       Senior\n"
     ]
    }
   ],
   "source": [
    "import pandas as pd\n",
    "\n",
    "df = pd.DataFrame({'age': [15, 22, 37, 45, 52, 61, 73]})\n",
    "\n",
    "bins = [0, 18, 35, 50, 100]\n",
    "labels = ['Teen', 'Young Adult', 'Adult', 'Senior']\n",
    "\n",
    "df['age_group'] = pd.cut(df['age'], bins=bins, labels=labels)\n",
    "\n",
    "print(df)\n"
   ]
  },
  {
   "cell_type": "markdown",
   "id": "6b644a27-3514-40ef-9ad8-41362733de93",
   "metadata": {},
   "source": [
    "### 20. Replace all instances of a specific value in a DataFrame column with another value"
   ]
  },
  {
   "cell_type": "code",
   "execution_count": 315,
   "id": "e0032ca8-d236-4b14-b716-2dfe83536864",
   "metadata": {},
   "outputs": [
    {
     "name": "stdout",
     "output_type": "stream",
     "text": [
      "    fruit\n",
      "0   apple\n",
      "1   grape\n",
      "2   apple\n",
      "3  orange\n",
      "4   grape\n"
     ]
    }
   ],
   "source": [
    "import pandas as pd\n",
    "\n",
    "df = pd.DataFrame({'fruit': ['apple', 'banana', 'apple', 'orange', 'banana']})\n",
    "\n",
    "df['fruit'] = df['fruit'].replace('banana', 'grape')\n",
    "\n",
    "print(df)\n"
   ]
  },
  {
   "cell_type": "markdown",
   "id": "f911296a-d75b-485f-bb11-626761cd0887",
   "metadata": {},
   "source": [
    "# Data Cleaning & Preprocessing"
   ]
  },
  {
   "cell_type": "markdown",
   "id": "a412c74b-8de3-4f35-b6ce-10d6297cce49",
   "metadata": {},
   "source": [
    "### 21. Load a dataset with mixed data types and clean the data by removing or correcting any non-numeric values"
   ]
  },
  {
   "cell_type": "code",
   "execution_count": 319,
   "id": "6136d041-38f5-4d73-bba2-fcf4e04f0016",
   "metadata": {},
   "outputs": [
    {
     "name": "stdout",
     "output_type": "stream",
     "text": [
      "      A    B\n",
      "0  10.0  5.5\n",
      "3  40.0  8.8\n"
     ]
    }
   ],
   "source": [
    "import pandas as pd\n",
    "import numpy as np\n",
    "\n",
    "df = pd.DataFrame({\n",
    "    'A': ['10', '20', 'thirty', '40', '50'],\n",
    "    'B': ['5.5', 'six', '7.7', '8.8', 'nine']\n",
    "})\n",
    "\n",
    "df['A'] = pd.to_numeric(df['A'], errors='coerce')\n",
    "df['B'] = pd.to_numeric(df['B'], errors='coerce')\n",
    "\n",
    "cleaned_df = df.dropna()\n",
    "\n",
    "\n",
    "print(cleaned_df)\n"
   ]
  },
  {
   "cell_type": "markdown",
   "id": "94f3ed53-7ea1-4064-b12b-a5bf53cb53ce",
   "metadata": {},
   "source": [
    "### 22. Identify and remove duplicate rows from a DataFrame"
   ]
  },
  {
   "cell_type": "code",
   "execution_count": 322,
   "id": "8e0d45ea-4803-49d8-a66a-747c4f5721bf",
   "metadata": {},
   "outputs": [
    {
     "name": "stdout",
     "output_type": "stream",
     "text": [
      "   A  B\n",
      "0  1  a\n",
      "1  2  b\n",
      "3  3  c\n",
      "4  4  d\n"
     ]
    }
   ],
   "source": [
    "import pandas as pd\n",
    "\n",
    "df = pd.DataFrame({\n",
    "    'A': [1, 2, 2, 3, 4, 4],\n",
    "    'B': ['a', 'b', 'b', 'c', 'd', 'd']\n",
    "})\n",
    "\n",
    "df_no_duplicates = df.drop_duplicates()\n",
    "\n",
    "print(df_no_duplicates)\n"
   ]
  },
  {
   "cell_type": "markdown",
   "id": "941e11a6-16de-4f4d-8539-a06ff373be27",
   "metadata": {},
   "source": [
    "### 23. Normalize a dataset using StandardScaler from scikit-learn and explain the difference between min-max scaling and standard scaling"
   ]
  },
  {
   "cell_type": "code",
   "execution_count": 325,
   "id": "75c3e528-6214-4ed3-9c63-bab2d5bbaedb",
   "metadata": {},
   "outputs": [
    {
     "name": "stdout",
     "output_type": "stream",
     "text": [
      "   sepal_length  sepal_width  petal_length  petal_width\n",
      "0     -0.900681     1.019004     -1.340227    -1.315444\n",
      "1     -1.143017    -0.131979     -1.340227    -1.315444\n",
      "2     -1.385353     0.328414     -1.397064    -1.315444\n",
      "3     -1.506521     0.098217     -1.283389    -1.315444\n",
      "4     -1.021849     1.249201     -1.340227    -1.315444\n"
     ]
    }
   ],
   "source": [
    "import pandas as pd\n",
    "from sklearn.preprocessing import StandardScaler\n",
    "import seaborn as sns\n",
    "\n",
    "df = sns.load_dataset('iris')\n",
    "features = df[['sepal_length', 'sepal_width', 'petal_length', 'petal_width']]\n",
    "\n",
    "scaler = StandardScaler()\n",
    "scaled_features = scaler.fit_transform(features)\n",
    "\n",
    "scaled_df = pd.DataFrame(scaled_features, columns=features.columns)\n",
    "\n",
    "print(scaled_df.head())\n"
   ]
  },
  {
   "cell_type": "markdown",
   "id": "24d8a98f-5d6f-4794-98dd-559572d6404e",
   "metadata": {},
   "source": [
    "### 24. Convert a categorical column to numeric using label encoding and explain its impact on the dataset"
   ]
  },
  {
   "cell_type": "code",
   "execution_count": 328,
   "id": "c5be59a4-3150-4e24-8033-ae74fca377b6",
   "metadata": {},
   "outputs": [
    {
     "name": "stdout",
     "output_type": "stream",
     "text": [
      "   color  color_encoded\n",
      "0    red              2\n",
      "1  green              1\n",
      "2   blue              0\n",
      "3  green              1\n",
      "4    red              2\n"
     ]
    }
   ],
   "source": [
    "import pandas as pd\n",
    "from sklearn.preprocessing import LabelEncoder\n",
    "\n",
    "df = pd.DataFrame({'color': ['red', 'green', 'blue', 'green', 'red']})\n",
    "\n",
    "le = LabelEncoder()\n",
    "df['color_encoded'] = le.fit_transform(df['color'])\n",
    "\n",
    "print(df)\n"
   ]
  },
  {
   "cell_type": "markdown",
   "id": "d4146de6-bc00-4016-a779-1b5f44f4a02d",
   "metadata": {},
   "source": [
    "### 25. Split a dataset into training and testing sets using an 80-20 split and shuffle the data before splitting."
   ]
  },
  {
   "cell_type": "code",
   "execution_count": 331,
   "id": "3cf8e3d7-5cc8-4882-a414-4ddc54f0c36b",
   "metadata": {},
   "outputs": [
    {
     "name": "stdout",
     "output_type": "stream",
     "text": [
      "Training set size: 120\n",
      "Testing set size: 30\n"
     ]
    }
   ],
   "source": [
    "import seaborn as sns\n",
    "from sklearn.model_selection import train_test_split\n",
    "\n",
    "df = sns.load_dataset('iris')\n",
    "\n",
    "train, test = train_test_split(df, test_size=0.2, shuffle=True, random_state=42)\n",
    "\n",
    "print(\"Training set size:\", len(train))\n",
    "print(\"Testing set size:\", len(test))\n"
   ]
  },
  {
   "cell_type": "markdown",
   "id": "b421af54-5bd3-4bef-8aa2-0e4130a68292",
   "metadata": {},
   "source": [
    "# Exploratory Data Analysis (EDA)"
   ]
  },
  {
   "cell_type": "markdown",
   "id": "9a6c70a3-dfea-4939-92ea-7d79abf93ab1",
   "metadata": {},
   "source": [
    "### 26. Perform an exploratory data analysis on a dataset by calculating summary statistics (mean, median, mode, standard deviation) for numerical columns"
   ]
  },
  {
   "cell_type": "code",
   "execution_count": 335,
   "id": "03d39c19-23cf-4ce8-9c05-abc845d6e84f",
   "metadata": {},
   "outputs": [
    {
     "name": "stdout",
     "output_type": "stream",
     "text": [
      "                 Mean  Median    Mode   Std Dev\n",
      "day               NaN     NaN     Sat       NaN\n",
      "sex               NaN     NaN    Male       NaN\n",
      "size         2.569672   2.000       2  0.951100\n",
      "smoker            NaN     NaN      No       NaN\n",
      "time              NaN     NaN  Dinner       NaN\n",
      "tip          2.998279   2.900     2.0  1.383638\n",
      "total_bill  19.785943  17.795   13.42  8.902412\n"
     ]
    }
   ],
   "source": [
    "import seaborn as sns\n",
    "import pandas as pd\n",
    "from scipy import stats\n",
    "\n",
    "df = sns.load_dataset('tips')\n",
    "\n",
    "mean = df.mean(numeric_only=True)\n",
    "median = df.median(numeric_only=True)\n",
    "mode = df.mode().iloc[0]  # mode can have multiple rows, take first\n",
    "std_dev = df.std(numeric_only=True)\n",
    "\n",
    "summary = pd.DataFrame({\n",
    "    'Mean': mean,\n",
    "    'Median': median,\n",
    "    'Mode': mode,\n",
    "    'Std Dev': std_dev\n",
    "})\n",
    "\n",
    "print(summary)\n"
   ]
  },
  {
   "cell_type": "markdown",
   "id": "6a473d90-3270-4c21-a5c7-927a6d62aa76",
   "metadata": {},
   "source": [
    "### 27. Visualize the distribution of a numerical column using a histogram and a box plot. Identify and explain any outliers"
   ]
  },
  {
   "cell_type": "code",
   "execution_count": 338,
   "id": "6b6ccbd2-2146-4679-8485-b930a079d600",
   "metadata": {},
   "outputs": [
    {
     "data": {
      "image/png": "[encoded data removed]",
      "text/plain": [
       "<Figure size 1200x500 with 2 Axes>"
      ]
     },
     "metadata": {},
     "output_type": "display_data"
    }
   ],
   "source": [
    "import seaborn as sns\n",
    "import matplotlib.pyplot as plt\n",
    "\n",
    "df = sns.load_dataset('tips')\n",
    "\n",
    "plt.figure(figsize=(12, 5))\n",
    "\n",
    "plt.subplot(1, 2, 1)\n",
    "sns.histplot(df['total_bill'], bins=20, kde=True)\n",
    "plt.title('Histogram of Total Bill')\n",
    "\n",
    "plt.subplot(1, 2, 2)\n",
    "sns.boxplot(x=df['total_bill'])\n",
    "plt.title('Box Plot of Total Bill')\n",
    "\n",
    "plt.show()\n"
   ]
  },
  {
   "cell_type": "markdown",
   "id": "2e59ebfc-3c0e-4774-89f8-b4dd5d295d3d",
   "metadata": {},
   "source": [
    "### 28. Create a correlation matrix of a DataFrame and visualize it using a heatmap. Interpret the results."
   ]
  },
  {
   "cell_type": "code",
   "execution_count": 343,
   "id": "8d9c13a1-0ea3-47d6-b8cf-f66d36d31ed8",
   "metadata": {},
   "outputs": [
    {
     "data": {
      "image/png": "[encoded data removed]",
      "text/plain": [
       "<Figure size 640x480 with 2 Axes>"
      ]
     },
     "metadata": {},
     "output_type": "display_data"
    }
   ],
   "source": [
    "import seaborn as sns\n",
    "import matplotlib.pyplot as plt\n",
    "\n",
    "df = sns.load_dataset('iris')\n",
    "\n",
    "numeric_df = df.select_dtypes(include='number')  # select numeric columns only\n",
    "\n",
    "corr = numeric_df.corr()\n",
    "\n",
    "sns.heatmap(corr, annot=True, cmap='coolwarm')\n",
    "plt.title('Correlation Matrix Heatmap')\n",
    "plt.show()\n"
   ]
  },
  {
   "cell_type": "markdown",
   "id": "9c47d552-f136-4818-942a-571adef6ead1",
   "metadata": {},
   "source": [
    "### 29. Use Pandas to create a scatter plot matrix of multiple columns in a dataset and analyze the relationships between them"
   ]
  },
  {
   "cell_type": "code",
   "execution_count": 346,
   "id": "41a02bc0-febc-49eb-a985-90bc42882de5",
   "metadata": {},
   "outputs": [
    {
     "data": {
      "image/png": "[encoded data removed]",
      "text/plain": [
       "<Figure size 1000x1000 with 16 Axes>"
      ]
     },
     "metadata": {},
     "output_type": "display_data"
    }
   ],
   "source": [
    "import seaborn as sns\n",
    "import pandas as pd\n",
    "import matplotlib.pyplot as plt\n",
    "from pandas.plotting import scatter_matrix\n",
    "\n",
    "df = sns.load_dataset('iris')\n",
    "numeric_df = df.select_dtypes(include='number')\n",
    "\n",
    "scatter_matrix(numeric_df, figsize=(10, 10), diagonal='kde')\n",
    "plt.suptitle('Scatter Plot Matrix')\n",
    "plt.show()\n"
   ]
  },
  {
   "cell_type": "markdown",
   "id": "0ac5091a-02b9-4d2b-961f-fd6e5e752e14",
   "metadata": {},
   "source": [
    "### 30. Perform feature engineering on a dataset by creating new features and then visualize their importance using a bar chart"
   ]
  },
  {
   "cell_type": "code",
   "execution_count": 349,
   "id": "680f36c0-4e65-4764-a9d3-1b804c0009b9",
   "metadata": {},
   "outputs": [],
   "source": [
    "import pandas as pd\n",
    "import numpy as np\n",
    "from sklearn.ensemble import RandomForestClassifier\n",
    "from sklearn.model_selection import train_test_split\n",
    "from sklearn.preprocessing import LabelEncoder\n",
    "import matplotlib.pyplot as plt\n",
    "import seaborn as sns\n",
    "\n",
    "# Load example dataset - Titanic from seaborn\n",
    "titanic = sns.load_dataset('titanic')\n"
   ]
  },
  {
   "cell_type": "code",
   "execution_count": 353,
   "id": "f1eb8ec0-8ac8-45ee-b165-2966fceb2894",
   "metadata": {},
   "outputs": [
    {
     "name": "stderr",
     "output_type": "stream",
     "text": [
      "C:\\Users\\Vignesh\\AppData\\Local\\Temp\\ipykernel_10600\\3881244058.py:8: FutureWarning: A value is trying to be set on a copy of a DataFrame or Series through chained assignment using an inplace method.\n",
      "The behavior will change in pandas 3.0. This inplace method will never work because the intermediate object on which we are setting values always behaves as a copy.\n",
      "\n",
      "For example, when doing 'df[col].method(value, inplace=True)', try using 'df.method({col: value}, inplace=True)' or df[col] = df[col].method(value) instead, to perform the operation inplace on the original object.\n",
      "\n",
      "\n",
      "  titanic['age'].fillna(titanic['age'].median(), inplace=True)\n"
     ]
    }
   ],
   "source": [
    "# Family size\n",
    "titanic['family_size'] = titanic['sibsp'] + titanic['parch'] + 1\n",
    "\n",
    "# Is alone\n",
    "titanic['is_alone'] = (titanic['family_size'] == 1).astype(int)\n",
    "\n",
    "# Age bins (fill missing first)\n",
    "titanic['age'].fillna(titanic['age'].median(), inplace=True)\n",
    "titanic['age_bin'] = pd.cut(titanic['age'], bins=[0, 12, 18, 35, 60, 100],\n",
    "                            labels=['Child', 'Teen', 'Adult', 'MiddleAge', 'Senior'])\n"
   ]
  },
  {
   "cell_type": "code",
   "execution_count": 355,
   "id": "69620dd5-d515-4d37-a595-dfe5184d03d6",
   "metadata": {},
   "outputs": [
    {
     "name": "stderr",
     "output_type": "stream",
     "text": [
      "C:\\Users\\Vignesh\\AppData\\Local\\Temp\\ipykernel_10600\\2447901692.py:7: FutureWarning: A value is trying to be set on a copy of a DataFrame or Series through chained assignment using an inplace method.\n",
      "The behavior will change in pandas 3.0. This inplace method will never work because the intermediate object on which we are setting values always behaves as a copy.\n",
      "\n",
      "For example, when doing 'df[col].method(value, inplace=True)', try using 'df.method({col: value}, inplace=True)' or df[col] = df[col].method(value) instead, to perform the operation inplace on the original object.\n",
      "\n",
      "\n",
      "  titanic['embarked'].fillna(titanic['embarked'].mode()[0], inplace=True)\n"
     ]
    }
   ],
   "source": [
    "# Encode categorical variables\n",
    "for col in ['sex', 'embarked', 'age_bin']:\n",
    "    titanic[col] = titanic[col].astype(str)  # Convert to string\n",
    "    titanic[col] = LabelEncoder().fit_transform(titanic[col])\n",
    "\n",
    "# Fill missing embarked if any\n",
    "titanic['embarked'].fillna(titanic['embarked'].mode()[0], inplace=True)\n",
    "\n",
    "# Features and target\n",
    "features = ['pclass', 'sex', 'age', 'fare', 'embarked', 'family_size', 'is_alone', 'age_bin']\n",
    "X = titanic[features]\n",
    "y = titanic['survived'].astype(int)\n",
    "\n",
    "# Split data\n",
    "X_train, X_test, y_train, y_test = train_test_split(X, y, test_size=0.2, random_state=42)\n"
   ]
  },
  {
   "cell_type": "code",
   "execution_count": 357,
   "id": "4da196da-571a-4f06-99fd-9b2a035ea3d0",
   "metadata": {},
   "outputs": [],
   "source": [
    "rf = RandomForestClassifier(random_state=42)\n",
    "rf.fit(X_train, y_train)\n",
    "\n",
    "importances = rf.feature_importances_\n",
    "feature_names = X.columns\n",
    "\n",
    "# Create a DataFrame for visualization\n",
    "feat_imp_df = pd.DataFrame({'Feature': feature_names, 'Importance': importances}).sort_values(by='Importance', ascending=False)\n"
   ]
  },
  {
   "cell_type": "code",
   "execution_count": 359,
   "id": "f5dab3a8-f080-4993-bc22-4e8fe45784cb",
   "metadata": {},
   "outputs": [
    {
     "data": {
      "image/png": "[encoded data removed]",
      "text/plain": [
       "<Figure size 1000x600 with 1 Axes>"
      ]
     },
     "metadata": {},
     "output_type": "display_data"
    }
   ],
   "source": [
    "plt.figure(figsize=(10,6))\n",
    "sns.barplot(x='Importance', y='Feature', data=feat_imp_df)\n",
    "plt.title('Feature Importances from Random Forest')\n",
    "plt.tight_layout()\n",
    "plt.show()\n"
   ]
  },
  {
   "cell_type": "markdown",
   "id": "4a20168d-2f37-4c08-a510-178d0ba62a87",
   "metadata": {},
   "source": [
    "#         END OF ASSESSMENT"
   ]
  }
 ],
 "metadata": {
  "kernelspec": {
   "display_name": "Python [conda env:base] *",
   "language": "python",
   "name": "conda-base-py"
  },
  "language_info": {
   "codemirror_mode": {
    "name": "ipython",
    "version": 3
   },
   "file_extension": ".py",
   "mimetype": "text/x-python",
   "name": "python",
   "nbconvert_exporter": "python",
   "pygments_lexer": "ipython3",
   "version": "3.12.7"
  }
 },
 "nbformat": 4,
 "nbformat_minor": 5
}
