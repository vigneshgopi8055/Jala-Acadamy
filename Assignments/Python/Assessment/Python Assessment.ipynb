{
 "cells": [
  {
   "cell_type": "markdown",
   "id": "6d871082-1218-42f5-a04e-34c706fc7719",
   "metadata": {},
   "source": [
    "# Python Basics"
   ]
  },
  {
   "cell_type": "markdown",
   "id": "7c05ae4d-7935-4129-9d44-8537e4d50fcf",
   "metadata": {},
   "source": [
    "### 1. Write a program to print your name"
   ]
  },
  {
   "cell_type": "code",
   "execution_count": 3,
   "id": "a8129907-cc78-4828-a0de-67878a59717a",
   "metadata": {},
   "outputs": [
    {
     "name": "stdout",
     "output_type": "stream",
     "text": [
      "Vignesh\n"
     ]
    }
   ],
   "source": [
    "name = \"Vignesh\"\n",
    "print(name)"
   ]
  },
  {
   "cell_type": "markdown",
   "id": "a8e5d809-34a9-48ce-ac62-02c77ebc8ef8",
   "metadata": {},
   "source": [
    "### 2. Write a program for a Single line comment and multi-line comments"
   ]
  },
  {
   "cell_type": "code",
   "execution_count": 5,
   "id": "7b322b8a-065f-4917-a246-296e9e4aa53d",
   "metadata": {},
   "outputs": [
    {
     "name": "stdout",
     "output_type": "stream",
     "text": [
      "This is a single line comment example\n",
      "Multi-line comment above\n"
     ]
    }
   ],
   "source": [
    "print(\"This is a single line comment example\")  # This is a single line comment\n",
    "\n",
    "\"\"\"\n",
    "This is a multi-line comment example.\n",
    "It spans multiple lines.\n",
    "\"\"\"\n",
    "print(\"Multi-line comment above\")\n"
   ]
  },
  {
   "cell_type": "markdown",
   "id": "efdb3d32-bdae-42f7-ae7e-36c06d32a6a6",
   "metadata": {},
   "source": [
    "### 3. Define variables for different Data Types int, Boolean, char, float, double and print on the Console."
   ]
  },
  {
   "cell_type": "code",
   "execution_count": 7,
   "id": "448805fc-0eb4-42d1-a8cc-3c56480c75d7",
   "metadata": {},
   "outputs": [
    {
     "name": "stdout",
     "output_type": "stream",
     "text": [
      "Integer: 10\n",
      "Boolean: True\n",
      "Character: A\n",
      "Float: 3.14\n",
      "Double: 3.141592653589793\n"
     ]
    }
   ],
   "source": [
    "integer_var = 10\n",
    "boolean_var = True\n",
    "char_var = 'A'\n",
    "float_var = 3.14\n",
    "double_var = 3.141592653589793  # Python float is double precision by default\n",
    "\n",
    "print(\"Integer:\", integer_var)\n",
    "print(\"Boolean:\", boolean_var)\n",
    "print(\"Character:\", char_var)\n",
    "print(\"Float:\", float_var)\n",
    "print(\"Double:\", double_var)\n"
   ]
  },
  {
   "cell_type": "markdown",
   "id": "e6ac34e0-c6f5-42f9-b497-c3201df9350b",
   "metadata": {},
   "source": [
    "### 4. Define the local and Global variables with the same name and print both variables and understand the scope of the variables"
   ]
  },
  {
   "cell_type": "code",
   "execution_count": 14,
   "id": "b2d87318-c9cc-40ee-bfc6-6c057e51eff8",
   "metadata": {},
   "outputs": [
    {
     "name": "stdout",
     "output_type": "stream",
     "text": [
      "Inside function, local x = 5\n",
      "Outside function, global x = 10\n"
     ]
    }
   ],
   "source": [
    "x = 10  # Global variable\n",
    "\n",
    "def my_function():\n",
    "    x = 5  # Local variable\n",
    "    print(\"Inside function, local x =\", x)\n",
    "\n",
    "my_function()\n",
    "print(\"Outside function, global x =\", x)\n"
   ]
  },
  {
   "cell_type": "markdown",
   "id": "ca4c4119-bd56-4e2c-a9cc-adaaca13ffbc",
   "metadata": {},
   "source": [
    "# Operators"
   ]
  },
  {
   "cell_type": "markdown",
   "id": "c3257086-6e70-48e0-aae4-9400ed82f0c5",
   "metadata": {},
   "source": [
    "### 1. Write a function for arithmetic operators(+,-,*,/)"
   ]
  },
  {
   "cell_type": "code",
   "execution_count": 18,
   "id": "0e4b4139-9c23-425c-8d93-63d242464655",
   "metadata": {},
   "outputs": [
    {
     "name": "stdout",
     "output_type": "stream",
     "text": [
      "Addition: 15\n",
      "Subtraction: 5\n",
      "Multiplication: 50\n",
      "Division: 2.0\n"
     ]
    }
   ],
   "source": [
    "def arithmetic_ops(a, b):\n",
    "    addition = a + b\n",
    "    subtraction = a - b\n",
    "    multiplication = a * b\n",
    "    division = a / b if b != 0 else None\n",
    "    return addition, subtraction, multiplication, division\n",
    "\n",
    "result = arithmetic_ops(10, 5)\n",
    "print(\"Addition:\", result[0])\n",
    "print(\"Subtraction:\", result[1])\n",
    "print(\"Multiplication:\", result[2])\n",
    "print(\"Division:\", result[3])\n"
   ]
  },
  {
   "cell_type": "markdown",
   "id": "5eb2450b-4473-498a-b212-82d1480b0e4b",
   "metadata": {},
   "source": [
    "### 2. Write a method for increment and decrement operators(++, --)"
   ]
  },
  {
   "cell_type": "code",
   "execution_count": 21,
   "id": "762adc92-e49a-4e01-826d-e157a20c4aa6",
   "metadata": {},
   "outputs": [
    {
     "name": "stdout",
     "output_type": "stream",
     "text": [
      "After increment: 11\n",
      "After decrement: 10\n"
     ]
    }
   ],
   "source": [
    "def increment_decrement(value):\n",
    "    value += 1\n",
    "    print(\"After increment:\", value)\n",
    "    value -= 1\n",
    "    print(\"After decrement:\", value)\n",
    "\n",
    "increment_decrement(10)\n"
   ]
  },
  {
   "cell_type": "markdown",
   "id": "bd315b20-c4b0-4050-811c-2d6b9188e626",
   "metadata": {},
   "source": [
    "### 3. Write a program to find the two numbers equal or not"
   ]
  },
  {
   "cell_type": "code",
   "execution_count": 24,
   "id": "686be5b4-ec86-4981-a23e-7b4e48d1a13d",
   "metadata": {},
   "outputs": [
    {
     "name": "stdout",
     "output_type": "stream",
     "text": [
      "Numbers are equal\n",
      "Numbers are not equal\n"
     ]
    }
   ],
   "source": [
    "def check_equal(num1, num2):\n",
    "    if num1 == num2:\n",
    "        print(\"Numbers are equal\")\n",
    "    else:\n",
    "        print(\"Numbers are not equal\")\n",
    "\n",
    "check_equal(5, 5)\n",
    "check_equal(3, 7)\n"
   ]
  },
  {
   "cell_type": "markdown",
   "id": "1c9ab501-4baa-4d17-8b21-9db8ad3faaa9",
   "metadata": {},
   "source": [
    "### 4. Program for relational operators (<,<==, >, >==)"
   ]
  },
  {
   "cell_type": "code",
   "execution_count": 27,
   "id": "1303ed10-2ce4-42ed-abc4-b9097c482df0",
   "metadata": {},
   "outputs": [
    {
     "name": "stdout",
     "output_type": "stream",
     "text": [
      "a < b: True\n",
      "a <= b: True\n",
      "a > b: False\n",
      "a >= b: False\n"
     ]
    }
   ],
   "source": [
    "def relational_ops(a, b):\n",
    "    print(\"a < b:\", a < b)\n",
    "    print(\"a <= b:\", a <= b)\n",
    "    print(\"a > b:\", a > b)\n",
    "    print(\"a >= b:\", a >= b)\n",
    "\n",
    "relational_ops(5, 10)\n"
   ]
  },
  {
   "cell_type": "markdown",
   "id": "2feb83bb-8dd3-4343-b6b1-4a004ae5892f",
   "metadata": {},
   "source": [
    "### 5. Print the smaller and larger number"
   ]
  },
  {
   "cell_type": "code",
   "execution_count": 30,
   "id": "f27aa1a6-6f69-4d02-a39e-11a3466758d3",
   "metadata": {},
   "outputs": [
    {
     "name": "stdout",
     "output_type": "stream",
     "text": [
      "Smaller number: 7\n",
      "Larger number: 12\n",
      "Smaller number: 15\n",
      "Larger number: 20\n",
      "Both numbers are equal: 5\n"
     ]
    }
   ],
   "source": [
    "def print_smaller_larger(a, b):\n",
    "    if a < b:\n",
    "        print(\"Smaller number:\", a)\n",
    "        print(\"Larger number:\", b)\n",
    "    elif a > b:\n",
    "        print(\"Smaller number:\", b)\n",
    "        print(\"Larger number:\", a)\n",
    "    else:\n",
    "        print(\"Both numbers are equal:\", a)\n",
    "\n",
    "print_smaller_larger(7, 12)\n",
    "print_smaller_larger(20, 15)\n",
    "print_smaller_larger(5, 5)\n"
   ]
  },
  {
   "cell_type": "markdown",
   "id": "3c19bd62-dfc4-4938-a838-00c087f50c47",
   "metadata": {},
   "source": [
    "# Loops"
   ]
  },
  {
   "cell_type": "markdown",
   "id": "9f6be883-e02a-44e6-a6a2-36b28fb6d1b4",
   "metadata": {},
   "source": [
    "### 1. Write a program to print “Bright IT Career” ten times using for loop"
   ]
  },
  {
   "cell_type": "code",
   "execution_count": 35,
   "id": "788dc32f-8944-48cc-a9ef-cad53aa9bec2",
   "metadata": {},
   "outputs": [
    {
     "name": "stdout",
     "output_type": "stream",
     "text": [
      "Bright IT Career\n",
      "Bright IT Career\n",
      "Bright IT Career\n",
      "Bright IT Career\n",
      "Bright IT Career\n",
      "Bright IT Career\n",
      "Bright IT Career\n",
      "Bright IT Career\n",
      "Bright IT Career\n",
      "Bright IT Career\n"
     ]
    }
   ],
   "source": [
    "for _ in range(10):\n",
    "    print(\"Bright IT Career\")\n"
   ]
  },
  {
   "cell_type": "markdown",
   "id": "73c6eb18-dfde-4693-874a-1759f2b587a8",
   "metadata": {},
   "source": [
    "### 2. Write a python program to print 1 to 20 numbers using the while loop"
   ]
  },
  {
   "cell_type": "code",
   "execution_count": 39,
   "id": "d770a63d-171b-45f6-b688-13210c3f844b",
   "metadata": {},
   "outputs": [
    {
     "name": "stdout",
     "output_type": "stream",
     "text": [
      "1\n",
      "2\n",
      "3\n",
      "4\n",
      "5\n",
      "6\n",
      "7\n",
      "8\n",
      "9\n",
      "10\n",
      "11\n",
      "12\n",
      "13\n",
      "14\n",
      "15\n",
      "16\n",
      "17\n",
      "18\n",
      "19\n",
      "20\n"
     ]
    }
   ],
   "source": [
    "i = 1\n",
    "while i <= 20:\n",
    "    print(i)\n",
    "    i += 1\n"
   ]
  },
  {
   "cell_type": "markdown",
   "id": "9c0c2316-e8b8-4262-8268-440a6d173d6f",
   "metadata": {},
   "source": [
    "### 3. Program to equal operator and not equal operators"
   ]
  },
  {
   "cell_type": "code",
   "execution_count": 42,
   "id": "ed84829b-c228-408c-a972-2a1e76e709e1",
   "metadata": {},
   "outputs": [
    {
     "name": "stdout",
     "output_type": "stream",
     "text": [
      "Equal (==): True\n",
      "Not equal (!=): False\n",
      "Equal (==): False\n",
      "Not equal (!=): True\n"
     ]
    }
   ],
   "source": [
    "def check_operators(a, b):\n",
    "    print(\"Equal (==):\", a == b)\n",
    "    print(\"Not equal (!=):\", a != b)\n",
    "\n",
    "check_operators(5, 5)\n",
    "check_operators(5, 10)\n"
   ]
  },
  {
   "cell_type": "markdown",
   "id": "6ec94124-7b95-4d33-ae77-29d819013cad",
   "metadata": {},
   "source": [
    "### 4. Write a program to print the odd and even numbers"
   ]
  },
  {
   "cell_type": "code",
   "execution_count": 45,
   "id": "ba0ff62e-b52e-4c68-a1da-29cf48dcdd4f",
   "metadata": {},
   "outputs": [
    {
     "name": "stdout",
     "output_type": "stream",
     "text": [
      "1 is odd\n",
      "2 is even\n",
      "3 is odd\n",
      "4 is even\n",
      "5 is odd\n",
      "6 is even\n",
      "7 is odd\n",
      "8 is even\n",
      "9 is odd\n",
      "10 is even\n",
      "11 is odd\n",
      "12 is even\n",
      "13 is odd\n",
      "14 is even\n",
      "15 is odd\n",
      "16 is even\n",
      "17 is odd\n",
      "18 is even\n",
      "19 is odd\n",
      "20 is even\n"
     ]
    }
   ],
   "source": [
    "def print_odd_even(n):\n",
    "    for i in range(1, n + 1):\n",
    "        if i % 2 == 0:\n",
    "            print(i, \"is even\")\n",
    "        else:\n",
    "            print(i, \"is odd\")\n",
    "\n",
    "print_odd_even(20)\n"
   ]
  },
  {
   "cell_type": "markdown",
   "id": "39c75b48-0f0d-4d6d-8e5a-62e5f33934f0",
   "metadata": {},
   "source": [
    "### 5. Write a program to print largest number among three numbers"
   ]
  },
  {
   "cell_type": "code",
   "execution_count": 48,
   "id": "a213228f-b50f-42a0-bdac-b953912e04ed",
   "metadata": {},
   "outputs": [
    {
     "name": "stdout",
     "output_type": "stream",
     "text": [
      "Largest number: 25\n"
     ]
    }
   ],
   "source": [
    "def largest_of_three(a, b, c):\n",
    "    if a >= b and a >= c:\n",
    "        print(\"Largest number:\", a)\n",
    "    elif b >= a and b >= c:\n",
    "        print(\"Largest number:\", b)\n",
    "    else:\n",
    "        print(\"Largest number:\", c)\n",
    "\n",
    "largest_of_three(10, 25, 15)\n"
   ]
  },
  {
   "cell_type": "markdown",
   "id": "1f62602e-0856-4a06-8ce7-0634e6af5e15",
   "metadata": {},
   "source": [
    "### 6. Write a program to print even number between 10 and 20 using while"
   ]
  },
  {
   "cell_type": "code",
   "execution_count": 51,
   "id": "3545efcc-0248-4209-b0e3-cd23d3644c05",
   "metadata": {},
   "outputs": [
    {
     "name": "stdout",
     "output_type": "stream",
     "text": [
      "10\n",
      "12\n",
      "14\n",
      "16\n",
      "18\n",
      "20\n"
     ]
    }
   ],
   "source": [
    "num = 10\n",
    "while num <= 20:\n",
    "    if num % 2 == 0:\n",
    "        print(num)\n",
    "    num += 1\n"
   ]
  },
  {
   "cell_type": "markdown",
   "id": "68627c43-10e0-4fb8-8ccd-ee8932a4091f",
   "metadata": {},
   "source": [
    "### 7. Write a program to print 1 to 10 using the do-while loop statement"
   ]
  },
  {
   "cell_type": "code",
   "execution_count": 54,
   "id": "a6c13f37-b7e1-4af3-965f-6db7d9db3524",
   "metadata": {},
   "outputs": [
    {
     "name": "stdout",
     "output_type": "stream",
     "text": [
      "1\n",
      "2\n",
      "3\n",
      "4\n",
      "5\n",
      "6\n",
      "7\n",
      "8\n",
      "9\n",
      "10\n"
     ]
    }
   ],
   "source": [
    "i = 1\n",
    "while True:\n",
    "    print(i)\n",
    "    i += 1\n",
    "    if i > 10:\n",
    "        break\n"
   ]
  },
  {
   "cell_type": "markdown",
   "id": "88810eff-e21f-44f5-bb54-36b65edc850b",
   "metadata": {},
   "source": [
    "### 8. Write a program to find Armstrong number or not"
   ]
  },
  {
   "cell_type": "code",
   "execution_count": 57,
   "id": "5c1765cb-90ac-483b-9bc2-b1f8f27068a4",
   "metadata": {},
   "outputs": [
    {
     "name": "stdout",
     "output_type": "stream",
     "text": [
      "153 is an Armstrong number\n"
     ]
    }
   ],
   "source": [
    "def is_armstrong(number):\n",
    "    digits = str(number)\n",
    "    power = len(digits)\n",
    "    total = sum(int(d) ** power for d in digits)\n",
    "    return total == number\n",
    "\n",
    "num = 153\n",
    "if is_armstrong(num):\n",
    "    print(num, \"is an Armstrong number\")\n",
    "else:\n",
    "    print(num, \"is not an Armstrong number\")\n"
   ]
  },
  {
   "cell_type": "markdown",
   "id": "87c71153-628c-473d-a6cd-4b475796998e",
   "metadata": {},
   "source": [
    "### 9. Write a program to find the prime or not"
   ]
  },
  {
   "cell_type": "code",
   "execution_count": 60,
   "id": "508dc7f9-89b2-46cb-a951-18f8ef20f334",
   "metadata": {},
   "outputs": [
    {
     "name": "stdout",
     "output_type": "stream",
     "text": [
      "29 is a prime number\n"
     ]
    }
   ],
   "source": [
    "def is_prime(n):\n",
    "    if n <= 1:\n",
    "        return False\n",
    "    for i in range(2, int(n**0.5) + 1):\n",
    "        if n % i == 0:\n",
    "            return False\n",
    "    return True\n",
    "\n",
    "num = 29\n",
    "if is_prime(num):\n",
    "    print(num, \"is a prime number\")\n",
    "else:\n",
    "    print(num, \"is not a prime number\")\n"
   ]
  },
  {
   "cell_type": "markdown",
   "id": "7fd4c9fc-9d83-450b-9f5d-1fd37c3e30cc",
   "metadata": {},
   "source": [
    "### 10. Write a program to palindrome or not"
   ]
  },
  {
   "cell_type": "code",
   "execution_count": 65,
   "id": "d4ef7703-7296-464d-978c-b9861736c9be",
   "metadata": {},
   "outputs": [
    {
     "name": "stdout",
     "output_type": "stream",
     "text": [
      "madam is a palindrome\n"
     ]
    }
   ],
   "source": [
    "def is_palindrome(s):\n",
    "    return s == s[::-1]\n",
    "\n",
    "word = \"madam\"\n",
    "if is_palindrome(word):\n",
    "    print(word, \"is a palindrome\")\n",
    "else:\n",
    "    print(word, \"is not a palindrome\")\n"
   ]
  },
  {
   "cell_type": "markdown",
   "id": "16c62feb-cde0-4063-a8c5-e0953a433b2b",
   "metadata": {},
   "source": [
    "### 11. Program to check whether a number is EVEN or ODD using switch"
   ]
  },
  {
   "cell_type": "code",
   "execution_count": 68,
   "id": "77ace1e7-7ac7-4627-93b4-266698917680",
   "metadata": {},
   "outputs": [
    {
     "name": "stdout",
     "output_type": "stream",
     "text": [
      "10 is Even\n",
      "7 is Odd\n"
     ]
    }
   ],
   "source": [
    "def check_even_odd(num):\n",
    "    match num % 2:\n",
    "        case 0:\n",
    "            print(num, \"is Even\")\n",
    "        case 1:\n",
    "            print(num, \"is Odd\")\n",
    "\n",
    "check_even_odd(10)\n",
    "check_even_odd(7)\n"
   ]
  },
  {
   "cell_type": "markdown",
   "id": "287c93ce-3e86-4be0-96ba-9c80f6282df0",
   "metadata": {},
   "source": [
    "### 12. Print gender (Male/Female) program according to given M/F using switch"
   ]
  },
  {
   "cell_type": "code",
   "execution_count": 71,
   "id": "a4dc5247-8da8-43d2-889c-ab0290b8eafd",
   "metadata": {},
   "outputs": [
    {
     "name": "stdout",
     "output_type": "stream",
     "text": [
      "Male\n",
      "Female\n",
      "Invalid input\n"
     ]
    }
   ],
   "source": [
    "def print_gender(ch):\n",
    "    match ch.upper():\n",
    "        case 'M':\n",
    "            print(\"Male\")\n",
    "        case 'F':\n",
    "            print(\"Female\")\n",
    "        case _:\n",
    "            print(\"Invalid input\")\n",
    "\n",
    "print_gender('M')\n",
    "print_gender('F')\n",
    "print_gender('X')\n"
   ]
  },
  {
   "cell_type": "markdown",
   "id": "ce144c50-2a2b-45f9-819b-291dcaf2f490",
   "metadata": {},
   "source": [
    "# Arrays"
   ]
  },
  {
   "cell_type": "markdown",
   "id": "7f4e3a49-c311-41e7-96d5-9961bfe41e04",
   "metadata": {},
   "source": [
    "### 1. Write a function to add integer values of an array"
   ]
  },
  {
   "cell_type": "code",
   "execution_count": 75,
   "id": "043cee4a-888a-4b04-8b38-f549dd18b71f",
   "metadata": {},
   "outputs": [
    {
     "name": "stdout",
     "output_type": "stream",
     "text": [
      "15\n"
     ]
    }
   ],
   "source": [
    "def sum_array(arr):\n",
    "    total = 0\n",
    "    for num in arr:\n",
    "        total += num\n",
    "    return total\n",
    "\n",
    "numbers = [1, 2, 3, 4, 5]\n",
    "print(sum_array(numbers))\n"
   ]
  },
  {
   "cell_type": "markdown",
   "id": "973878c4-4577-475a-a13c-7bfb3db67599",
   "metadata": {},
   "source": [
    "### 2. Write a function to calculate the average value of an array of integers"
   ]
  },
  {
   "cell_type": "code",
   "execution_count": 78,
   "id": "0fe2c1a6-e2d0-47e1-9f71-17529968cda9",
   "metadata": {},
   "outputs": [
    {
     "name": "stdout",
     "output_type": "stream",
     "text": [
      "30.0\n"
     ]
    }
   ],
   "source": [
    "def average_array(arr):\n",
    "    if len(arr) == 0:\n",
    "        return 0\n",
    "    return sum(arr) / len(arr)\n",
    "\n",
    "numbers = [10, 20, 30, 40, 50]\n",
    "print(average_array(numbers))\n"
   ]
  },
  {
   "cell_type": "markdown",
   "id": "1d94ae64-57ed-4701-a5d8-07e1f6343cb2",
   "metadata": {},
   "source": [
    "### 3. Write a program to find the index of an array element"
   ]
  },
  {
   "cell_type": "code",
   "execution_count": 81,
   "id": "54719fd3-4174-46b1-a912-1de69da5db03",
   "metadata": {},
   "outputs": [
    {
     "name": "stdout",
     "output_type": "stream",
     "text": [
      "2\n",
      "-1\n"
     ]
    }
   ],
   "source": [
    "def find_index(arr, element):\n",
    "    if element in arr:\n",
    "        return arr.index(element)\n",
    "    else:\n",
    "        return -1\n",
    "\n",
    "numbers = [5, 10, 15, 20, 25]\n",
    "print(find_index(numbers, 15))  # Output: 2\n",
    "print(find_index(numbers, 30))  # Output: -1 (not found)\n"
   ]
  },
  {
   "cell_type": "markdown",
   "id": "19a4eb5d-f31d-4406-9329-e9f2dadd2a02",
   "metadata": {},
   "source": [
    "### 4. Write a function to test if array contains a specific value"
   ]
  },
  {
   "cell_type": "code",
   "execution_count": 84,
   "id": "11cdb980-c068-4b25-9be7-fc1da51b243f",
   "metadata": {},
   "outputs": [
    {
     "name": "stdout",
     "output_type": "stream",
     "text": [
      "True\n",
      "False\n"
     ]
    }
   ],
   "source": [
    "def contains_value(arr, value):\n",
    "    return value in arr\n",
    "\n",
    "numbers = [3, 6, 9, 12, 15]\n",
    "print(contains_value(numbers, 9))   \n",
    "print(contains_value(numbers, 7))   \n"
   ]
  },
  {
   "cell_type": "markdown",
   "id": "509d2e95-55df-44f2-8a42-533cf0d1aed9",
   "metadata": {},
   "source": [
    "### 5. Write a function to remove a specific element from an array"
   ]
  },
  {
   "cell_type": "code",
   "execution_count": 87,
   "id": "b938525b-875a-4a47-97be-7d536388e06b",
   "metadata": {},
   "outputs": [
    {
     "name": "stdout",
     "output_type": "stream",
     "text": [
      "[1, 3, 4, 5]\n"
     ]
    }
   ],
   "source": [
    "def remove_element(arr, value):\n",
    "    return [x for x in arr if x != value]\n",
    "\n",
    "numbers = [1, 2, 3, 2, 4, 2, 5]\n",
    "result = remove_element(numbers, 2)\n",
    "print(result)\n"
   ]
  },
  {
   "cell_type": "markdown",
   "id": "9cd74316-a28f-4d89-9f26-220115608bf9",
   "metadata": {},
   "source": [
    "### 6. Write a function to copy an array to another array"
   ]
  },
  {
   "cell_type": "code",
   "execution_count": 90,
   "id": "190f8a82-c4bf-4b62-b490-a47af142c6fa",
   "metadata": {},
   "outputs": [
    {
     "name": "stdout",
     "output_type": "stream",
     "text": [
      "[1, 2, 3, 4, 5]\n"
     ]
    }
   ],
   "source": [
    "def copy_array(arr):\n",
    "    return arr[:]\n",
    "\n",
    "original = [1, 2, 3, 4, 5]\n",
    "copied = copy_array(original)\n",
    "print(copied)\n"
   ]
  },
  {
   "cell_type": "markdown",
   "id": "cfbf3d0e-3575-407f-8f15-03ab28eecf63",
   "metadata": {},
   "source": [
    "### 7. Write a function to insert an element at a specific position in the array"
   ]
  },
  {
   "cell_type": "code",
   "execution_count": 93,
   "id": "93d07dae-574b-4d83-965b-a6f6bd4e77f3",
   "metadata": {},
   "outputs": [
    {
     "name": "stdout",
     "output_type": "stream",
     "text": [
      "[10, 20, 25, 30, 40]\n"
     ]
    }
   ],
   "source": [
    "def insert_element(arr, index, value):\n",
    "    if 0 <= index <= len(arr):\n",
    "        arr.insert(index, value)\n",
    "    return arr\n",
    "\n",
    "numbers = [10, 20, 30, 40]\n",
    "result = insert_element(numbers, 2, 25)\n",
    "print(result)\n"
   ]
  },
  {
   "cell_type": "markdown",
   "id": "404dd57a-5d29-4b13-ae21-6f9c00bae76a",
   "metadata": {},
   "source": [
    "### 8. Write a function to find the minimum and maximum value of an array"
   ]
  },
  {
   "cell_type": "code",
   "execution_count": 96,
   "id": "d8956d18-6e16-4cde-bb60-0c20dae7cba7",
   "metadata": {},
   "outputs": [
    {
     "name": "stdout",
     "output_type": "stream",
     "text": [
      "Minimum: 3\n",
      "Maximum: 27\n"
     ]
    }
   ],
   "source": [
    "def min_max(arr):\n",
    "    return min(arr), max(arr)\n",
    "\n",
    "numbers = [15, 3, 9, 27, 12]\n",
    "minimum, maximum = min_max(numbers)\n",
    "print(\"Minimum:\", minimum)\n",
    "print(\"Maximum:\", maximum)\n"
   ]
  },
  {
   "cell_type": "markdown",
   "id": "cbd4acf5-697a-444c-b009-4f6c368cc4ff",
   "metadata": {},
   "source": [
    "### 9. Write a function to reverse an array of integer values"
   ]
  },
  {
   "cell_type": "code",
   "execution_count": 99,
   "id": "86879adb-9782-4c01-832a-d0cda398fdba",
   "metadata": {},
   "outputs": [
    {
     "name": "stdout",
     "output_type": "stream",
     "text": [
      "[5, 4, 3, 2, 1]\n"
     ]
    }
   ],
   "source": [
    "def reverse_array(arr):\n",
    "    return arr[::-1]\n",
    "\n",
    "numbers = [1, 2, 3, 4, 5]\n",
    "reversed_numbers = reverse_array(numbers)\n",
    "print(reversed_numbers)\n"
   ]
  },
  {
   "cell_type": "markdown",
   "id": "2fa68ecd-689b-415b-9bf6-641f53bcc58e",
   "metadata": {},
   "source": [
    "### 10. Write a function to find the duplicate values of an array"
   ]
  },
  {
   "cell_type": "code",
   "execution_count": 102,
   "id": "04d4505a-4aa4-4433-855b-88426add27a3",
   "metadata": {},
   "outputs": [
    {
     "name": "stdout",
     "output_type": "stream",
     "text": [
      "[1, 2]\n"
     ]
    }
   ],
   "source": [
    "def find_duplicates(arr):\n",
    "    seen = set()\n",
    "    duplicates = set()\n",
    "    for item in arr:\n",
    "        if item in seen:\n",
    "            duplicates.add(item)\n",
    "        else:\n",
    "            seen.add(item)\n",
    "    return list(duplicates)\n",
    "\n",
    "numbers = [1, 2, 3, 2, 4, 5, 1, 6]\n",
    "print(find_duplicates(numbers))\n",
    "\n"
   ]
  },
  {
   "cell_type": "markdown",
   "id": "e63e84cf-400c-481e-b2cf-c931e9f049f9",
   "metadata": {},
   "source": [
    "### 11. Write a program to find the common values between two arrays"
   ]
  },
  {
   "cell_type": "code",
   "execution_count": 107,
   "id": "d588b8d0-db7c-4db4-b3cf-a2815973b48a",
   "metadata": {},
   "outputs": [
    {
     "name": "stdout",
     "output_type": "stream",
     "text": [
      "[4, 5]\n"
     ]
    }
   ],
   "source": [
    "def common_values(arr1, arr2):\n",
    "    return list(set(arr1) & set(arr2))\n",
    "\n",
    "array1 = [1, 2, 3, 4, 5]\n",
    "array2 = [4, 5, 6, 7, 8]\n",
    "print(common_values(array1, array2))\n"
   ]
  },
  {
   "cell_type": "markdown",
   "id": "2b4ea4b5-02e6-4970-a816-4d8548b12646",
   "metadata": {},
   "source": [
    "### 12. Write a method to remove duplicate elements from an array"
   ]
  },
  {
   "cell_type": "code",
   "execution_count": 110,
   "id": "1c912280-e54e-4718-be26-a3d9f52eaa0f",
   "metadata": {},
   "outputs": [
    {
     "name": "stdout",
     "output_type": "stream",
     "text": [
      "[1, 2, 3, 4, 5]\n"
     ]
    }
   ],
   "source": [
    "def remove_duplicates(arr):\n",
    "    return list(dict.fromkeys(arr))\n",
    "\n",
    "numbers = [1, 2, 2, 3, 4, 4, 5]\n",
    "print(remove_duplicates(numbers))\n",
    "\n"
   ]
  },
  {
   "cell_type": "markdown",
   "id": "c0021556-80fe-4485-93bc-cd0f3860dea8",
   "metadata": {},
   "source": [
    "### 13. Write a method to find the second largest number in an array"
   ]
  },
  {
   "cell_type": "code",
   "execution_count": 113,
   "id": "663478f9-6e5c-4560-a7df-5682e7dcf2fa",
   "metadata": {},
   "outputs": [
    {
     "name": "stdout",
     "output_type": "stream",
     "text": [
      "25\n"
     ]
    }
   ],
   "source": [
    "def second_largest(arr):\n",
    "    unique = list(set(arr))\n",
    "    if len(unique) < 2:\n",
    "        return None\n",
    "    unique.sort()\n",
    "    return unique[-2]\n",
    "\n",
    "numbers = [10, 25, 5, 40, 25, 40]\n",
    "print(second_largest(numbers))\n"
   ]
  },
  {
   "cell_type": "markdown",
   "id": "9dcbb813-20c5-40bc-ac2b-cfebba301730",
   "metadata": {},
   "source": [
    "### 14. Write a method to find the second largest number in an array"
   ]
  },
  {
   "cell_type": "code",
   "execution_count": 116,
   "id": "79ce3e1d-50f1-44b3-868a-56cb9dc9bc1e",
   "metadata": {},
   "outputs": [
    {
     "name": "stdout",
     "output_type": "stream",
     "text": [
      "25\n"
     ]
    }
   ],
   "source": [
    "def second_largest(arr):\n",
    "    unique_nums = list(set(arr))\n",
    "    if len(unique_nums) < 2:\n",
    "        return None\n",
    "    unique_nums.sort(reverse=True)\n",
    "    return unique_nums[1]\n",
    "\n",
    "numbers = [10, 25, 5, 40, 25, 40]\n",
    "print(second_largest(numbers))\n"
   ]
  },
  {
   "cell_type": "markdown",
   "id": "267aa1bc-dc78-4438-8a10-ac98c3e493ca",
   "metadata": {},
   "source": [
    "### 15. Write a method to find number of even number and odd numbers in an array"
   ]
  },
  {
   "cell_type": "code",
   "execution_count": 119,
   "id": "d0827193-5a08-430c-bc46-e1302d8b5d91",
   "metadata": {},
   "outputs": [
    {
     "name": "stdout",
     "output_type": "stream",
     "text": [
      "Even numbers: 3\n",
      "Odd numbers: 4\n"
     ]
    }
   ],
   "source": [
    "def count_even_odd(arr):\n",
    "    even_count = 0\n",
    "    odd_count = 0\n",
    "    for num in arr:\n",
    "        if num % 2 == 0:\n",
    "            even_count += 1\n",
    "        else:\n",
    "            odd_count += 1\n",
    "    return even_count, odd_count\n",
    "\n",
    "numbers = [1, 2, 3, 4, 5, 6, 7]\n",
    "even, odd = count_even_odd(numbers)\n",
    "print(\"Even numbers:\", even)\n",
    "print(\"Odd numbers:\", odd)\n"
   ]
  },
  {
   "cell_type": "markdown",
   "id": "e66500d5-2b48-41f9-9a72-4feb35c220ce",
   "metadata": {},
   "source": [
    "### 16. Write a function to get the difference of largest and smallest value"
   ]
  },
  {
   "cell_type": "code",
   "execution_count": 122,
   "id": "9b0f8968-04e2-45d3-b622-330daf8ca8df",
   "metadata": {},
   "outputs": [
    {
     "name": "stdout",
     "output_type": "stream",
     "text": [
      "8\n"
     ]
    }
   ],
   "source": [
    "def difference_max_min(numbers):\n",
    "    if not numbers:\n",
    "        return 0\n",
    "    max_val = max(numbers)\n",
    "    min_val = min(numbers)\n",
    "    return max_val - min_val\n",
    "\n",
    "values = [10, 5, 3, 9, 2]\n",
    "print(difference_max_min(values))\n"
   ]
  },
  {
   "cell_type": "markdown",
   "id": "382b8171-47b5-4851-be3a-469a25affa0b",
   "metadata": {},
   "source": [
    "### 17. Write a method to verify if the array contains two specified elements(12,23)"
   ]
  },
  {
   "cell_type": "code",
   "execution_count": 125,
   "id": "f8679c51-139c-4749-a01a-2559cef2ce11",
   "metadata": {},
   "outputs": [
    {
     "name": "stdout",
     "output_type": "stream",
     "text": [
      "True\n"
     ]
    }
   ],
   "source": [
    "def contains_elements(arr):\n",
    "    return 12 in arr and 23 in arr\n",
    "\n",
    "values = [5, 12, 7, 23, 9]\n",
    "print(contains_elements(values))\n"
   ]
  },
  {
   "cell_type": "markdown",
   "id": "ab3d0085-d0a1-4e0c-8b0d-a221377002d5",
   "metadata": {},
   "source": [
    "### 18. Write a program to remove the duplicate elements and return the new array"
   ]
  },
  {
   "cell_type": "code",
   "execution_count": 128,
   "id": "bc764286-a684-4fb2-9f4d-9e9d5b5966bd",
   "metadata": {},
   "outputs": [
    {
     "name": "stdout",
     "output_type": "stream",
     "text": [
      "[1, 2, 3, 4, 5]\n"
     ]
    }
   ],
   "source": [
    "def remove_duplicates(arr):\n",
    "    return list(set(arr))\n",
    "\n",
    "values = [1, 2, 2, 3, 4, 4, 5]\n",
    "print(remove_duplicates(values))\n"
   ]
  },
  {
   "cell_type": "markdown",
   "id": "df7b0f38-eab1-4caa-98b8-ccd1ae247f5b",
   "metadata": {},
   "source": [
    "# Static"
   ]
  },
  {
   "cell_type": "markdown",
   "id": "afbdbb87-cc1b-4fc5-889f-aa01536165b9",
   "metadata": {},
   "source": [
    "### 1. Define a static variable and access that through a class"
   ]
  },
  {
   "cell_type": "code",
   "execution_count": 132,
   "id": "e5e8c788-29e9-4d08-8e6a-fd5a665e3c91",
   "metadata": {},
   "outputs": [
    {
     "name": "stdout",
     "output_type": "stream",
     "text": [
      "10\n"
     ]
    }
   ],
   "source": [
    "class MyClass:\n",
    "    static_var = 10\n",
    "\n",
    "print(MyClass.static_var)\n"
   ]
  },
  {
   "cell_type": "markdown",
   "id": "82527743-c59f-48e3-b884-ab29ce5afd01",
   "metadata": {},
   "source": [
    "### 2. Define a static variable and access that through a instance"
   ]
  },
  {
   "cell_type": "code",
   "execution_count": 135,
   "id": "6ee70ead-cce1-434a-9d7f-024ff9508f8d",
   "metadata": {},
   "outputs": [
    {
     "name": "stdout",
     "output_type": "stream",
     "text": [
      "10\n"
     ]
    }
   ],
   "source": [
    "class MyClass:\n",
    "    static_var = 10\n",
    "\n",
    "obj = MyClass()\n",
    "print(obj.static_var)\n"
   ]
  },
  {
   "cell_type": "markdown",
   "id": "0072ecab-5506-4873-85bd-a2aa3f1faa1e",
   "metadata": {},
   "source": [
    "### 3. Define a static variable and change within the instance"
   ]
  },
  {
   "cell_type": "code",
   "execution_count": 138,
   "id": "cb86343c-0c69-431c-bf6a-e2c49389a31f",
   "metadata": {},
   "outputs": [
    {
     "name": "stdout",
     "output_type": "stream",
     "text": [
      "10\n",
      "20\n"
     ]
    }
   ],
   "source": [
    "class MyClass:\n",
    "    static_var = 10\n",
    "\n",
    "obj = MyClass()\n",
    "obj.static_var = 20\n",
    "print(MyClass.static_var)\n",
    "print(obj.static_var)\n"
   ]
  },
  {
   "cell_type": "markdown",
   "id": "1b3d733f-5c44-41b7-82da-ea9921809da2",
   "metadata": {},
   "source": [
    "### 4. Define a static variable and change within the class"
   ]
  },
  {
   "cell_type": "code",
   "execution_count": 141,
   "id": "6a07f8eb-62b9-480c-bf94-a232a0fdeaf2",
   "metadata": {},
   "outputs": [
    {
     "name": "stdout",
     "output_type": "stream",
     "text": [
      "30\n"
     ]
    }
   ],
   "source": [
    "class MyClass:\n",
    "    static_var = 10\n",
    "\n",
    "MyClass.static_var = 30\n",
    "print(MyClass.static_var)\n"
   ]
  },
  {
   "cell_type": "markdown",
   "id": "5d1c659d-8b2e-4ff1-8ad2-750c6512af87",
   "metadata": {},
   "source": [
    "# Strings"
   ]
  },
  {
   "cell_type": "markdown",
   "id": "1c1e47c7-4c49-4781-aa93-92a8ba847b1f",
   "metadata": {},
   "source": [
    "### 1. Different ways creating a string"
   ]
  },
  {
   "cell_type": "code",
   "execution_count": 145,
   "id": "86ebeed1-ea52-4c5c-a8c5-d1bf7a930843",
   "metadata": {},
   "outputs": [
    {
     "name": "stdout",
     "output_type": "stream",
     "text": [
      "Hello World Hello World 123 Hello Hello World Hello World\n"
     ]
    }
   ],
   "source": [
    "# Using single quotes\n",
    "str1 = 'Hello'\n",
    "\n",
    "# Using double quotes\n",
    "str2 = \"World\"\n",
    "\n",
    "# Using triple quotes\n",
    "str3 = '''Hello World'''\n",
    "\n",
    "# Using str() constructor\n",
    "str4 = str(123)\n",
    "\n",
    "# Using join\n",
    "str5 = ''.join(['H', 'e', 'l', 'l', 'o'])\n",
    "\n",
    "# Using format\n",
    "str6 = \"{} {}\".format(\"Hello\", \"World\")\n",
    "\n",
    "# Using f-string\n",
    "str7 = f\"{str1} {str2}\"\n",
    "\n",
    "print(str1, str2, str3, str4, str5, str6, str7)\n"
   ]
  },
  {
   "cell_type": "markdown",
   "id": "7837de3b-3b2e-4417-a78f-ddc61e036fa6",
   "metadata": {},
   "source": [
    "### 2. Concatenating two strings using + operator"
   ]
  },
  {
   "cell_type": "code",
   "execution_count": 148,
   "id": "bc32b70b-5d06-44db-83ae-5b7c306555ca",
   "metadata": {},
   "outputs": [
    {
     "name": "stdout",
     "output_type": "stream",
     "text": [
      "HelloWorld\n"
     ]
    }
   ],
   "source": [
    "str1 = \"Hello\"\n",
    "str2 = \"World\"\n",
    "result = str1 + str2\n",
    "print(result)\n"
   ]
  },
  {
   "cell_type": "markdown",
   "id": "be858383-c49d-456c-9321-ede4ca50a74a",
   "metadata": {},
   "source": [
    "### 3.Finding the length of the string"
   ]
  },
  {
   "cell_type": "code",
   "execution_count": 152,
   "id": "3a1029fc-ed32-44f9-b153-e74e2ca16ebe",
   "metadata": {},
   "outputs": [
    {
     "name": "stdout",
     "output_type": "stream",
     "text": [
      "11\n"
     ]
    }
   ],
   "source": [
    "text = \"Hello World\"\n",
    "length = len(text)\n",
    "print(length)\n"
   ]
  },
  {
   "cell_type": "markdown",
   "id": "fd9a0d9e-b6a6-4761-8456-6aa48f5611bc",
   "metadata": {},
   "source": [
    "### 4. Extract a string using Substring"
   ]
  },
  {
   "cell_type": "code",
   "execution_count": 155,
   "id": "4eae3b47-0750-4f51-91aa-b92dff768258",
   "metadata": {},
   "outputs": [
    {
     "name": "stdout",
     "output_type": "stream",
     "text": [
      "Hello\n"
     ]
    }
   ],
   "source": [
    "text = \"Hello World\"\n",
    "substring = text[0:5]\n",
    "print(substring)\n"
   ]
  },
  {
   "cell_type": "markdown",
   "id": "3547a31e-b0b3-4311-b959-c2dfc88d2e4f",
   "metadata": {},
   "source": [
    "### 5. Searching in strings using index()"
   ]
  },
  {
   "cell_type": "code",
   "execution_count": 158,
   "id": "3df24656-a1f2-4d12-8c1d-7986a42703f9",
   "metadata": {},
   "outputs": [
    {
     "name": "stdout",
     "output_type": "stream",
     "text": [
      "6\n"
     ]
    }
   ],
   "source": [
    "text = \"Hello World\"\n",
    "position = text.index(\"World\")\n",
    "print(position)\n"
   ]
  },
  {
   "cell_type": "markdown",
   "id": "67b98a8d-e2c0-4e29-876f-ca12c4b8e2d5",
   "metadata": {},
   "source": [
    "### 6. Matching a String Against a Regular Expression With matches()"
   ]
  },
  {
   "cell_type": "code",
   "execution_count": 161,
   "id": "d7de6d15-58d3-4f11-a3fb-fa051ab0a72c",
   "metadata": {},
   "outputs": [
    {
     "name": "stdout",
     "output_type": "stream",
     "text": [
      "True\n"
     ]
    }
   ],
   "source": [
    "import re\n",
    "\n",
    "text = \"Hello123\"\n",
    "pattern = r\"[A-Za-z0-9]+\"\n",
    "\n",
    "match = re.fullmatch(pattern, text)\n",
    "print(match is not None)\n"
   ]
  },
  {
   "cell_type": "markdown",
   "id": "117d595d-8dc4-4dd9-871c-31fba885c02d",
   "metadata": {},
   "source": [
    "### 7. Comparing strings"
   ]
  },
  {
   "cell_type": "code",
   "execution_count": 164,
   "id": "9b9f06ac-b587-4277-80be-ec061a1a2ff4",
   "metadata": {},
   "outputs": [
    {
     "name": "stdout",
     "output_type": "stream",
     "text": [
      "False\n"
     ]
    }
   ],
   "source": [
    "str1 = \"apple\"\n",
    "str2 = \"banana\"\n",
    "\n",
    "result = str1 == str2\n",
    "print(result)\n"
   ]
  },
  {
   "cell_type": "markdown",
   "id": "0a469d73-560d-4534-8267-8bf07a9481d9",
   "metadata": {},
   "source": [
    "### 8. startsWith(), endsWith() and compareTo()"
   ]
  },
  {
   "cell_type": "code",
   "execution_count": 167,
   "id": "b5ebe4fd-d7f7-40d2-bc17-a2b390cc72ea",
   "metadata": {},
   "outputs": [
    {
     "name": "stdout",
     "output_type": "stream",
     "text": [
      "True\n",
      "True\n",
      "1\n"
     ]
    }
   ],
   "source": [
    "str1 = \"Hello World\"\n",
    "\n",
    "print(str1.startswith(\"Hello\"))\n",
    "print(str1.endswith(\"World\"))\n",
    "\n",
    "str2 = \"Hello Python\"\n",
    "# Simulating compareTo() as in Java\n",
    "def compare_to(a, b):\n",
    "    return (a > b) - (a < b)\n",
    "\n",
    "print(compare_to(str1, str2))\n",
    "\n"
   ]
  },
  {
   "cell_type": "markdown",
   "id": "477923af-63ff-4e94-90f1-5c313191f2fc",
   "metadata": {},
   "source": [
    "### 9. Trimming strings with strip()"
   ]
  },
  {
   "cell_type": "code",
   "execution_count": 172,
   "id": "12c49a87-0e60-42ea-819c-3780b9380b65",
   "metadata": {},
   "outputs": [
    {
     "name": "stdout",
     "output_type": "stream",
     "text": [
      "Hello World\n"
     ]
    }
   ],
   "source": [
    "text = \"   Hello World   \"\n",
    "trimmed = text.strip()\n",
    "print(trimmed)\n"
   ]
  },
  {
   "cell_type": "markdown",
   "id": "96298e03-8472-474d-b45d-f49ed3a1d65a",
   "metadata": {},
   "source": [
    "### 10. Replacing characters in strings with replace()"
   ]
  },
  {
   "cell_type": "code",
   "execution_count": 175,
   "id": "26c6a74c-f7db-4fba-969e-e881633cd90c",
   "metadata": {},
   "outputs": [
    {
     "name": "stdout",
     "output_type": "stream",
     "text": [
      "bonono\n"
     ]
    }
   ],
   "source": [
    "text = \"banana\"\n",
    "new_text = text.replace(\"a\", \"o\")\n",
    "print(new_text)\n"
   ]
  },
  {
   "cell_type": "markdown",
   "id": "050ee3c4-60de-449f-b3f0-03f94c4b24cd",
   "metadata": {},
   "source": [
    "### 11. Splitting strings with split()"
   ]
  },
  {
   "cell_type": "code",
   "execution_count": 178,
   "id": "52a4c577-111f-40d8-9212-5e9b4ba02672",
   "metadata": {},
   "outputs": [
    {
     "name": "stdout",
     "output_type": "stream",
     "text": [
      "['apple', 'banana', 'cherry']\n"
     ]
    }
   ],
   "source": [
    "text = \"apple,banana,cherry\"\n",
    "fruits = text.split(\",\")\n",
    "print(fruits)\n"
   ]
  },
  {
   "cell_type": "markdown",
   "id": "d4a5d482-2be7-45bb-8005-fbe2f7c8dfbc",
   "metadata": {},
   "source": [
    "### 12. Converting integer objects to Strings"
   ]
  },
  {
   "cell_type": "code",
   "execution_count": 181,
   "id": "2f244e19-7bb7-4e2d-bae2-f2f42c745b41",
   "metadata": {},
   "outputs": [
    {
     "name": "stdout",
     "output_type": "stream",
     "text": [
      "123\n"
     ]
    }
   ],
   "source": [
    "num = 123\n",
    "str_num = str(num)\n",
    "print(str_num)\n"
   ]
  },
  {
   "cell_type": "markdown",
   "id": "78192d08-adaa-414c-a3d5-2dd9b4000753",
   "metadata": {},
   "source": [
    "### 13. Converting to uppercase and lowercase"
   ]
  },
  {
   "cell_type": "code",
   "execution_count": 186,
   "id": "82e001f3-e777-4ad4-a260-295534ad903e",
   "metadata": {},
   "outputs": [
    {
     "name": "stdout",
     "output_type": "stream",
     "text": [
      "HELLO WORLD\n",
      "hello world\n"
     ]
    }
   ],
   "source": [
    "text = \"Hello World\"\n",
    "upper_text = text.upper()\n",
    "lower_text = text.lower()\n",
    "print(upper_text)\n",
    "print(lower_text)\n"
   ]
  },
  {
   "cell_type": "markdown",
   "id": "96bda8db-5549-4c89-9b85-94fcd42f4ac6",
   "metadata": {},
   "source": [
    "# Inheritance"
   ]
  },
  {
   "cell_type": "markdown",
   "id": "2cd70298-b2c8-4e1c-b863-044bb9176983",
   "metadata": {},
   "source": [
    "###  Method Overriding and Runtime Polymorphism (Methods)"
   ]
  },
  {
   "cell_type": "code",
   "execution_count": 192,
   "id": "14824560-8619-4410-a6c6-7bc1a209ef59",
   "metadata": {},
   "outputs": [
    {
     "name": "stdout",
     "output_type": "stream",
     "text": [
      "== Using individual class objects ==\n",
      "Method A1\n",
      "Method A2\n",
      "Display from class A\n",
      "Method A1\n",
      "Method A2\n",
      "Method B1\n",
      "Method B2\n",
      "Display from class B\n",
      "Method A1\n",
      "Method A2\n",
      "Method B1\n",
      "Method B2\n",
      "Method C1\n",
      "Method C2\n",
      "Display from class C\n",
      "Display from class B\n",
      "Display from class C\n"
     ]
    }
   ],
   "source": [
    "class A:\n",
    "    def method_a1(self):\n",
    "        print(\"Method A1\")\n",
    "\n",
    "    def method_a2(self):\n",
    "        print(\"Method A2\")\n",
    "\n",
    "    def display(self):\n",
    "        print(\"Display from class A\")\n",
    "\n",
    "class B(A):\n",
    "    def method_b1(self):\n",
    "        print(\"Method B1\")\n",
    "\n",
    "    def method_b2(self):\n",
    "        print(\"Method B2\")\n",
    "\n",
    "    def display(self):\n",
    "        print(\"Display from class B\")\n",
    "\n",
    "class C(B):\n",
    "    def method_c1(self):\n",
    "        print(\"Method C1\")\n",
    "\n",
    "    def method_c2(self):\n",
    "        print(\"Method C2\")\n",
    "\n",
    "    def display(self):\n",
    "        print(\"Display from class C\")\n",
    "\n",
    "# Main method\n",
    "def main():\n",
    "    print(\"== Using individual class objects ==\")\n",
    "    a = A()\n",
    "    a.method_a1()\n",
    "    a.method_a2()\n",
    "    a.display()\n",
    "\n",
    "    b = B()\n",
    "    b.method_a1()\n",
    "    b.method_a2()\n",
    "    b.method_b1()\n",
    "    b.method_b2()\n",
    "    b.display()\n",
    "\n",
    "    c = C()\n",
    "    c.method_a1()\n",
    "    c.method_a2()\n",
    "    c.method_b1()\n",
    "    c.method_b2()\n",
    "    c.method_c1()\n",
    "    c.method_c2()\n",
    "    c.display()\n",
    "\n",
    "    a_ref = B()\n",
    "    a_ref.display()\n",
    "\n",
    "    a_ref = C()\n",
    "    a_ref.display()\n",
    "\n",
    "main()\n"
   ]
  },
  {
   "cell_type": "markdown",
   "id": "f4ef439c-936e-4465-b42b-7e80fe0a71d7",
   "metadata": {},
   "source": [
    "### Runtime Polymorphism with Data Members"
   ]
  },
  {
   "cell_type": "code",
   "execution_count": 195,
   "id": "70414944-2c37-413e-9bee-e52563d71dc5",
   "metadata": {},
   "outputs": [
    {
     "name": "stdout",
     "output_type": "stream",
     "text": [
      "Value from A\n",
      "Value from B\n",
      "Value from C\n",
      "Value from B\n",
      "Value from C\n"
     ]
    }
   ],
   "source": [
    "class A:\n",
    "    value = \"Value from A\"\n",
    "\n",
    "class B(A):\n",
    "    value = \"Value from B\"\n",
    "\n",
    "class C(B):\n",
    "    value = \"Value from C\"\n",
    "\n",
    "def main_data_member():\n",
    "    a = A()\n",
    "    b = B()\n",
    "    c = C()\n",
    "\n",
    "    print(a.value)\n",
    "    print(b.value)\n",
    "    print(c.value)\n",
    "\n",
    "    a_ref = B()\n",
    "    print(a_ref.value)\n",
    "\n",
    "    a_ref = C()\n",
    "    print(a_ref.value)\n",
    "\n",
    "main_data_member()\n"
   ]
  },
  {
   "cell_type": "markdown",
   "id": "1f5655f1-20d9-4d53-9680-e443b3e3fdbb",
   "metadata": {},
   "source": [
    "# 8.Access Modifiers"
   ]
  },
  {
   "cell_type": "markdown",
   "id": "02f91e87-24a8-43cf-b56a-27917e28acee",
   "metadata": {},
   "source": [
    "### 1. Create a class with PRIVATE fields, private method and a main method. Print the fields in main method. Call the private method in main method.\n",
    "### Create a sub class and try to access the private fields and methods from sub class."
   ]
  },
  {
   "cell_type": "code",
   "execution_count": 201,
   "id": "d9546c10-b426-4524-96dd-1aba56eefa49",
   "metadata": {},
   "outputs": [
    {
     "name": "stdout",
     "output_type": "stream",
     "text": [
      "Name: Private Name\n",
      "Age: 30\n",
      "This is a private method.\n",
      "Cannot access __name: It's private\n",
      "Cannot access __private_method(): It's private\n"
     ]
    }
   ],
   "source": [
    "class Parent:\n",
    "    def __init__(self):\n",
    "        self.__name = \"Private Name\"\n",
    "        self.__age = 30\n",
    "\n",
    "    def __private_method(self):\n",
    "        print(\"This is a private method.\")\n",
    "\n",
    "    def show(self):\n",
    "        print(\"Name:\", self.__name)\n",
    "        print(\"Age:\", self.__age)\n",
    "        self.__private_method()\n",
    "\n",
    "# Subclass attempting to access private members\n",
    "class Child(Parent):\n",
    "    def access_private(self):\n",
    "        try:\n",
    "            print(self.__name)\n",
    "        except AttributeError:\n",
    "            print(\"Cannot access __name: It's private\")\n",
    "\n",
    "        try:\n",
    "            self.__private_method()\n",
    "        except AttributeError:\n",
    "            print(\"Cannot access __private_method(): It's private\")\n",
    "\n",
    "# Main method\n",
    "def main():\n",
    "    p = Parent()\n",
    "    p.show()\n",
    "\n",
    "    c = Child()\n",
    "    c.access_private()\n",
    "\n",
    "main()\n"
   ]
  },
  {
   "cell_type": "markdown",
   "id": "fb1e1d13-c808-4eaf-a7d7-cb091f4480d5",
   "metadata": {},
   "source": [
    "# Abstract Class"
   ]
  },
  {
   "cell_type": "markdown",
   "id": "6b5a26ed-45f2-42dd-8949-f23a879c4ab8",
   "metadata": {},
   "source": [
    "### Create an abstract class with abstract and non-abstract methods"
   ]
  },
  {
   "cell_type": "code",
   "execution_count": 211,
   "id": "c5d2498e-53b1-405d-b1f3-518d2362a00c",
   "metadata": {},
   "outputs": [
    {
     "name": "stdout",
     "output_type": "stream",
     "text": [
      "This is a non-abstract method in abstract class.\n",
      "Woof!\n"
     ]
    }
   ],
   "source": [
    "from abc import ABC, abstractmethod\n",
    "\n",
    "class Animal(ABC):\n",
    "    def speak(self):\n",
    "        print(\"This is a non-abstract method in abstract class.\")\n",
    "\n",
    "    @abstractmethod\n",
    "    def make_sound(self):\n",
    "        pass\n",
    "\n",
    "class Dog(Animal):\n",
    "    def make_sound(self):\n",
    "        print(\"Woof!\")\n",
    "\n",
    "# Main method\n",
    "def main():\n",
    "    d = Dog()\n",
    "    d.speak()\n",
    "    d.make_sound()\n",
    "\n",
    "main()\n"
   ]
  },
  {
   "cell_type": "markdown",
   "id": "8eeb5a0b-1780-458c-ace8-16b3182db07f",
   "metadata": {},
   "source": [
    "### Create a sub class for an abstract class. Create an object in the child class for the abstract class and access the non-abstract methods"
   ]
  },
  {
   "cell_type": "code",
   "execution_count": 215,
   "id": "2b0de627-2f2a-4143-80e5-d7ec65a77640",
   "metadata": {},
   "outputs": [
    {
     "name": "stdout",
     "output_type": "stream",
     "text": [
      "Engine started.\n",
      "Car is driving.\n"
     ]
    }
   ],
   "source": [
    "from abc import ABC, abstractmethod\n",
    "\n",
    "class Vehicle(ABC):\n",
    "    def start_engine(self):\n",
    "        print(\"Engine started.\")\n",
    "\n",
    "    @abstractmethod\n",
    "    def drive(self):\n",
    "        pass\n",
    "\n",
    "class Car(Vehicle):\n",
    "    def drive(self):\n",
    "        print(\"Car is driving.\")\n",
    "\n",
    "# Main method\n",
    "def main():\n",
    "    car = Car()\n",
    "    car.start_engine()  # Accessing non-abstract method from abstract class\n",
    "    car.drive()         # Implemented abstract method\n",
    "\n",
    "main()\n"
   ]
  },
  {
   "cell_type": "markdown",
   "id": "efe72a9e-c27c-40b3-9ded-f1d9d429e3ea",
   "metadata": {},
   "source": [
    "### Create an instance for the child class in child class and call abstract methods"
   ]
  },
  {
   "cell_type": "code",
   "execution_count": 218,
   "id": "f32b0001-2164-48ba-ab85-3d1444955816",
   "metadata": {},
   "outputs": [
    {
     "name": "stdout",
     "output_type": "stream",
     "text": [
      "Area: 78.5\n",
      "This is a shape.\n"
     ]
    }
   ],
   "source": [
    "from abc import ABC, abstractmethod\n",
    "\n",
    "class Shape(ABC):\n",
    "    @abstractmethod\n",
    "    def area(self):\n",
    "        pass\n",
    "\n",
    "    def info(self):\n",
    "        print(\"This is a shape.\")\n",
    "\n",
    "class Circle(Shape):\n",
    "    def __init__(self, radius):\n",
    "        self.radius = radius\n",
    "\n",
    "    def area(self):\n",
    "        return 3.14 * self.radius * self.radius\n",
    "\n",
    "    def call_methods(self):\n",
    "        c = Circle(5)\n",
    "        print(\"Area:\", c.area())\n",
    "        c.info()\n",
    "\n",
    "# Main method\n",
    "def main():\n",
    "    c = Circle(5)\n",
    "    c.call_methods()\n",
    "\n",
    "main()\n"
   ]
  },
  {
   "cell_type": "markdown",
   "id": "00cb5be2-2a8f-408b-992c-8cb6628e5142",
   "metadata": {},
   "source": [
    "### Create an instance for the child class in child class and call non-abstract methods"
   ]
  },
  {
   "cell_type": "code",
   "execution_count": 221,
   "id": "ca88dce9-9e73-4280-8966-a5dec83154c1",
   "metadata": {},
   "outputs": [
    {
     "name": "stdout",
     "output_type": "stream",
     "text": [
      "Animal is sleeping.\n"
     ]
    }
   ],
   "source": [
    "from abc import ABC, abstractmethod\n",
    "\n",
    "class Animal(ABC):\n",
    "    def sleep(self):\n",
    "        print(\"Animal is sleeping.\")\n",
    "\n",
    "    @abstractmethod\n",
    "    def sound(self):\n",
    "        pass\n",
    "\n",
    "class Dog(Animal):\n",
    "    def sound(self):\n",
    "        print(\"Dog barks.\")\n",
    "\n",
    "    def call_non_abstract(self):\n",
    "        dog = Dog()\n",
    "        dog.sleep()  # Calling non-abstract method from abstract class\n",
    "\n",
    "# Main method\n",
    "def main():\n",
    "    d = Dog()\n",
    "    d.call_non_abstract()\n",
    "\n",
    "main()\n"
   ]
  },
  {
   "cell_type": "markdown",
   "id": "7c4e9f7b-3307-4317-acbe-9d22fedff008",
   "metadata": {},
   "source": [
    "# Packages"
   ]
  },
  {
   "cell_type": "markdown",
   "id": "0c6fc5b8-f5fe-4980-a7ce-0ee7f1c0e033",
   "metadata": {},
   "source": [
    "### 1. Create a program to create two class.\n",
    "###  1.1. Create a constructor and a method for each class\n",
    "###  1.2. Create a __init__.py for adding all packages\n",
    "###  1.3. Import the respective packages\n",
    "###  1.4. Call each class by creating an object to it\n",
    "### 1.5. Create a program by all the above"
   ]
  },
  {
   "cell_type": "code",
   "execution_count": 225,
   "id": "3a5b5571-d18f-46dc-b084-22976f630b45",
   "metadata": {},
   "outputs": [
    {
     "name": "stdout",
     "output_type": "stream",
     "text": [
      "ClassOne constructor called\n",
      "Method from ClassOne\n",
      "ClassTwo constructor called\n",
      "Method from ClassTwo\n"
     ]
    }
   ],
   "source": [
    "# Simulating package1.class_one\n",
    "class ClassOne:\n",
    "    def __init__(self):\n",
    "        print(\"ClassOne constructor called\")\n",
    "\n",
    "    def method_one(self):\n",
    "        print(\"Method from ClassOne\")\n",
    "\n",
    "\n",
    "# Simulating package2.class_two\n",
    "class ClassTwo:\n",
    "    def __init__(self):\n",
    "        print(\"ClassTwo constructor called\")\n",
    "\n",
    "    def method_two(self):\n",
    "        print(\"Method from ClassTwo\")\n",
    "\n",
    "\n",
    "# Main program logic\n",
    "def main():\n",
    "    obj1 = ClassOne()\n",
    "    obj1.method_one()\n",
    "\n",
    "    obj2 = ClassTwo()\n",
    "    obj2.method_two()\n",
    "\n",
    "main()\n"
   ]
  },
  {
   "cell_type": "markdown",
   "id": "f0d2a3eb-d5d9-4ca7-96f7-8cabb3d996e4",
   "metadata": {},
   "source": [
    "# FILES"
   ]
  },
  {
   "cell_type": "markdown",
   "id": "7ff463b2-aa84-463a-a361-8cd56e662418",
   "metadata": {},
   "source": [
    "### 1. Write a program to read text file"
   ]
  },
  {
   "cell_type": "code",
   "execution_count": 231,
   "id": "111c4d25-a3c2-4cae-8b75-396dd02acd27",
   "metadata": {},
   "outputs": [
    {
     "name": "stdout",
     "output_type": "stream",
     "text": [
      "File Content:\n",
      "Hello, this is a sample text file.\n",
      "Second line of text.\n"
     ]
    }
   ],
   "source": [
    "# Create a sample file (for demonstration purpose)\n",
    "with open(\"sample.txt\", \"w\") as file:\n",
    "    file.write(\"Hello, this is a sample text file.\\nSecond line of text.\")\n",
    "\n",
    "# Now read the file\n",
    "with open(\"sample.txt\", \"r\") as file:\n",
    "    content = file.read()\n",
    "\n",
    "print(\"File Content:\")\n",
    "print(content)\n"
   ]
  },
  {
   "cell_type": "markdown",
   "id": "edc8e076-1243-4c66-af45-d617a9601ef9",
   "metadata": {},
   "source": [
    "### 2. Write a program to write text to .txt file using InputStream"
   ]
  },
  {
   "cell_type": "code",
   "execution_count": 234,
   "id": "708cf544-7acb-4ce6-8182-2283314bf1aa",
   "metadata": {},
   "outputs": [
    {
     "name": "stdin",
     "output_type": "stream",
     "text": [
      "Enter some text to write to a file:  Hello Python\n"
     ]
    },
    {
     "name": "stdout",
     "output_type": "stream",
     "text": [
      "Text written to output.txt\n"
     ]
    }
   ],
   "source": [
    "# Take input from user (simulating InputStream behavior)\n",
    "user_text = input(\"Enter some text to write to a file: \")\n",
    "\n",
    "# Write the input to a .txt file\n",
    "with open(\"output.txt\", \"w\") as file:\n",
    "    file.write(user_text)\n",
    "\n",
    "print(\"Text written to output.txt\")\n"
   ]
  },
  {
   "cell_type": "markdown",
   "id": "8e005d8a-c46d-4c93-a310-2676ecb35b88",
   "metadata": {},
   "source": [
    "### 3. Write a program to read a file stream"
   ]
  },
  {
   "cell_type": "markdown",
   "id": "067b3d38-06f8-4d9c-bcd9-07b323142a73",
   "metadata": {},
   "source": [
    "##### Read File as Text Stream (Line by Line)"
   ]
  },
  {
   "cell_type": "code",
   "execution_count": 238,
   "id": "116ca057-61ef-43d3-b3b1-7731e5f69cca",
   "metadata": {},
   "outputs": [
    {
     "name": "stdout",
     "output_type": "stream",
     "text": [
      "Line 1: Hello\n",
      "Line 2: This is a test file\n",
      "Line 3: End\n"
     ]
    }
   ],
   "source": [
    "# Create a sample file first (for demonstration)\n",
    "with open(\"stream_sample.txt\", \"w\") as f:\n",
    "    f.write(\"Line 1: Hello\\nLine 2: This is a test file\\nLine 3: End\")\n",
    "\n",
    "# Read file as a stream (text mode)\n",
    "with open(\"stream_sample.txt\", \"r\") as f:\n",
    "    for line in f:\n",
    "        print(line.strip())\n"
   ]
  },
  {
   "cell_type": "markdown",
   "id": "b45074f8-bd3e-4c5a-8ede-3dffa9b9241b",
   "metadata": {},
   "source": [
    "##### Read File as a Byte Stream (Binary Mode)"
   ]
  },
  {
   "cell_type": "code",
   "execution_count": 241,
   "id": "67743ed4-9813-4a46-9d47-2c5f6d97a1a7",
   "metadata": {},
   "outputs": [
    {
     "name": "stdout",
     "output_type": "stream",
     "text": [
      "Byte stream output:\n",
      "b'Line 1: Hello\\r\\nLine 2: This is a test file\\r\\nLine 3: End'\n"
     ]
    }
   ],
   "source": [
    "# Read file in binary mode (like Java FileInputStream)\n",
    "with open(\"stream_sample.txt\", \"rb\") as f:\n",
    "    byte_data = f.read()\n",
    "    print(\"Byte stream output:\")\n",
    "    print(byte_data)\n"
   ]
  },
  {
   "cell_type": "markdown",
   "id": "3e13bd49-c089-4889-8e9e-b0948097464d",
   "metadata": {},
   "source": [
    "### 4. Write a program to read a file stream supports random access"
   ]
  },
  {
   "cell_type": "code",
   "execution_count": 245,
   "id": "387a68c0-d45e-4f8c-a585-0760eafa537e",
   "metadata": {},
   "outputs": [
    {
     "name": "stdout",
     "output_type": "stream",
     "text": [
      "Character at position 5: F\n",
      "Character at position 10: K\n",
      "First 3 characters: ABC\n",
      "Current position after reading: 3\n"
     ]
    }
   ],
   "source": [
    "# Create a sample file for demonstration\n",
    "with open(\"random_access.txt\", \"w\") as f:\n",
    "    f.write(\"ABCDEFGHIJKLMNOPQRSTUVWXYZ\")\n",
    "\n",
    "# Open the file in read mode with random access\n",
    "with open(\"random_access.txt\", \"r\") as f:\n",
    "    # Move to position 5 (6th character)\n",
    "    f.seek(5)\n",
    "    print(\"Character at position 5:\", f.read(1))  # Should print 'F'\n",
    "\n",
    "    # Move to position 10\n",
    "    f.seek(10)\n",
    "    print(\"Character at position 10:\", f.read(1))  # Should print 'K'\n",
    "\n",
    "    # Move to beginning and read first 3 characters\n",
    "    f.seek(0)\n",
    "    print(\"First 3 characters:\", f.read(3))  # Should print 'ABC'\n",
    "\n",
    "    # Get the current position\n",
    "    current_pos = f.tell()\n",
    "    print(\"Current position after reading:\", current_pos)\n"
   ]
  },
  {
   "cell_type": "markdown",
   "id": "1f764689-d8cd-4c4a-aa73-81c36e9c11bd",
   "metadata": {},
   "source": [
    "### 5. Write a program to read a file a just to a particular index using seek()"
   ]
  },
  {
   "cell_type": "code",
   "execution_count": 248,
   "id": "79e84a44-29f6-4967-95fd-03165594b15a",
   "metadata": {},
   "outputs": [
    {
     "name": "stdout",
     "output_type": "stream",
     "text": [
      "Text from index 7 to 17:\n",
      "programming\n"
     ]
    }
   ],
   "source": [
    "# Create a sample file (for demonstration)\n",
    "with open(\"seek_example.txt\", \"w\") as f:\n",
    "    f.write(\"Python programming is powerful and easy to learn.\")\n",
    "\n",
    "# Open the file in read mode\n",
    "with open(\"seek_example.txt\", \"r\") as f:\n",
    "    # Move the cursor to index 7 (8th character)\n",
    "    f.seek(7)\n",
    "    \n",
    "    # Read 11 characters from that position\n",
    "    text = f.read(11)\n",
    "    \n",
    "    print(\"Text from index 7 to 17:\")\n",
    "    print(text)\n"
   ]
  },
  {
   "cell_type": "markdown",
   "id": "65d99876-4853-466e-b943-782e3ed15fef",
   "metadata": {},
   "source": [
    "### 6. Write a program to check whether a file is having read access and write access permissions"
   ]
  },
  {
   "cell_type": "code",
   "execution_count": 251,
   "id": "22f648e3-3e4b-45a9-9106-db0e251644e6",
   "metadata": {},
   "outputs": [
    {
     "name": "stdout",
     "output_type": "stream",
     "text": [
      "Read access: Yes\n",
      "Write access: Yes\n"
     ]
    }
   ],
   "source": [
    "import os\n",
    "\n",
    "# Create a sample file (for demo purposes)\n",
    "file_path = \"permissions_demo.txt\"\n",
    "with open(file_path, \"w\") as f:\n",
    "    f.write(\"Testing permissions.\")\n",
    "\n",
    "# Check read and write access\n",
    "can_read = os.access(file_path, os.R_OK)\n",
    "can_write = os.access(file_path, os.W_OK)\n",
    "\n",
    "print(f\"Read access: {'Yes' if can_read else 'No'}\")\n",
    "print(f\"Write access: {'Yes' if can_write else 'No'}\")\n"
   ]
  },
  {
   "cell_type": "markdown",
   "id": "fccdb868-6caa-4ad1-9174-ee5bf7b863a2",
   "metadata": {},
   "source": [
    "# Constructors"
   ]
  },
  {
   "cell_type": "markdown",
   "id": "8b20b17f-cf9c-4d08-9e75-b02058048628",
   "metadata": {},
   "source": [
    "### 1. Write a class with a default constructor, one argument constructor and two argument constructors. Instantiate the class to call all the constructors of that class from a main class"
   ]
  },
  {
   "cell_type": "code",
   "execution_count": 255,
   "id": "3efa96d1-ea08-4fee-a8b8-94a86abcc540",
   "metadata": {},
   "outputs": [
    {
     "name": "stdout",
     "output_type": "stream",
     "text": [
      "Default constructor called\n",
      "One-argument constructor called with value: Hello\n",
      "Two-argument constructor called with values: Hello, World\n"
     ]
    }
   ],
   "source": [
    "class MyClass:\n",
    "    def __init__(self, *args):\n",
    "        if len(args) == 0:\n",
    "            print(\"Default constructor called\")\n",
    "        elif len(args) == 1:\n",
    "            print(f\"One-argument constructor called with value: {args[0]}\")\n",
    "        elif len(args) == 2:\n",
    "            print(f\"Two-argument constructor called with values: {args[0]}, {args[1]}\")\n",
    "        else:\n",
    "            print(\"Too many arguments\")\n",
    "\n",
    "# Main class logic\n",
    "def main():\n",
    "    obj1 = MyClass()                 # Default constructor\n",
    "    obj2 = MyClass(\"Hello\")          # One-argument constructor\n",
    "    obj3 = MyClass(\"Hello\", \"World\") # Two-argument constructor\n",
    "\n",
    "main()\n"
   ]
  },
  {
   "cell_type": "markdown",
   "id": "43a4bd0c-d324-49a4-9027-e2d7a3ffbfc0",
   "metadata": {},
   "source": [
    "### 2. Call the constructors(both default and argument constructors) of super class from a child class"
   ]
  },
  {
   "cell_type": "code",
   "execution_count": 258,
   "id": "29227ee8-3a3c-4a3c-b7c7-f266863aaab3",
   "metadata": {},
   "outputs": [
    {
     "name": "stdout",
     "output_type": "stream",
     "text": [
      "Calling default constructor of superclass:\n",
      "Superclass default constructor called\n",
      "Subclass constructor after calling super default\n",
      "\n",
      "Calling parameterized constructor of superclass:\n",
      "Superclass parameterized constructor called with value: Hello from Subclass\n",
      "Subclass constructor after calling super parameterized\n"
     ]
    }
   ],
   "source": [
    "class SuperClass:\n",
    "    def __init__(self, value=None):\n",
    "        if value is None:\n",
    "            print(\"Superclass default constructor called\")\n",
    "        else:\n",
    "            print(f\"Superclass parameterized constructor called with value: {value}\")\n",
    "\n",
    "class SubClass(SuperClass):\n",
    "    def __init__(self, call_type):\n",
    "        if call_type == \"default\":\n",
    "            super().__init__()  # Call default constructor\n",
    "            print(\"Subclass constructor after calling super default\")\n",
    "        elif call_type == \"param\":\n",
    "            super().__init__(\"Hello from Subclass\")  # Call parameterized constructor\n",
    "            print(\"Subclass constructor after calling super parameterized\")\n",
    "\n",
    "# Main logic\n",
    "def main():\n",
    "    print(\"Calling default constructor of superclass:\")\n",
    "    obj1 = SubClass(\"default\")\n",
    "\n",
    "    print(\"\\nCalling parameterized constructor of superclass:\")\n",
    "    obj2 = SubClass(\"param\")\n",
    "\n",
    "main()\n"
   ]
  },
  {
   "cell_type": "markdown",
   "id": "4c2a144c-1d86-4d9f-9c3d-627e840c7c6d",
   "metadata": {},
   "source": [
    "### 3. Apply private, public, protected and default access modifiers to the constructor"
   ]
  },
  {
   "cell_type": "code",
   "execution_count": 261,
   "id": "d56520a9-f8f6-4c36-925b-71b711947eb4",
   "metadata": {},
   "outputs": [
    {
     "name": "stdout",
     "output_type": "stream",
     "text": [
      "Public/default constructor called\n",
      "Protected constructor called\n",
      "Public/default constructor called\n",
      "Private constructor called\n",
      "Public/default constructor called\n"
     ]
    }
   ],
   "source": [
    "class AccessExample:\n",
    "    def __init__(self):\n",
    "        print(\"Public/default constructor called\")\n",
    "\n",
    "    @classmethod\n",
    "    def _protected_constructor(cls):\n",
    "        print(\"Protected constructor called\")\n",
    "        return cls()\n",
    "\n",
    "    @classmethod\n",
    "    def __private_constructor(cls):\n",
    "        print(\"Private constructor called\")\n",
    "        return cls()\n",
    "\n",
    "    @classmethod\n",
    "    def create_private(cls):\n",
    "        # Internal method to call the private constructor\n",
    "        return cls.__private_constructor()\n",
    "\n",
    "\n",
    "# Main logic\n",
    "def main():\n",
    "    # Public/default constructor\n",
    "    obj1 = AccessExample()\n",
    "\n",
    "    # Protected constructor (should be used within class or subclass)\n",
    "    obj2 = AccessExample._protected_constructor()\n",
    "\n",
    "    # Private constructor cannot be called directly: AccessExample.__private_constructor() → Error\n",
    "    obj3 = AccessExample.create_private()\n",
    "\n",
    "main()\n"
   ]
  },
  {
   "cell_type": "markdown",
   "id": "53881491-dbb8-448c-b582-65456323570d",
   "metadata": {},
   "source": [
    "### 4. Write a program which illustrates the concept of attributes of a constructor."
   ]
  },
  {
   "cell_type": "code",
   "execution_count": 264,
   "id": "1c8bb211-0eb2-4831-afea-4d766d0d2f7f",
   "metadata": {},
   "outputs": [
    {
     "name": "stdout",
     "output_type": "stream",
     "text": [
      "Name: Alice\n",
      "Roll Number: 101\n",
      "\n",
      "Name: Bob\n",
      "Roll Number: 102\n"
     ]
    }
   ],
   "source": [
    "class Student:\n",
    "    def __init__(self, name, roll_number):\n",
    "        self.name = name              # attribute of the constructor\n",
    "        self.roll_number = roll_number  # attribute of the constructor\n",
    "\n",
    "    def display_info(self):\n",
    "        print(f\"Name: {self.name}\")\n",
    "        print(f\"Roll Number: {self.roll_number}\")\n",
    "\n",
    "# Main logic\n",
    "def main():\n",
    "    student1 = Student(\"Alice\", 101)\n",
    "    student2 = Student(\"Bob\", 102)\n",
    "\n",
    "    student1.display_info()\n",
    "    print()\n",
    "    student2.display_info()\n",
    "\n",
    "main()\n"
   ]
  },
  {
   "cell_type": "markdown",
   "id": "cf467366-dd29-46b3-b0cb-b1aa9247e710",
   "metadata": {},
   "source": [
    "# Method Overloading"
   ]
  },
  {
   "cell_type": "markdown",
   "id": "19173d4f-8397-4a3d-86a3-e6f0cdd43770",
   "metadata": {},
   "source": [
    "### 1. Write two methods with the same name but different number of parameters of same type and call the methods"
   ]
  },
  {
   "cell_type": "code",
   "execution_count": 268,
   "id": "8a0a8df2-bd47-41ae-83e7-b3518a688f21",
   "metadata": {},
   "outputs": [
    {
     "name": "stdout",
     "output_type": "stream",
     "text": [
      "One parameter: 5\n",
      "Sum of two parameters: 30\n"
     ]
    }
   ],
   "source": [
    "class Calculator:\n",
    "    def add(self, *args):\n",
    "        if len(args) == 1:\n",
    "            print(f\"One parameter: {args[0]}\")\n",
    "        elif len(args) == 2:\n",
    "            print(f\"Sum of two parameters: {args[0] + args[1]}\")\n",
    "        else:\n",
    "            print(\"Unsupported number of arguments\")\n",
    "\n",
    "# Main logic\n",
    "def main():\n",
    "    calc = Calculator()\n",
    "    calc.add(5)          # Calls method with one parameter\n",
    "    calc.add(10, 20)     # Calls method with two parameters\n",
    "\n",
    "main()\n"
   ]
  },
  {
   "cell_type": "markdown",
   "id": "692c3503-22c6-4afc-b18a-14b6c2eecc8c",
   "metadata": {},
   "source": [
    "### 2. Write two methods with the same name but different number of parameters of different data type and call the methods"
   ]
  },
  {
   "cell_type": "code",
   "execution_count": 271,
   "id": "3804c3bf-e4e8-44c0-8685-3a940ff3c137",
   "metadata": {},
   "outputs": [
    {
     "name": "stdout",
     "output_type": "stream",
     "text": [
      "Integer value: 10\n",
      "String value: 'Hello'\n",
      "Two values: 10 and World\n"
     ]
    }
   ],
   "source": [
    "class Printer:\n",
    "    def print_value(self, *args):\n",
    "        if len(args) == 1:\n",
    "            if isinstance(args[0], int):\n",
    "                print(f\"Integer value: {args[0]}\")\n",
    "            elif isinstance(args[0], str):\n",
    "                print(f\"String value: '{args[0]}'\")\n",
    "            else:\n",
    "                print(\"Unsupported type\")\n",
    "        elif len(args) == 2:\n",
    "            print(f\"Two values: {args[0]} and {args[1]}\")\n",
    "        else:\n",
    "            print(\"Unsupported number of arguments\")\n",
    "\n",
    "# Main logic\n",
    "def main():\n",
    "    p = Printer()\n",
    "    p.print_value(10)           # Integer\n",
    "    p.print_value(\"Hello\")      # String\n",
    "    p.print_value(10, \"World\")  # Two values, different types\n",
    "\n",
    "main()\n"
   ]
  },
  {
   "cell_type": "markdown",
   "id": "7a4d413b-dfd7-48f6-ab9f-e2bc56d3e7ab",
   "metadata": {},
   "source": [
    "### 3. Write two methods with the same name and same number of parameters of same type"
   ]
  },
  {
   "cell_type": "code",
   "execution_count": 274,
   "id": "3411829a-9757-4bdb-8789-ef40ed5ab0ec",
   "metadata": {},
   "outputs": [
    {
     "name": "stdout",
     "output_type": "stream",
     "text": [
      "Processing integer: 25\n",
      "Processing string: HELLO\n"
     ]
    }
   ],
   "source": [
    "class Demo:\n",
    "    def process(self, value):\n",
    "        if isinstance(value, int):\n",
    "            print(f\"Processing integer: {value * value}\")\n",
    "        elif isinstance(value, str):\n",
    "            print(f\"Processing string: {value.upper()}\")\n",
    "        else:\n",
    "            print(\"Unsupported type\")\n",
    "\n",
    "# Main logic\n",
    "def main():\n",
    "    obj = Demo()\n",
    "    obj.process(5)        # Integer\n",
    "    obj.process(\"hello\")  # String\n",
    "\n",
    "main()\n"
   ]
  },
  {
   "cell_type": "markdown",
   "id": "2406502b-0f8a-4b82-9e6d-1388120317ac",
   "metadata": {},
   "source": [
    "# Exceptions"
   ]
  },
  {
   "cell_type": "markdown",
   "id": "722a40ef-8c59-4965-832b-f84bbc7bd06c",
   "metadata": {},
   "source": [
    "### 1. Write a program to generate Arithmetic Exception without exception handling"
   ]
  },
  {
   "cell_type": "code",
   "execution_count": 278,
   "id": "681ff058-3a13-4bd0-b35c-0f8d3ec3c314",
   "metadata": {},
   "outputs": [
    {
     "ename": "ZeroDivisionError",
     "evalue": "division by zero",
     "output_type": "error",
     "traceback": [
      "\u001b[1;31m---------------------------------------------------------------------------\u001b[0m",
      "\u001b[1;31mZeroDivisionError\u001b[0m                         Traceback (most recent call last)",
      "Cell \u001b[1;32mIn[278], line 7\u001b[0m\n\u001b[0;32m      4\u001b[0m     result \u001b[38;5;241m=\u001b[39m a \u001b[38;5;241m/\u001b[39m b  \u001b[38;5;66;03m# This will raise ZeroDivisionError\u001b[39;00m\n\u001b[0;32m      5\u001b[0m     \u001b[38;5;28mprint\u001b[39m(\u001b[38;5;124m\"\u001b[39m\u001b[38;5;124mResult:\u001b[39m\u001b[38;5;124m\"\u001b[39m, result)\n\u001b[1;32m----> 7\u001b[0m main()\n",
      "Cell \u001b[1;32mIn[278], line 4\u001b[0m, in \u001b[0;36mmain\u001b[1;34m()\u001b[0m\n\u001b[0;32m      2\u001b[0m a \u001b[38;5;241m=\u001b[39m \u001b[38;5;241m10\u001b[39m\n\u001b[0;32m      3\u001b[0m b \u001b[38;5;241m=\u001b[39m \u001b[38;5;241m0\u001b[39m\n\u001b[1;32m----> 4\u001b[0m result \u001b[38;5;241m=\u001b[39m a \u001b[38;5;241m/\u001b[39m b  \u001b[38;5;66;03m# This will raise ZeroDivisionError\u001b[39;00m\n\u001b[0;32m      5\u001b[0m \u001b[38;5;28mprint\u001b[39m(\u001b[38;5;124m\"\u001b[39m\u001b[38;5;124mResult:\u001b[39m\u001b[38;5;124m\"\u001b[39m, result)\n",
      "\u001b[1;31mZeroDivisionError\u001b[0m: division by zero"
     ]
    }
   ],
   "source": [
    "def main():\n",
    "    a = 10\n",
    "    b = 0\n",
    "    result = a / b  # This will raise ZeroDivisionError\n",
    "    print(\"Result:\", result)\n",
    "\n",
    "main()\n"
   ]
  },
  {
   "cell_type": "markdown",
   "id": "580b5a2d-1a47-45ef-915b-1f661143eb31",
   "metadata": {},
   "source": [
    "### 2. Handle the Arithmetic exception using try-catch block"
   ]
  },
  {
   "cell_type": "code",
   "execution_count": 281,
   "id": "660324ac-93d9-42ef-8fcd-55eedbddf1a1",
   "metadata": {},
   "outputs": [
    {
     "name": "stdout",
     "output_type": "stream",
     "text": [
      "Error: Cannot divide by zero.\n"
     ]
    }
   ],
   "source": [
    "def main():\n",
    "    a = 10\n",
    "    b = 0\n",
    "    try:\n",
    "        result = a / b\n",
    "        print(\"Result:\", result)\n",
    "    except ZeroDivisionError:\n",
    "        print(\"Error: Cannot divide by zero.\")\n",
    "\n",
    "main()\n"
   ]
  },
  {
   "cell_type": "markdown",
   "id": "8cb82853-c1f5-4b25-92e0-0e5b4ad24d05",
   "metadata": {},
   "source": [
    "### 3. Write a method which throws exception, Call that method in main class without try block"
   ]
  },
  {
   "cell_type": "code",
   "execution_count": 284,
   "id": "ff2470f3-68b1-48ce-808d-a887ea970340",
   "metadata": {},
   "outputs": [
    {
     "ename": "ValueError",
     "evalue": "Something went wrong!",
     "output_type": "error",
     "traceback": [
      "\u001b[1;31m---------------------------------------------------------------------------\u001b[0m",
      "\u001b[1;31mValueError\u001b[0m                                Traceback (most recent call last)",
      "Cell \u001b[1;32mIn[284], line 8\u001b[0m\n\u001b[0;32m      4\u001b[0m \u001b[38;5;28;01mdef\u001b[39;00m \u001b[38;5;21mmain\u001b[39m():\n\u001b[0;32m      5\u001b[0m     \u001b[38;5;66;03m# Calling without try-except\u001b[39;00m\n\u001b[0;32m      6\u001b[0m     risky_method()\n\u001b[1;32m----> 8\u001b[0m main()\n",
      "Cell \u001b[1;32mIn[284], line 6\u001b[0m, in \u001b[0;36mmain\u001b[1;34m()\u001b[0m\n\u001b[0;32m      4\u001b[0m \u001b[38;5;28;01mdef\u001b[39;00m \u001b[38;5;21mmain\u001b[39m():\n\u001b[0;32m      5\u001b[0m     \u001b[38;5;66;03m# Calling without try-except\u001b[39;00m\n\u001b[1;32m----> 6\u001b[0m     risky_method()\n",
      "Cell \u001b[1;32mIn[284], line 2\u001b[0m, in \u001b[0;36mrisky_method\u001b[1;34m()\u001b[0m\n\u001b[0;32m      1\u001b[0m \u001b[38;5;28;01mdef\u001b[39;00m \u001b[38;5;21mrisky_method\u001b[39m():\n\u001b[1;32m----> 2\u001b[0m     \u001b[38;5;28;01mraise\u001b[39;00m \u001b[38;5;167;01mValueError\u001b[39;00m(\u001b[38;5;124m\"\u001b[39m\u001b[38;5;124mSomething went wrong!\u001b[39m\u001b[38;5;124m\"\u001b[39m)\n",
      "\u001b[1;31mValueError\u001b[0m: Something went wrong!"
     ]
    }
   ],
   "source": [
    "def risky_method():\n",
    "    raise ValueError(\"Something went wrong!\")\n",
    "\n",
    "def main():\n",
    "    # Calling without try-except\n",
    "    risky_method()\n",
    "\n",
    "main()\n"
   ]
  },
  {
   "cell_type": "markdown",
   "id": "f81440bd-88d3-432b-8c83-1446e1fd320c",
   "metadata": {},
   "source": [
    "### 4. Write a program with multiple catch blocks"
   ]
  },
  {
   "cell_type": "code",
   "execution_count": 291,
   "id": "0c886e26-ba2b-4c18-a2ff-69d6e00c8749",
   "metadata": {},
   "outputs": [
    {
     "name": "stdin",
     "output_type": "stream",
     "text": [
      "Enter a number:  5\n",
      "Enter another number:  0\n"
     ]
    },
    {
     "name": "stdout",
     "output_type": "stream",
     "text": [
      "Error: Division by zero is not allowed.\n"
     ]
    }
   ],
   "source": [
    "def main():\n",
    "    try:\n",
    "        a = int(input(\"Enter a number: \"))\n",
    "        b = int(input(\"Enter another number: \"))\n",
    "        result = a / b\n",
    "        print(\"Result:\", result)\n",
    "\n",
    "    except ZeroDivisionError:\n",
    "        print(\"Error: Division by zero is not allowed.\")\n",
    "\n",
    "    except ValueError:\n",
    "        print(\"Error: Invalid input. Please enter integers only.\")\n",
    "\n",
    "    except Exception as e:\n",
    "        print(\"General Exception Caught:\", e)\n",
    "\n",
    "main()\n"
   ]
  },
  {
   "cell_type": "markdown",
   "id": "4c582bc5-91b8-4c3e-a58f-b8e619e8a016",
   "metadata": {},
   "source": [
    "### 5. Write a program to throw exception with your own message"
   ]
  },
  {
   "cell_type": "code",
   "execution_count": 294,
   "id": "666d3251-4d88-49eb-9eba-010e0d46e4ed",
   "metadata": {},
   "outputs": [
    {
     "ename": "ZeroDivisionError",
     "evalue": "Custom Error: Denominator should not be zero",
     "output_type": "error",
     "traceback": [
      "\u001b[1;31m---------------------------------------------------------------------------\u001b[0m",
      "\u001b[1;31mZeroDivisionError\u001b[0m                         Traceback (most recent call last)",
      "Cell \u001b[1;32mIn[294], line 10\u001b[0m\n\u001b[0;32m      7\u001b[0m     result \u001b[38;5;241m=\u001b[39m divide(\u001b[38;5;241m10\u001b[39m, \u001b[38;5;241m0\u001b[39m)\n\u001b[0;32m      8\u001b[0m     \u001b[38;5;28mprint\u001b[39m(\u001b[38;5;124m\"\u001b[39m\u001b[38;5;124mResult:\u001b[39m\u001b[38;5;124m\"\u001b[39m, result)\n\u001b[1;32m---> 10\u001b[0m main()\n",
      "Cell \u001b[1;32mIn[294], line 7\u001b[0m, in \u001b[0;36mmain\u001b[1;34m()\u001b[0m\n\u001b[0;32m      6\u001b[0m \u001b[38;5;28;01mdef\u001b[39;00m \u001b[38;5;21mmain\u001b[39m():\n\u001b[1;32m----> 7\u001b[0m     result \u001b[38;5;241m=\u001b[39m divide(\u001b[38;5;241m10\u001b[39m, \u001b[38;5;241m0\u001b[39m)\n\u001b[0;32m      8\u001b[0m     \u001b[38;5;28mprint\u001b[39m(\u001b[38;5;124m\"\u001b[39m\u001b[38;5;124mResult:\u001b[39m\u001b[38;5;124m\"\u001b[39m, result)\n",
      "Cell \u001b[1;32mIn[294], line 3\u001b[0m, in \u001b[0;36mdivide\u001b[1;34m(a, b)\u001b[0m\n\u001b[0;32m      1\u001b[0m \u001b[38;5;28;01mdef\u001b[39;00m \u001b[38;5;21mdivide\u001b[39m(a, b):\n\u001b[0;32m      2\u001b[0m     \u001b[38;5;28;01mif\u001b[39;00m b \u001b[38;5;241m==\u001b[39m \u001b[38;5;241m0\u001b[39m:\n\u001b[1;32m----> 3\u001b[0m         \u001b[38;5;28;01mraise\u001b[39;00m \u001b[38;5;167;01mZeroDivisionError\u001b[39;00m(\u001b[38;5;124m\"\u001b[39m\u001b[38;5;124mCustom Error: Denominator should not be zero\u001b[39m\u001b[38;5;124m\"\u001b[39m)\n\u001b[0;32m      4\u001b[0m     \u001b[38;5;28;01mreturn\u001b[39;00m a \u001b[38;5;241m/\u001b[39m b\n",
      "\u001b[1;31mZeroDivisionError\u001b[0m: Custom Error: Denominator should not be zero"
     ]
    }
   ],
   "source": [
    "def divide(a, b):\n",
    "    if b == 0:\n",
    "        raise ZeroDivisionError(\"Custom Error: Denominator should not be zero\")\n",
    "    return a / b\n",
    "\n",
    "def main():\n",
    "    result = divide(10, 0)\n",
    "    print(\"Result:\", result)\n",
    "\n",
    "main()\n"
   ]
  },
  {
   "cell_type": "markdown",
   "id": "48b402d0-60b1-427e-ae7f-c2681db64a56",
   "metadata": {},
   "source": [
    "### 6. Write a program to create your own exception"
   ]
  },
  {
   "cell_type": "code",
   "execution_count": 310,
   "id": "cd94cd14-45c8-439e-aa05-2c717e546159",
   "metadata": {},
   "outputs": [
    {
     "name": "stdin",
     "output_type": "stream",
     "text": [
      "Enter your age:  13\n"
     ]
    },
    {
     "name": "stdout",
     "output_type": "stream",
     "text": [
      "Custom Exception Caught: Age must be 18 or above to register.\n"
     ]
    }
   ],
   "source": [
    "# Define your own exception class\n",
    "class MyCustomException(Exception):\n",
    "    def __init__(self, message):\n",
    "        super().__init__(message)\n",
    "\n",
    "# Function that raises the custom exception\n",
    "def check_age(age):\n",
    "    if age < 18:\n",
    "        raise MyCustomException(\"Age must be 18 or above to register.\")\n",
    "    else:\n",
    "        print(\"Registration successful!\")\n",
    "\n",
    "# Main logic\n",
    "def main():\n",
    "    age = int(input(\"Enter your age: \"))\n",
    "    try:\n",
    "        check_age(age)\n",
    "    except MyCustomException as e:\n",
    "        print(\"Custom Exception Caught:\", e)\n",
    "\n",
    "main()\n"
   ]
  },
  {
   "cell_type": "markdown",
   "id": "b280ed5f-fb16-43b9-9427-9d0c0764a141",
   "metadata": {},
   "source": [
    "### 7. Write a program with finally block"
   ]
  },
  {
   "cell_type": "code",
   "execution_count": 306,
   "id": "4a875319-b54a-4e49-89f0-73c573831ec8",
   "metadata": {},
   "outputs": [
    {
     "name": "stdout",
     "output_type": "stream",
     "text": [
      "Result: 5.0\n",
      "This will always execute (finally block).\n",
      "Error: Division by zero is not allowed.\n",
      "This will always execute (finally block).\n"
     ]
    }
   ],
   "source": [
    "def divide_numbers(a, b):\n",
    "    try:\n",
    "        result = a / b\n",
    "        print(\"Result:\", result)\n",
    "    except ZeroDivisionError:\n",
    "        print(\"Error: Division by zero is not allowed.\")\n",
    "    finally:\n",
    "        print(\"This will always execute (finally block).\")\n",
    "\n",
    "# Main logic\n",
    "def main():\n",
    "    divide_numbers(10, 2)   # No exception\n",
    "    divide_numbers(10, 0)   # Will cause exception\n",
    "\n",
    "main()\n"
   ]
  },
  {
   "cell_type": "markdown",
   "id": "73f4c4f5-2a38-4d9b-8b8c-d4220f27a6d4",
   "metadata": {},
   "source": [
    "### 8. Write a program to generate Arithmetic Exception"
   ]
  },
  {
   "cell_type": "code",
   "execution_count": 314,
   "id": "7fe4f471-f552-4be1-bb93-8c6320f22f70",
   "metadata": {},
   "outputs": [
    {
     "ename": "ZeroDivisionError",
     "evalue": "division by zero",
     "output_type": "error",
     "traceback": [
      "\u001b[1;31m---------------------------------------------------------------------------\u001b[0m",
      "\u001b[1;31mZeroDivisionError\u001b[0m                         Traceback (most recent call last)",
      "Cell \u001b[1;32mIn[314], line 7\u001b[0m\n\u001b[0;32m      4\u001b[0m     result \u001b[38;5;241m=\u001b[39m a \u001b[38;5;241m/\u001b[39m b  \u001b[38;5;66;03m# This will raise a ZeroDivisionError\u001b[39;00m\n\u001b[0;32m      5\u001b[0m     \u001b[38;5;28mprint\u001b[39m(\u001b[38;5;124m\"\u001b[39m\u001b[38;5;124mResult:\u001b[39m\u001b[38;5;124m\"\u001b[39m, result)\n\u001b[1;32m----> 7\u001b[0m generate_arithmetic_exception()\n",
      "Cell \u001b[1;32mIn[314], line 4\u001b[0m, in \u001b[0;36mgenerate_arithmetic_exception\u001b[1;34m()\u001b[0m\n\u001b[0;32m      2\u001b[0m a \u001b[38;5;241m=\u001b[39m \u001b[38;5;241m10\u001b[39m\n\u001b[0;32m      3\u001b[0m b \u001b[38;5;241m=\u001b[39m \u001b[38;5;241m0\u001b[39m\n\u001b[1;32m----> 4\u001b[0m result \u001b[38;5;241m=\u001b[39m a \u001b[38;5;241m/\u001b[39m b  \u001b[38;5;66;03m# This will raise a ZeroDivisionError\u001b[39;00m\n\u001b[0;32m      5\u001b[0m \u001b[38;5;28mprint\u001b[39m(\u001b[38;5;124m\"\u001b[39m\u001b[38;5;124mResult:\u001b[39m\u001b[38;5;124m\"\u001b[39m, result)\n",
      "\u001b[1;31mZeroDivisionError\u001b[0m: division by zero"
     ]
    }
   ],
   "source": [
    "def generate_arithmetic_exception():\n",
    "    a = 10\n",
    "    b = 0\n",
    "    result = a / b  # This will raise a ZeroDivisionError\n",
    "    print(\"Result:\", result)\n",
    "\n",
    "generate_arithmetic_exception()\n"
   ]
  },
  {
   "cell_type": "markdown",
   "id": "bde97eeb-1591-4dd5-9630-f33ab6534834",
   "metadata": {},
   "source": [
    "### 9. Write a program to generate FileNotFoundException"
   ]
  },
  {
   "cell_type": "code",
   "execution_count": 317,
   "id": "69944151-d76e-4a4a-81ab-666eabab7f8a",
   "metadata": {},
   "outputs": [
    {
     "ename": "FileNotFoundError",
     "evalue": "[Errno 2] No such file or directory: 'non_existent_file.txt'",
     "output_type": "error",
     "traceback": [
      "\u001b[1;31m---------------------------------------------------------------------------\u001b[0m",
      "\u001b[1;31mFileNotFoundError\u001b[0m                         Traceback (most recent call last)",
      "Cell \u001b[1;32mIn[317], line 8\u001b[0m\n\u001b[0;32m      5\u001b[0m     \u001b[38;5;28mprint\u001b[39m(content)\n\u001b[0;32m      6\u001b[0m     file\u001b[38;5;241m.\u001b[39mclose()\n\u001b[1;32m----> 8\u001b[0m generate_file_not_found()\n",
      "Cell \u001b[1;32mIn[317], line 3\u001b[0m, in \u001b[0;36mgenerate_file_not_found\u001b[1;34m()\u001b[0m\n\u001b[0;32m      1\u001b[0m \u001b[38;5;28;01mdef\u001b[39;00m \u001b[38;5;21mgenerate_file_not_found\u001b[39m():\n\u001b[0;32m      2\u001b[0m     \u001b[38;5;66;03m# Try to open a file that doesn't exist\u001b[39;00m\n\u001b[1;32m----> 3\u001b[0m     file \u001b[38;5;241m=\u001b[39m \u001b[38;5;28mopen\u001b[39m(\u001b[38;5;124m\"\u001b[39m\u001b[38;5;124mnon_existent_file.txt\u001b[39m\u001b[38;5;124m\"\u001b[39m, \u001b[38;5;124m\"\u001b[39m\u001b[38;5;124mr\u001b[39m\u001b[38;5;124m\"\u001b[39m)\n\u001b[0;32m      4\u001b[0m     content \u001b[38;5;241m=\u001b[39m file\u001b[38;5;241m.\u001b[39mread()\n\u001b[0;32m      5\u001b[0m     \u001b[38;5;28mprint\u001b[39m(content)\n",
      "File \u001b[1;32m~\\anaconda3\\Lib\\site-packages\\IPython\\core\\interactiveshell.py:324\u001b[0m, in \u001b[0;36m_modified_open\u001b[1;34m(file, *args, **kwargs)\u001b[0m\n\u001b[0;32m    317\u001b[0m \u001b[38;5;28;01mif\u001b[39;00m file \u001b[38;5;129;01min\u001b[39;00m {\u001b[38;5;241m0\u001b[39m, \u001b[38;5;241m1\u001b[39m, \u001b[38;5;241m2\u001b[39m}:\n\u001b[0;32m    318\u001b[0m     \u001b[38;5;28;01mraise\u001b[39;00m \u001b[38;5;167;01mValueError\u001b[39;00m(\n\u001b[0;32m    319\u001b[0m         \u001b[38;5;124mf\u001b[39m\u001b[38;5;124m\"\u001b[39m\u001b[38;5;124mIPython won\u001b[39m\u001b[38;5;124m'\u001b[39m\u001b[38;5;124mt let you open fd=\u001b[39m\u001b[38;5;132;01m{\u001b[39;00mfile\u001b[38;5;132;01m}\u001b[39;00m\u001b[38;5;124m by default \u001b[39m\u001b[38;5;124m\"\u001b[39m\n\u001b[0;32m    320\u001b[0m         \u001b[38;5;124m\"\u001b[39m\u001b[38;5;124mas it is likely to crash IPython. If you know what you are doing, \u001b[39m\u001b[38;5;124m\"\u001b[39m\n\u001b[0;32m    321\u001b[0m         \u001b[38;5;124m\"\u001b[39m\u001b[38;5;124myou can use builtins\u001b[39m\u001b[38;5;124m'\u001b[39m\u001b[38;5;124m open.\u001b[39m\u001b[38;5;124m\"\u001b[39m\n\u001b[0;32m    322\u001b[0m     )\n\u001b[1;32m--> 324\u001b[0m \u001b[38;5;28;01mreturn\u001b[39;00m io_open(file, \u001b[38;5;241m*\u001b[39margs, \u001b[38;5;241m*\u001b[39m\u001b[38;5;241m*\u001b[39mkwargs)\n",
      "\u001b[1;31mFileNotFoundError\u001b[0m: [Errno 2] No such file or directory: 'non_existent_file.txt'"
     ]
    }
   ],
   "source": [
    "def generate_file_not_found():\n",
    "    # Try to open a file that doesn't exist\n",
    "    file = open(\"non_existent_file.txt\", \"r\")\n",
    "    content = file.read()\n",
    "    print(content)\n",
    "    file.close()\n",
    "\n",
    "generate_file_not_found()\n"
   ]
  },
  {
   "cell_type": "markdown",
   "id": "978546d1-9930-4e0c-aaf2-71bb75b69f0b",
   "metadata": {},
   "source": [
    "### 10. Write a program to generate ClassNotFoundException"
   ]
  },
  {
   "cell_type": "code",
   "execution_count": 320,
   "id": "78b0dcee-5911-47c2-9415-bb58cacb49fa",
   "metadata": {},
   "outputs": [
    {
     "name": "stdout",
     "output_type": "stream",
     "text": [
      "Simulated ClassNotFoundException: No module named 'nonexistent_module'\n",
      "Simulated ClassNotFoundException: cannot import name 'NonExistentClass' from 'math' (unknown location)\n"
     ]
    }
   ],
   "source": [
    "def generate_class_not_found():\n",
    "    try:\n",
    "        # Try to import a module that doesn't exist\n",
    "        import nonexistent_module\n",
    "    except ImportError as e:\n",
    "        print(\"Simulated ClassNotFoundException:\", e)\n",
    "\n",
    "    try:\n",
    "        # Try to access a class that doesn't exist in an existing module\n",
    "        from math import NonExistentClass\n",
    "    except ImportError as e:\n",
    "        print(\"Simulated ClassNotFoundException:\", e)\n",
    "\n",
    "generate_class_not_found()\n"
   ]
  },
  {
   "cell_type": "markdown",
   "id": "0ea68697-9da7-4885-965e-25c57e616745",
   "metadata": {},
   "source": [
    "### 11. Write a program to generate IOException"
   ]
  },
  {
   "cell_type": "code",
   "execution_count": 325,
   "id": "796ec19c-82bd-430d-a3e5-7c74359f0557",
   "metadata": {},
   "outputs": [
    {
     "ename": "OSError",
     "evalue": "Simulated I/O error",
     "output_type": "error",
     "traceback": [
      "\u001b[1;31m---------------------------------------------------------------------------\u001b[0m",
      "\u001b[1;31mOSError\u001b[0m                                   Traceback (most recent call last)",
      "Cell \u001b[1;32mIn[325], line 4\u001b[0m\n\u001b[0;32m      1\u001b[0m \u001b[38;5;28;01mdef\u001b[39;00m \u001b[38;5;21mthrow_io_error\u001b[39m():\n\u001b[0;32m      2\u001b[0m     \u001b[38;5;28;01mraise\u001b[39;00m \u001b[38;5;167;01mOSError\u001b[39;00m(\u001b[38;5;124m\"\u001b[39m\u001b[38;5;124mSimulated I/O error\u001b[39m\u001b[38;5;124m\"\u001b[39m)\n\u001b[1;32m----> 4\u001b[0m throw_io_error()\n",
      "Cell \u001b[1;32mIn[325], line 2\u001b[0m, in \u001b[0;36mthrow_io_error\u001b[1;34m()\u001b[0m\n\u001b[0;32m      1\u001b[0m \u001b[38;5;28;01mdef\u001b[39;00m \u001b[38;5;21mthrow_io_error\u001b[39m():\n\u001b[1;32m----> 2\u001b[0m     \u001b[38;5;28;01mraise\u001b[39;00m \u001b[38;5;167;01mOSError\u001b[39;00m(\u001b[38;5;124m\"\u001b[39m\u001b[38;5;124mSimulated I/O error\u001b[39m\u001b[38;5;124m\"\u001b[39m)\n",
      "\u001b[1;31mOSError\u001b[0m: Simulated I/O error"
     ]
    }
   ],
   "source": [
    "def throw_io_error():\n",
    "    raise OSError(\"Simulated I/O error\")\n",
    "\n",
    "throw_io_error()\n"
   ]
  },
  {
   "cell_type": "markdown",
   "id": "361ded29-93c7-45c8-bf81-f47ca1342866",
   "metadata": {},
   "source": [
    "### 12. Write a program to generate NoSuchFieldException"
   ]
  },
  {
   "cell_type": "code",
   "execution_count": 328,
   "id": "f7158abc-17b1-4f74-a981-f8cc279e357f",
   "metadata": {},
   "outputs": [
    {
     "name": "stdout",
     "output_type": "stream",
     "text": [
      "Name: Alice\n"
     ]
    },
    {
     "ename": "AttributeError",
     "evalue": "'Person' object has no attribute 'age'",
     "output_type": "error",
     "traceback": [
      "\u001b[1;31m---------------------------------------------------------------------------\u001b[0m",
      "\u001b[1;31mAttributeError\u001b[0m                            Traceback (most recent call last)",
      "Cell \u001b[1;32mIn[328], line 10\u001b[0m\n\u001b[0;32m      7\u001b[0m     \u001b[38;5;28mprint\u001b[39m(\u001b[38;5;124m\"\u001b[39m\u001b[38;5;124mName:\u001b[39m\u001b[38;5;124m\"\u001b[39m, p\u001b[38;5;241m.\u001b[39mname)  \u001b[38;5;66;03m# This works\u001b[39;00m\n\u001b[0;32m      8\u001b[0m     \u001b[38;5;28mprint\u001b[39m(\u001b[38;5;124m\"\u001b[39m\u001b[38;5;124mAge:\u001b[39m\u001b[38;5;124m\"\u001b[39m, p\u001b[38;5;241m.\u001b[39mage)    \u001b[38;5;66;03m# This will raise AttributeError\u001b[39;00m\n\u001b[1;32m---> 10\u001b[0m generate_no_such_field()\n",
      "Cell \u001b[1;32mIn[328], line 8\u001b[0m, in \u001b[0;36mgenerate_no_such_field\u001b[1;34m()\u001b[0m\n\u001b[0;32m      6\u001b[0m p \u001b[38;5;241m=\u001b[39m Person()\n\u001b[0;32m      7\u001b[0m \u001b[38;5;28mprint\u001b[39m(\u001b[38;5;124m\"\u001b[39m\u001b[38;5;124mName:\u001b[39m\u001b[38;5;124m\"\u001b[39m, p\u001b[38;5;241m.\u001b[39mname)  \u001b[38;5;66;03m# This works\u001b[39;00m\n\u001b[1;32m----> 8\u001b[0m \u001b[38;5;28mprint\u001b[39m(\u001b[38;5;124m\"\u001b[39m\u001b[38;5;124mAge:\u001b[39m\u001b[38;5;124m\"\u001b[39m, p\u001b[38;5;241m.\u001b[39mage)\n",
      "\u001b[1;31mAttributeError\u001b[0m: 'Person' object has no attribute 'age'"
     ]
    }
   ],
   "source": [
    "class Person:\n",
    "    def __init__(self):\n",
    "        self.name = \"Alice\"\n",
    "\n",
    "def generate_no_such_field():\n",
    "    p = Person()\n",
    "    print(\"Name:\", p.name)  # This works\n",
    "    print(\"Age:\", p.age)    # This will raise AttributeError\n",
    "\n",
    "generate_no_such_field()\n"
   ]
  },
  {
   "cell_type": "markdown",
   "id": "d0374eb2-ab30-470c-b4e9-29e6ed8b6de3",
   "metadata": {},
   "source": [
    "# Dictionary"
   ]
  },
  {
   "cell_type": "markdown",
   "id": "5333e913-c8ec-402e-aa9a-f1835c9f6395",
   "metadata": {},
   "source": [
    "### 1. Create a Dictionary with at least 5 key value pairs of the Student ID and Name\n",
    "#### 1.1. Adding the values in dictionary\n",
    "#### 1.2. Updating the values in dictionary\n",
    "#### 1.3. Accessing the value in dictionary\n",
    "#### 1.4. Create a nested loop dictionary\n",
    "#### 1.5. Access the values of nested loop dictionary\n",
    "#### 1.6. Print the keys present in a particular dictionary\n",
    "#### 1.7. Delete a value from a dictionary"
   ]
  },
  {
   "cell_type": "code",
   "execution_count": 332,
   "id": "a350f1ce-850f-4ecc-924f-ad4b80dab1f8",
   "metadata": {},
   "outputs": [
    {
     "name": "stdout",
     "output_type": "stream",
     "text": [
      "Initial Dictionary:\n",
      "{'S001': 'Alice', 'S002': 'Bob', 'S003': 'Charlie', 'S004': 'David', 'S005': 'Eve'}\n",
      "\n",
      "After Updating S003:\n",
      "{'S001': 'Alice', 'S002': 'Bob', 'S003': 'Charles', 'S004': 'David', 'S005': 'Eve'}\n",
      "\n",
      "Accessing S002:\n",
      "S002 -> Bob\n",
      "\n",
      "Nested Dictionary:\n",
      "{'S001': {'name': 'Alice', 'age': 20, 'grade': 'A'}, 'S002': {'name': 'Bob', 'age': 21, 'grade': 'B'}, 'S003': {'name': 'Charles', 'age': 22, 'grade': 'A'}}\n",
      "\n",
      "Accessing age of S002:\n",
      "S002 age -> 21\n",
      "\n",
      "Keys in main students dictionary:\n",
      "dict_keys(['S001', 'S002', 'S003', 'S004', 'S005'])\n",
      "\n",
      "After Deleting S005:\n",
      "{'S001': 'Alice', 'S002': 'Bob', 'S003': 'Charles', 'S004': 'David'}\n"
     ]
    }
   ],
   "source": [
    "# 1.1 Adding values to the dictionary\n",
    "students = {\n",
    "    \"S001\": \"Alice\",\n",
    "    \"S002\": \"Bob\",\n",
    "    \"S003\": \"Charlie\",\n",
    "    \"S004\": \"David\",\n",
    "    \"S005\": \"Eve\"\n",
    "}\n",
    "print(\"Initial Dictionary:\")\n",
    "print(students)\n",
    "\n",
    "# 1.2 Updating values in the dictionary\n",
    "students[\"S003\"] = \"Charles\"\n",
    "print(\"\\nAfter Updating S003:\")\n",
    "print(students)\n",
    "\n",
    "# 1.3 Accessing a value in the dictionary\n",
    "print(\"\\nAccessing S002:\")\n",
    "print(\"S002 ->\", students[\"S002\"])\n",
    "\n",
    "# 1.4 Creating a nested loop dictionary\n",
    "nested_students = {\n",
    "    \"S001\": {\"name\": \"Alice\", \"age\": 20, \"grade\": \"A\"},\n",
    "    \"S002\": {\"name\": \"Bob\", \"age\": 21, \"grade\": \"B\"},\n",
    "    \"S003\": {\"name\": \"Charles\", \"age\": 22, \"grade\": \"A\"},\n",
    "}\n",
    "\n",
    "print(\"\\nNested Dictionary:\")\n",
    "print(nested_students)\n",
    "\n",
    "# 1.5 Accessing values in nested dictionary\n",
    "print(\"\\nAccessing age of S002:\")\n",
    "print(\"S002 age ->\", nested_students[\"S002\"][\"age\"])\n",
    "\n",
    "# 1.6 Printing keys in dictionary\n",
    "print(\"\\nKeys in main students dictionary:\")\n",
    "print(students.keys())\n",
    "\n",
    "# 1.7 Deleting a value from the dictionary\n",
    "del students[\"S005\"]\n",
    "print(\"\\nAfter Deleting S005:\")\n",
    "print(students)\n"
   ]
  },
  {
   "cell_type": "markdown",
   "id": "9e1c9986-80a2-49b6-8754-ed6e0a7ce588",
   "metadata": {},
   "source": [
    "# END OF PYTHON ASSESSMENT"
   ]
  },
  {
   "cell_type": "code",
   "execution_count": null,
   "id": "db282c83-c5bc-4504-af97-de4ebb752cd8",
   "metadata": {},
   "outputs": [],
   "source": []
  }
 ],
 "metadata": {
  "kernelspec": {
   "display_name": "Python [conda env:base] *",
   "language": "python",
   "name": "conda-base-py"
  },
  "language_info": {
   "codemirror_mode": {
    "name": "ipython",
    "version": 3
   },
   "file_extension": ".py",
   "mimetype": "text/x-python",
   "name": "python",
   "nbconvert_exporter": "python",
   "pygments_lexer": "ipython3",
   "version": "3.12.7"
  }
 },
 "nbformat": 4,
 "nbformat_minor": 5
}
